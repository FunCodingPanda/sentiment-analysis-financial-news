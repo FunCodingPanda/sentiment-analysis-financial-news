{
 "cells": [
  {
   "cell_type": "markdown",
   "metadata": {},
   "source": [
    "# Recurrent Nueral Netword for Sentiment Analysis"
   ]
  },
  {
   "cell_type": "code",
   "execution_count": 1,
   "metadata": {},
   "outputs": [],
   "source": [
    "import loadArticles\n",
    "import loadStockInfo\n",
    "import textProcessing\n",
    "\n",
    "import en_core_web_lg\n",
    "\n",
    "import requests\n",
    "import urllib.parse\n",
    "from urllib.request import urlopen, Request\n",
    "from bs4 import BeautifulSoup\n",
    "\n",
    "import pandas as pd\n",
    "import numpy as np\n",
    "import string\n",
    "import matplotlib.pyplot as plt\n",
    "import seaborn as sns\n",
    "\n",
    "from spacy.gold import GoldParse\n",
    "from spacy.pipeline import EntityRecognizer\n",
    "from spacy.tokens import Doc\n",
    "from spacy.pipeline import EntityRuler"
   ]
  },
  {
   "cell_type": "code",
   "execution_count": 2,
   "metadata": {},
   "outputs": [],
   "source": [
    "#import sklearn packages\n",
    "from sklearn.utils import resample\n",
    "from sklearn.model_selection import train_test_split\n",
    "from sklearn.preprocessing import StandardScaler\n",
    "from sklearn.preprocessing import Normalizer\n",
    "\n",
    "from sklearn.feature_extraction.text import CountVectorizer\n",
    "from sklearn.model_selection import cross_val_score\n",
    "\n",
    "from sklearn.metrics import classification_report\n",
    "from sklearn.metrics import confusion_matrix\n",
    "#from sklearn.metrics import ConfusionMatrixDisplay\n",
    "from sklearn.pipeline import Pipeline\n",
    "\n",
    "from sklearn.decomposition import PCA\n",
    "from sklearn.linear_model import LogisticRegression\n",
    "from sklearn.tree import DecisionTreeClassifier"
   ]
  },
  {
   "cell_type": "code",
   "execution_count": 3,
   "metadata": {},
   "outputs": [],
   "source": [
    "from tensorflow.keras.models import Sequential\n",
    "from tensorflow.keras.layers import Dense, Dropout, Embedding, LSTM, BatchNormalization, Flatten\n",
    "from tensorflow.keras.optimizers import SGD\n",
    "from tensorflow.keras.utils import plot_model\n",
    "from tensorflow.keras.models import model_from_json"
   ]
  },
  {
   "cell_type": "markdown",
   "metadata": {},
   "source": [
    "## Load News Articles with Sentiment"
   ]
  },
  {
   "cell_type": "code",
   "execution_count": 4,
   "metadata": {},
   "outputs": [
    {
     "data": {
      "text/html": [
       "<div>\n",
       "<style scoped>\n",
       "    .dataframe tbody tr th:only-of-type {\n",
       "        vertical-align: middle;\n",
       "    }\n",
       "\n",
       "    .dataframe tbody tr th {\n",
       "        vertical-align: top;\n",
       "    }\n",
       "\n",
       "    .dataframe thead th {\n",
       "        text-align: right;\n",
       "    }\n",
       "</style>\n",
       "<table border=\"1\" class=\"dataframe\">\n",
       "  <thead>\n",
       "    <tr style=\"text-align: right;\">\n",
       "      <th></th>\n",
       "      <th>ticker</th>\n",
       "      <th>title</th>\n",
       "      <th>sentiment</th>\n",
       "      <th>date</th>\n",
       "    </tr>\n",
       "  </thead>\n",
       "  <tbody>\n",
       "    <tr>\n",
       "      <td>0</td>\n",
       "      <td>FB</td>\n",
       "      <td>By Refusing to Act, Is Zuckerberg Hurting Face...</td>\n",
       "      <td>Neutral</td>\n",
       "      <td>Sat, 06 Jun 2020 12:23:00 -0400</td>\n",
       "    </tr>\n",
       "    <tr>\n",
       "      <td>1</td>\n",
       "      <td>FB</td>\n",
       "      <td>Zuckerberg: Facebook will review policies afte...</td>\n",
       "      <td>Neutral</td>\n",
       "      <td>Sat, 06 Jun 2020 00:24:13 -0400</td>\n",
       "    </tr>\n",
       "    <tr>\n",
       "      <td>2</td>\n",
       "      <td>FB</td>\n",
       "      <td>Facebook, Instagram Take Down Trump George Flo...</td>\n",
       "      <td>Neutral</td>\n",
       "      <td>Fri, 05 Jun 2020 23:50:21 -0400</td>\n",
       "    </tr>\n",
       "    <tr>\n",
       "      <td>3</td>\n",
       "      <td>FB</td>\n",
       "      <td>After Employee Backlash Over Trump Posts, Zuck...</td>\n",
       "      <td>Neutral</td>\n",
       "      <td>Fri, 05 Jun 2020 22:36:29 -0400</td>\n",
       "    </tr>\n",
       "    <tr>\n",
       "      <td>4</td>\n",
       "      <td>FB</td>\n",
       "      <td>Facebook's Zuckerberg promises a review of con...</td>\n",
       "      <td>Neutral</td>\n",
       "      <td>Fri, 05 Jun 2020 20:23:01 -0400</td>\n",
       "    </tr>\n",
       "  </tbody>\n",
       "</table>\n",
       "</div>"
      ],
      "text/plain": [
       "  ticker                                              title sentiment  \\\n",
       "0     FB  By Refusing to Act, Is Zuckerberg Hurting Face...   Neutral   \n",
       "1     FB  Zuckerberg: Facebook will review policies afte...   Neutral   \n",
       "2     FB  Facebook, Instagram Take Down Trump George Flo...   Neutral   \n",
       "3     FB  After Employee Backlash Over Trump Posts, Zuck...   Neutral   \n",
       "4     FB  Facebook's Zuckerberg promises a review of con...   Neutral   \n",
       "\n",
       "                              date  \n",
       "0  Sat, 06 Jun 2020 12:23:00 -0400  \n",
       "1  Sat, 06 Jun 2020 00:24:13 -0400  \n",
       "2  Fri, 05 Jun 2020 23:50:21 -0400  \n",
       "3  Fri, 05 Jun 2020 22:36:29 -0400  \n",
       "4  Fri, 05 Jun 2020 20:23:01 -0400  "
      ]
     },
     "execution_count": 4,
     "metadata": {},
     "output_type": "execute_result"
    }
   ],
   "source": [
    "#loading news articles\n",
    "news_sent_by_ticker = pd.read_csv(\"../../data/news/final_news_sent.csv\")\n",
    "news_sent_by_ticker.head()"
   ]
  },
  {
   "cell_type": "code",
   "execution_count": 5,
   "metadata": {},
   "outputs": [],
   "source": [
    "#change sentiment to numeric\n",
    "news_sent_by_ticker['sentiment'] = np.where(news_sent_by_ticker['sentiment']=='Neutral', 0, news_sent_by_ticker['sentiment'])\n",
    "news_sent_by_ticker['sentiment'] = np.where(news_sent_by_ticker['sentiment']=='Positive', 1, news_sent_by_ticker['sentiment'])\n",
    "news_sent_by_ticker['sentiment'] = np.where(news_sent_by_ticker['sentiment']=='Negative', -1, news_sent_by_ticker['sentiment'])"
   ]
  },
  {
   "cell_type": "code",
   "execution_count": 6,
   "metadata": {},
   "outputs": [
    {
     "data": {
      "text/plain": [
       "0   2020-06-06\n",
       "1   2020-06-06\n",
       "2   2020-06-06\n",
       "3   2020-06-06\n",
       "4   2020-06-06\n",
       "Name: date, dtype: datetime64[ns]"
      ]
     },
     "execution_count": 6,
     "metadata": {},
     "output_type": "execute_result"
    }
   ],
   "source": [
    "#change date to datetime object\n",
    "news_sent_by_ticker['date'] = pd.to_datetime(pd.to_datetime(news_sent_by_ticker['date'], utc=True).dt.date)\n",
    "news_sent_by_ticker['date'].head()"
   ]
  },
  {
   "cell_type": "code",
   "execution_count": 7,
   "metadata": {},
   "outputs": [],
   "source": [
    "#make sentiment type int\n",
    "news_sent_by_ticker = news_sent_by_ticker.astype({'sentiment': 'int32'})"
   ]
  },
  {
   "cell_type": "code",
   "execution_count": 8,
   "metadata": {},
   "outputs": [],
   "source": [
    "# I will organize sentiment by ticker so we can focus on a few ticker prices and predictions\n",
    "news_sent_dict = dict()\n",
    "for symbol, df_news in news_sent_by_ticker.groupby('ticker'):\n",
    "    news_sent_dict[symbol] = df_news.drop(columns=['title']).sort_values(by=['date'])"
   ]
  },
  {
   "cell_type": "code",
   "execution_count": 48,
   "metadata": {},
   "outputs": [],
   "source": [
    "#load in stock symbols and company names for use\n",
    "stock_meta_df = pd.read_csv('../../data/stocks/stock-market-dataset/symbols_valid_meta.csv', index_col=0)\n",
    "stock_meta_df['Tag'] = 'ORG'"
   ]
  },
  {
   "cell_type": "markdown",
   "metadata": {},
   "source": [
    "### Distribution of Sentiment"
   ]
  },
  {
   "cell_type": "code",
   "execution_count": 9,
   "metadata": {},
   "outputs": [
    {
     "data": {
      "image/png": "[encoded data removed]",
      "text/plain": [
       "<Figure size 1080x864 with 1 Axes>"
      ]
     },
     "metadata": {},
     "output_type": "display_data"
    }
   ],
   "source": [
    "plt.figure(figsize=(15,12))\n",
    "sns.barplot(x=news_sent_by_ticker['sentiment'].value_counts().index, y=news_sent_by_ticker['sentiment'].value_counts())\n",
    "plt.xlabel(\"Sentiment (Positive - Neutral - Negative)\", size=14)\n",
    "plt.ylabel(\"Number of Headlines\", size=14)\n",
    "plt.title(\"Count of Headlines by Sentiment\", size=18)\n",
    "plt.show()"
   ]
  },
  {
   "cell_type": "markdown",
   "metadata": {},
   "source": [
    "### CountVectorizer with Spacy"
   ]
  },
  {
   "cell_type": "code",
   "execution_count": 49,
   "metadata": {},
   "outputs": [],
   "source": [
    "#create more fine tuned nlp rules for spacy\n",
    "#get entities from article headline\n",
    "nlp = en_core_web_lg.load()\n",
    "ruler = EntityRuler(nlp)\n",
    "\n",
    "#creating pattersn for entity ruler\n",
    "temp_df1 = stock_meta_df[['Tag', 'Symbol']]\n",
    "temp_df1.columns = ['label', 'pattern']\n",
    "temp_df2 = stock_meta_df[['Tag', 'Name']]\n",
    "temp_df2.columns = ['label', 'pattern']\n",
    "\n",
    "temp_df = pd.concat([temp_df1, temp_df2])\n",
    "\n",
    "#set patterns\n",
    "patterns = temp_df.to_dict('records')\n",
    "#add patterns to ruler\n",
    "ruler.add_patterns(patterns)\n",
    "#add ruler to nlp\n",
    "nlp.add_pipe(ruler)\n",
    "\n",
    "tp = textProcessing.textProcessing(nlp)"
   ]
  },
  {
   "cell_type": "code",
   "execution_count": 50,
   "metadata": {},
   "outputs": [],
   "source": [
    "#create tokenizing function\n",
    "def tokenizeSpacy(sentence):\n",
    "    try:\n",
    "        for punctuation_mark in string.punctuation:\n",
    "            # Remove punctuation and set to lower case\n",
    "            sentence = sentence.replace(punctuation_mark,'').lower()\n",
    "\n",
    "        doc = nlp(sentence)\n",
    "\n",
    "        listofwords = list()\n",
    "        for token in doc:\n",
    "            if not token.is_stop:\n",
    "                if token.is_alpha:\n",
    "                    listofwords.append(token.lemma_.strip().lower())\n",
    "\n",
    "        return listofwords\n",
    "    except Exception as e:\n",
    "        print(f\"Something went wrong in tokenizeSpacy: {e}\")"
   ]
  },
  {
   "cell_type": "markdown",
   "metadata": {},
   "source": [
    "### Split Data and Train, Transform with CountVectorizer"
   ]
  },
  {
   "cell_type": "code",
   "execution_count": 68,
   "metadata": {},
   "outputs": [],
   "source": [
    "#only use data from negative and positive reviews\n",
    "#set X and y (use only 20% for testing)\n",
    "sampled_data = resample(news_sent_by_ticker[['title', 'sentiment']], n_samples=news_sent_by_ticker.shape[0]*0.2, replace=False, stratify=news_sent_by_ticker['sentiment'], random_state=0)\n",
    "X = sampled_data['title']\n",
    "y = sampled_data['sentiment']"
   ]
  },
  {
   "cell_type": "code",
   "execution_count": 52,
   "metadata": {},
   "outputs": [],
   "source": [
    "#clear imbalance correct with upsample\n",
    "#after resampling\n",
    "# X_remainder, X_test, y_remainder, y_test = train_test_split(X, y, test_size=0.2, random_state=1)\n",
    "\n",
    "# # Upsample\n",
    "# print('Number of Class -1 Remainder Before:', X_remainder[y_remainder == -1].shape)\n",
    "\n",
    "# X_remainder_upsampled, y_remainder_upsampled = resample(X_remainder[y_remainder == -1], \n",
    "#                                                         y_remainder[y_remainder == -1], \n",
    "#                                                         replace=True, \n",
    "#                                                         n_samples=X_remainder[y_remainder == 1].shape[0], \n",
    "#                                                         random_state=123)\n",
    "\n",
    "# print('Number of Class -1 Remainder After:', X_remainder_upsampled.shape)\n",
    "\n",
    "# # Combine upsample with original data\n",
    "# X_remainder = np.vstack((X_remainder[y_remainder == 1], X_remainder_upsampled))\n",
    "# y_remainder = np.hstack((y_remainder[y_remainder == 1], y_remainder_upsampled))\n",
    "\n",
    "# X_w_train_bal = np.vstack((X_w_train[y_w_train == 1], X_w_upsampled))\n",
    "# y_w_train_bal = np.hstack((y_w_train[y_w_train == 1], y_w_upsampled))\n",
    "# print(X_remainder.shape)"
   ]
  },
  {
   "cell_type": "code",
   "execution_count": 70,
   "metadata": {},
   "outputs": [],
   "source": [
    "#train, validation split after balancing\n",
    "X_remainder, X_test, y_remainder, y_test = train_test_split(X, y, test_size=0.2, random_state=1)\n",
    "X_train, X_validation, y_train, y_validation = train_test_split(X_remainder, y_remainder, test_size=0.3, random_state=1)"
   ]
  },
  {
   "cell_type": "code",
   "execution_count": 71,
   "metadata": {},
   "outputs": [],
   "source": [
    "#before we can fit any model we need to vectorize\n",
    "#create count vectorizer\n",
    "countVectorizer = CountVectorizer(tokenizer=tokenizeSpacy, min_df=15, ngram_range=(1,3))"
   ]
  },
  {
   "cell_type": "code",
   "execution_count": 72,
   "metadata": {},
   "outputs": [
    {
     "name": "stderr",
     "output_type": "stream",
     "text": [
      "/home/jj/.local/lib/python3.6/site-packages/sklearn/feature_extraction/text.py:484: UserWarning: The parameter 'token_pattern' will not be used since 'tokenizer' is not None'\n",
      "  warnings.warn(\"The parameter 'token_pattern' will not be used\"\n"
     ]
    }
   ],
   "source": [
    "#fit and transform data (this takes a while)\n",
    "countVectorizer.fit(X_train)\n",
    "X_train = countVectorizer.transform(X_train)\n",
    "X_validation = countVectorizer.transform(X_validation)"
   ]
  },
  {
   "cell_type": "markdown",
   "metadata": {},
   "source": [
    "### Dimension Reduction with TruncatedSVD"
   ]
  },
  {
   "cell_type": "code",
   "execution_count": 95,
   "metadata": {},
   "outputs": [
    {
     "name": "stdout",
     "output_type": "stream",
     "text": [
      "Before TruncatedSVD: X_train shape: (163079, 15066) - X_validation shape: (163079, 15066)\n"
     ]
    }
   ],
   "source": [
    "#dimensionn_components=ction with PCA\n",
    "print(f\"Before TruncatedSVD: X_train shape: {X_train.shape} - X_validation shape: {X_train.shape}\")"
   ]
  },
  {
   "cell_type": "code",
   "execution_count": 74,
   "metadata": {},
   "outputs": [
    {
     "data": {
      "text/plain": [
       "LogisticRegression(max_iter=1000)"
      ]
     },
     "execution_count": 74,
     "metadata": {},
     "output_type": "execute_result"
    }
   ],
   "source": [
    "#train and run on validation set to hypertune NLTK\n",
    "lr_model = LogisticRegression(max_iter=1000)\n",
    "lr_model.fit(X_train, y_train)"
   ]
  },
  {
   "cell_type": "code",
   "execution_count": 75,
   "metadata": {},
   "outputs": [
    {
     "data": {
      "text/plain": [
       "0.7614107883817427"
      ]
     },
     "execution_count": 75,
     "metadata": {},
     "output_type": "execute_result"
    }
   ],
   "source": [
    "lr_model.score(X_validation, y_validation)"
   ]
  },
  {
   "cell_type": "code",
   "execution_count": 98,
   "metadata": {},
   "outputs": [
    {
     "name": "stdout",
     "output_type": "stream",
     "text": [
      "Before TruncatedSVD: X_train shape: (163079, 15066) - X_validation shape: (163079, 15066)\n"
     ]
    }
   ],
   "source": [
    "#dimensionn_components=ction with PCA\n",
    "print(f\"Before TruncatedSVD: X_train shape: {X_train.shape} - X_validation shape: {X_train.shape}\")"
   ]
  },
  {
   "cell_type": "code",
   "execution_count": 18,
   "metadata": {},
   "outputs": [
    {
     "data": {
      "text/plain": [
       "StandardScaler(with_mean=False)"
      ]
     },
     "execution_count": 18,
     "metadata": {},
     "output_type": "execute_result"
    }
   ],
   "source": [
    "#before we can run PCA we need to scale the data\n",
    "scaler = StandardScaler(with_mean=False)\n",
    "scaler.fit(X_train)"
   ]
  },
  {
   "cell_type": "code",
   "execution_count": 19,
   "metadata": {},
   "outputs": [],
   "source": [
    "X_train = scaler.transform(X_train)\n",
    "X_validation = scaler.transform(X_validation)"
   ]
  },
  {
   "cell_type": "code",
   "execution_count": 28,
   "metadata": {},
   "outputs": [],
   "source": [
    "#cannot use pca will use truncatedSVD instead\n",
    "from sklearn.decomposition import TruncatedSVD\n",
    "svd = TruncatedSVD(n_components=24193, algorithm='arpack')"
   ]
  },
  {
   "cell_type": "code",
   "execution_count": null,
   "metadata": {},
   "outputs": [],
   "source": [
    "svd.fit(X_train)"
   ]
  },
  {
   "cell_type": "code",
   "execution_count": null,
   "metadata": {},
   "outputs": [],
   "source": [
    "#now that we see where variance is still at 90% we can reduce number of dimensions by X\n",
    "pca = PCA(n_components=)\n",
    "pca.fit(X_train)\n",
    "X_train = pca.transform(X_train)\n",
    "X_validation = pca.transform(X_validation)"
   ]
  },
  {
   "cell_type": "code",
   "execution_count": null,
   "metadata": {},
   "outputs": [],
   "source": [
    "print(f\"After PCA: X_train shape: {X_train.shape} - X_validation shape: {X_train.shape}\")"
   ]
  },
  {
   "cell_type": "markdown",
   "metadata": {},
   "source": [
    "### Fit RNN with CountVectorized Headlines"
   ]
  },
  {
   "cell_type": "code",
   "execution_count": 149,
   "metadata": {},
   "outputs": [],
   "source": [
    "X_train_df = None#pd.DataFrame(X_train.toarray(), columns=countVectorizer.get_feature_names())\n",
    "X_validation_df = None#pd.DataFrame(X_validation.toarray(), columns=countVectorizer.get_feature_names())"
   ]
  },
  {
   "cell_type": "code",
   "execution_count": 78,
   "metadata": {},
   "outputs": [
    {
     "data": {
      "text/plain": [
       "array([[0, 0, 0, ..., 0, 0, 0],\n",
       "       [0, 0, 0, ..., 0, 0, 0],\n",
       "       [0, 0, 0, ..., 0, 0, 0],\n",
       "       ...,\n",
       "       [0, 0, 0, ..., 0, 0, 0],\n",
       "       [0, 0, 0, ..., 0, 0, 0],\n",
       "       [0, 0, 0, ..., 0, 0, 0]])"
      ]
     },
     "execution_count": 78,
     "metadata": {},
     "output_type": "execute_result"
    }
   ],
   "source": [
    "X_train.toarray()"
   ]
  },
  {
   "cell_type": "code",
   "execution_count": 83,
   "metadata": {},
   "outputs": [
    {
     "data": {
      "text/plain": [
       "array([ 1,  0, -1, ...,  1,  1,  1], dtype=int32)"
      ]
     },
     "execution_count": 83,
     "metadata": {},
     "output_type": "execute_result"
    }
   ],
   "source": [
    "np.array(y_train)"
   ]
  },
  {
   "cell_type": "code",
   "execution_count": 84,
   "metadata": {},
   "outputs": [
    {
     "name": "stdout",
     "output_type": "stream",
     "text": [
      "(32615, 3108)\n",
      "(13978, 3108)\n"
     ]
    }
   ],
   "source": [
    "# Create train, validate, and test data\n",
    "# Split train\n",
    "train_X = X_train.toarray()\n",
    "train_y = np.array(y_train)\n",
    "\n",
    "# Split validation\n",
    "validation_X = X_validation.toarray()\n",
    "validation_y = np.array(y_validation)\n",
    "\n",
    "print(train_X.shape)      \n",
    "print(validation_X.shape)"
   ]
  },
  {
   "cell_type": "code",
   "execution_count": 85,
   "metadata": {},
   "outputs": [],
   "source": [
    "#for RNN we need to define max length of headline word count\n",
    "#define max number of unique tokens/words\n",
    "MAX_WORDS = train_X.shape[1]\n",
    "# max number of words in each title\n",
    "SEQUENCE_LENGTH = train_X.shape[1]\n",
    "#dimensions\n",
    "EMBED_DIM = 300"
   ]
  },
  {
   "cell_type": "code",
   "execution_count": 90,
   "metadata": {},
   "outputs": [],
   "source": [
    "model = Sequential()\n",
    "model.add(Embedding(input_dim=MAX_WORDS, output_dim=EMBED_DIM, input_length=SEQUENCE_LENGTH))\n",
    "#add lstm layer1\n",
    "model.add(LSTM(1024, activation='relu', return_sequences=True))\n",
    "model.add(Dense(1, activation='sigmoid'))"
   ]
  },
  {
   "cell_type": "code",
   "execution_count": 91,
   "metadata": {},
   "outputs": [
    {
     "name": "stdout",
     "output_type": "stream",
     "text": [
      "Model: \"sequential_1\"\n",
      "_________________________________________________________________\n",
      "Layer (type)                 Output Shape              Param #   \n",
      "=================================================================\n",
      "embedding (Embedding)        (None, 3108, 300)         932400    \n",
      "_________________________________________________________________\n",
      "lstm (LSTM)                  (None, 3108, 1024)        5427200   \n",
      "_________________________________________________________________\n",
      "dense_2 (Dense)              (None, 3108, 1)           1025      \n",
      "=================================================================\n",
      "Total params: 6,360,625\n",
      "Trainable params: 6,360,625\n",
      "Non-trainable params: 0\n",
      "_________________________________________________________________\n"
     ]
    }
   ],
   "source": [
    "model.compile(\n",
    "    loss='binary_crossentropy',\n",
    "    optimizer='adam',\n",
    "    metrics=['accuracy']\n",
    ")\n",
    "model.summary()"
   ]
  },
  {
   "cell_type": "code",
   "execution_count": null,
   "metadata": {},
   "outputs": [
    {
     "name": "stdout",
     "output_type": "stream",
     "text": [
      "Epoch 1/2\n",
      "   9/1020 [..............................] - ETA: 7:32:11 - loss: nan - accuracy: 0.3368"
     ]
    }
   ],
   "source": [
    "model.fit(train_X, train_y,\n",
    "         epochs=2,\n",
    "         verbose=True,\n",
    "         validation_data=(validation_X, validation_y),\n",
    "         batch_size=32)"
   ]
  },
  {
   "cell_type": "code",
   "execution_count": 131,
   "metadata": {},
   "outputs": [
    {
     "name": "stdout",
     "output_type": "stream",
     "text": [
      "Model: \"sequential_6\"\n",
      "_________________________________________________________________\n",
      "Layer (type)                 Output Shape              Param #   \n",
      "=================================================================\n",
      "embedding_5 (Embedding)      (None, 15066, 300)        4519800   \n",
      "_________________________________________________________________\n",
      "lstm_9 (LSTM)                (None, 15066, 1024)       5427200   \n",
      "_________________________________________________________________\n",
      "dropout_12 (Dropout)         (None, 15066, 1024)       0         \n",
      "_________________________________________________________________\n",
      "batch_normalization_8 (Batch (None, 15066, 1024)       4096      \n",
      "_________________________________________________________________\n",
      "lstm_10 (LSTM)               (None, 15066, 512)        3147776   \n",
      "_________________________________________________________________\n",
      "dropout_13 (Dropout)         (None, 15066, 512)        0         \n",
      "_________________________________________________________________\n",
      "batch_normalization_9 (Batch (None, 15066, 512)        2048      \n",
      "_________________________________________________________________\n",
      "dense_8 (Dense)              (None, 15066, 32)         16416     \n",
      "_________________________________________________________________\n",
      "dropout_14 (Dropout)         (None, 15066, 32)         0         \n",
      "_________________________________________________________________\n",
      "dense_9 (Dense)              (None, 15066, 15066)      497178    \n",
      "=================================================================\n",
      "Total params: 13,614,514\n",
      "Trainable params: 13,611,442\n",
      "Non-trainable params: 3,072\n",
      "_________________________________________________________________\n"
     ]
    }
   ],
   "source": [
    "#create sequential model\n",
    "RNN_model = Sequential()\n",
    "\n",
    "#add embedding layer\n",
    "RNN_model.add(Embedding(MAX_WORDS, EMBED_DIM, input_length=SEQUENCE_LENGTH))\n",
    "\n",
    "#add lstm layer1\n",
    "RNN_model.add(LSTM(1024, activation='relu', return_sequences=True))\n",
    "RNN_model.add(Dropout(0.2))\n",
    "RNN_model.add(BatchNormalization())\n",
    "\n",
    "#add lstm layer2\n",
    "RNN_model.add(LSTM(512, activation='relu', return_sequences=True))\n",
    "RNN_model.add(Dropout(0.2))\n",
    "RNN_model.add(BatchNormalization())\n",
    "\n",
    "#add dense layer\n",
    "RNN_model.add(Dense(32, activation='relu'))\n",
    "RNN_model.add(Dropout(0.1))\n",
    "\n",
    "#final layer to max words\n",
    "RNN_model.add(Dense(MAX_WORDS, activation='softmax'))\n",
    "\n",
    "\n",
    "RNN_model.summary()"
   ]
  },
  {
   "cell_type": "code",
   "execution_count": 132,
   "metadata": {},
   "outputs": [],
   "source": [
    "#compile RNN with SGD optimizer\n",
    "sgd = SGD(lr=0.01, decay=0.0, momentum=0.0, nesterov=False, clipnorm=2.0)\n",
    "\n",
    "# Compile model\n",
    "RNN_model.compile(\n",
    "    loss='sparse_categorical_crossentropy',\n",
    "    optimizer='adam',\n",
    "    metrics=['accuracy']\n",
    ")"
   ]
  },
  {
   "cell_type": "code",
   "execution_count": null,
   "metadata": {},
   "outputs": [],
   "source": [
    "#run and train and fit model with 40 Epochs\n",
    "\n",
    "EPOCHS = 40       # NNs operate in epochs, meaning this is how many times the neural network will go through \n",
    "                      # the entire data\n",
    "BATCH_SIZE = 480   # at each epoch, it will split the data into units of 48 samples, and train on those\n",
    "\n",
    "X_train = X_train.reshape((-1, SEQUENCE_LENGTH))\n",
    "RNN_model.fit(X_train, y_train,\n",
    "               batch_size=BATCH_SIZE,\n",
    "               epochs=EPOCHS,\n",
    "               validation_data=(X_validation.reshape((-1, SEQUENCE_LENGTH)), y_validation))"
   ]
  },
  {
   "cell_type": "code",
   "execution_count": null,
   "metadata": {},
   "outputs": [],
   "source": [
    "#evaluate\n",
    "loss_score, accuracy_score = RNN_model.evaluate(X-validation.reshape((-1,SEQUENCE_LENGTH)),y_validation,batch_size=480,verbose=1)\n",
    "print(\"RNN Accuracy score: \"+str(round(accuracy_score*100,2))+\"%\")"
   ]
  },
  {
   "cell_type": "code",
   "execution_count": null,
   "metadata": {},
   "outputs": [],
   "source": []
  },
  {
   "cell_type": "code",
   "execution_count": null,
   "metadata": {},
   "outputs": [],
   "source": []
  },
  {
   "cell_type": "markdown",
   "metadata": {},
   "source": [
    "### Using Word Embedding with Word2Vec"
   ]
  },
  {
   "cell_type": "code",
   "execution_count": null,
   "metadata": {},
   "outputs": [],
   "source": []
  },
  {
   "cell_type": "code",
   "execution_count": null,
   "metadata": {},
   "outputs": [],
   "source": []
  },
  {
   "cell_type": "code",
   "execution_count": null,
   "metadata": {},
   "outputs": [],
   "source": []
  },
  {
   "cell_type": "code",
   "execution_count": null,
   "metadata": {},
   "outputs": [],
   "source": []
  }
 ],
 "metadata": {
  "kernelspec": {
   "display_name": "Python 3",
   "language": "python",
   "name": "python3"
  },
  "language_info": {
   "codemirror_mode": {
    "name": "ipython",
    "version": 3
   },
   "file_extension": ".py",
   "mimetype": "text/x-python",
   "name": "python",
   "nbconvert_exporter": "python",
   "pygments_lexer": "ipython3",
   "version": "3.6.9"
  }
 },
 "nbformat": 4,
 "nbformat_minor": 4
}
