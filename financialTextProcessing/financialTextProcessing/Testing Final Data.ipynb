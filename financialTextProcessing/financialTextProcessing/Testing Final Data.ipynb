{
 "cells": [
  {
   "cell_type": "code",
   "execution_count": 1,
   "metadata": {},
   "outputs": [],
   "source": [
    "import loadArticles\n",
    "import loadStockInfo\n",
    "import textProcessing\n",
    "\n",
    "import en_core_web_lg\n",
    "\n",
    "import requests\n",
    "import urllib.parse\n",
    "from urllib.request import urlopen, Request\n",
    "from bs4 import BeautifulSoup\n",
    "\n",
    "import pandas as pd\n",
    "import numpy as np\n",
    "import string\n",
    "\n",
    "from spacy.gold import GoldParse\n",
    "from spacy.pipeline import EntityRecognizer\n",
    "from spacy.tokens import Doc\n",
    "from spacy.pipeline import EntityRuler"
   ]
  },
  {
   "cell_type": "code",
   "execution_count": 2,
   "metadata": {},
   "outputs": [],
   "source": [
    "#import sklearn packages\n",
    "from sklearn.utils import resample\n",
    "from sklearn.model_selection import train_test_split\n",
    "from sklearn.preprocessing import StandardScaler\n",
    "from sklearn.preprocessing import Normalizer\n",
    "\n",
    "from sklearn.model_selection import cross_val_score\n",
    "\n",
    "from sklearn.metrics import classification_report\n",
    "from sklearn.metrics import confusion_matrix\n",
    "#from sklearn.metrics import ConfusionMatrixDisplay\n",
    "from sklearn.pipeline import Pipeline\n",
    "\n",
    "from sklearn.decomposition import PCA\n",
    "from sklearn.linear_model import LogisticRegression\n",
    "from sklearn.neighbors import KNeighborsClassifier\n",
    "from sklearn.tree import DecisionTreeClassifier"
   ]
  },
  {
   "cell_type": "code",
   "execution_count": 3,
   "metadata": {},
   "outputs": [],
   "source": [
    "#load stock info using meta and historical data\n",
    "stockInfo = loadStockInfo.loadStockInfo('../../data/stock-market-dataset/stocks/', '../../data/stock-market-dataset/symbols_valid_meta.csv', DEBUG=True)\n",
    "#stock_df = stockInfo.loadStockDf()\n",
    "stock_meta_df = pd.read_csv('../../data/stock-market-dataset/symbols_valid_meta.csv', index_col=0)\n",
    "#stock_meta_df = stock_meta_df[['Symbol', 'Security Name']]\n",
    "# stock_meta_df['Tag'] = 'ORG'"
   ]
  },
  {
   "cell_type": "code",
   "execution_count": 4,
   "metadata": {},
   "outputs": [],
   "source": [
    "symbol_df = stock_meta_df[stock_meta_df['ETF'] == 'N']['NASDAQ Symbol']\n",
    "# symbol_df = symbol_df[symbol_df != 'FB']"
   ]
  },
  {
   "cell_type": "code",
   "execution_count": 5,
   "metadata": {},
   "outputs": [],
   "source": [
    "# news_by_ticker_dict = {'ticker': [], 'title': [], 'sentiment': [], 'date': []}"
   ]
  },
  {
   "cell_type": "code",
   "execution_count": 6,
   "metadata": {},
   "outputs": [],
   "source": [
    "symbol_df.reset_index(inplace=True, drop=True)"
   ]
  },
  {
   "cell_type": "code",
   "execution_count": 9,
   "metadata": {},
   "outputs": [
    {
     "data": {
      "text/plain": [
       "0          A\n",
       "1         AA\n",
       "2       AACG\n",
       "3        AAL\n",
       "4       AAMC\n",
       "        ... \n",
       "5879     ZUO\n",
       "5880     ZVO\n",
       "5881    ZYME\n",
       "5882    ZYNE\n",
       "5883    ZYXI\n",
       "Name: NASDAQ Symbol, Length: 5884, dtype: object"
      ]
     },
     "execution_count": 9,
     "metadata": {},
     "output_type": "execute_result"
    }
   ],
   "source": [
    "# symbol_df[symbol_df == 'UTX#']\n",
    "# symbol_df.iloc[54] = 'CARR'\n",
    "symbol_df"
   ]
  },
  {
   "cell_type": "code",
   "execution_count": 10,
   "metadata": {},
   "outputs": [],
   "source": [
    "html_doc = requests.get('https://en.wikipedia.org/wiki/List_of_S%26P_500_companies').content"
   ]
  },
  {
   "cell_type": "code",
   "execution_count": 11,
   "metadata": {},
   "outputs": [],
   "source": [
    "tables = pd.read_html(html_doc)"
   ]
  },
  {
   "cell_type": "code",
   "execution_count": 12,
   "metadata": {},
   "outputs": [],
   "source": [
    "SP_500 = tables[0]"
   ]
  },
  {
   "cell_type": "code",
   "execution_count": 13,
   "metadata": {},
   "outputs": [
    {
     "data": {
      "text/plain": [
       "0     MMM\n",
       "1     ABT\n",
       "2    ABBV\n",
       "3    ABMD\n",
       "4     ACN\n",
       "Name: Symbol, dtype: object"
      ]
     },
     "execution_count": 13,
     "metadata": {},
     "output_type": "execute_result"
    }
   ],
   "source": [
    "#list of symbols to build news from focus on S&P 500 Index Stocks\n",
    "SP_500['Symbol'].head()\n"
   ]
  },
  {
   "cell_type": "code",
   "execution_count": 14,
   "metadata": {},
   "outputs": [],
   "source": [
    "# req = requests.get(url=\"https://stocknewsapi.com/api/v1?tickers=MMM&items=50&token=udkw09gzwcqp3zffbhsrcgiqegnytwyda7hlxazy&page=12\")\n",
    "# response = req.json()\n",
    "# print(response['error'] is None)"
   ]
  },
  {
   "cell_type": "code",
   "execution_count": 15,
   "metadata": {
    "scrolled": true
   },
   "outputs": [],
   "source": [
    "\n",
    "# #max 50 per request\n",
    "# token_api = \"udkw09gzwcqp3zffbhsrcgiqegnytwyda7hlxazy\"\n",
    "# #f\"https://stocknewsapi.com/api/v1?tickers={ticker}&items=10000&token={token_api}\"\n",
    "# not_counted = ['BRK-B', 'BF-B']\n",
    "# for ticker in not_counted:\n",
    "#     #number of pages\n",
    "#     number_of_pages = 1\n",
    "#     num = number_of_pages\n",
    "#     while num <= number_of_pages:\n",
    "#         # for ticker in symbol_df:\n",
    "#         stock_news_url = str(\"https://stocknewsapi.com/api/v1?tickers={}&items=50&token={}&page={}\").format(ticker, token_api, num)\n",
    "\n",
    "#         req = requests.get(url=stock_news_url)\n",
    "#         response = req.json()\n",
    "        \n",
    "#         if 'error' in response:\n",
    "#             break\n",
    "#         else:\n",
    "#             number_of_pages = int(response['total_pages'])\n",
    "            \n",
    "#         if response['data'] is None:\n",
    "#             continue\n",
    "#         else:\n",
    "#             for i in response['data']:\n",
    "#                 news_by_ticker_dict['ticker'].append(ticker)\n",
    "#                 news_by_ticker_dict['title'].append(i['title'])\n",
    "#                 news_by_ticker_dict['sentiment'].append(i['sentiment'])\n",
    "#                 news_by_ticker_dict['date'].append(i['date'])\n",
    "#         print(f\"{ticker} - {num}/{number_of_pages}\", end='\\n')\n",
    "#         num+=1"
   ]
  },
  {
   "cell_type": "code",
   "execution_count": 16,
   "metadata": {},
   "outputs": [],
   "source": [
    "# news_sp_500 = pd.DataFrame(news_by_ticker_dict)\n",
    "# news_sp_500"
   ]
  },
  {
   "cell_type": "code",
   "execution_count": 17,
   "metadata": {},
   "outputs": [],
   "source": [
    "# news_sp_500['ticker'] = np.where(news_sp_500['ticker'] == 'BRK-B', 'BRK.B', news_sp_500['ticker'])\n",
    "# news_sp_500['ticker'] = np.where(news_sp_500['ticker'] == 'BF-B', 'BF.B', news_sp_500['ticker'])"
   ]
  },
  {
   "cell_type": "code",
   "execution_count": 18,
   "metadata": {},
   "outputs": [],
   "source": [
    "# news_sp_500.sort_values(by='ticker', inplace=True)"
   ]
  },
  {
   "cell_type": "code",
   "execution_count": 19,
   "metadata": {},
   "outputs": [],
   "source": [
    "# news_sp_500.to_csv('/Users/jjackson/Brainstation/Capstone Project/news_sp_500.csv', index=False)"
   ]
  },
  {
   "cell_type": "code",
   "execution_count": null,
   "metadata": {},
   "outputs": [],
   "source": []
  },
  {
   "cell_type": "markdown",
   "metadata": {},
   "source": [
    "### Preprocessing Stock Info"
   ]
  },
  {
   "cell_type": "markdown",
   "metadata": {},
   "source": [
    "#### Adding Feature Price Change of Day (Positive/Negative/Neutral)"
   ]
  },
  {
   "cell_type": "code",
   "execution_count": 16,
   "metadata": {},
   "outputs": [
    {
     "name": "stdout",
     "output_type": "stream",
     "text": [
      "ZYXIW\r"
     ]
    }
   ],
   "source": [
    "stock_df = stockInfo.loadStockDf()"
   ]
  },
  {
   "cell_type": "code",
   "execution_count": 18,
   "metadata": {},
   "outputs": [
    {
     "data": {
      "text/plain": [
       "(24197442, 9)"
      ]
     },
     "execution_count": 18,
     "metadata": {},
     "output_type": "execute_result"
    }
   ],
   "source": [
    "stock_df.shape"
   ]
  },
  {
   "cell_type": "code",
   "execution_count": 23,
   "metadata": {},
   "outputs": [],
   "source": [
    "stock_df = stock_df.query('Date > \"2018-01-30\"')"
   ]
  },
  {
   "cell_type": "code",
   "execution_count": 24,
   "metadata": {},
   "outputs": [
    {
     "data": {
      "text/plain": [
       "(2986292, 9)"
      ]
     },
     "execution_count": 24,
     "metadata": {},
     "output_type": "execute_result"
    }
   ],
   "source": [
    "stock_df.shape"
   ]
  },
  {
   "cell_type": "code",
   "execution_count": 29,
   "metadata": {},
   "outputs": [],
   "source": [
    "stock_df.columns = ['date', 'open', 'high', 'low', 'close', 'adj_close', 'volume', 'symbol','name']"
   ]
  },
  {
   "cell_type": "code",
   "execution_count": 30,
   "metadata": {},
   "outputs": [
    {
     "data": {
      "text/html": [
       "<div>\n",
       "<style scoped>\n",
       "    .dataframe tbody tr th:only-of-type {\n",
       "        vertical-align: middle;\n",
       "    }\n",
       "\n",
       "    .dataframe tbody tr th {\n",
       "        vertical-align: top;\n",
       "    }\n",
       "\n",
       "    .dataframe thead th {\n",
       "        text-align: right;\n",
       "    }\n",
       "</style>\n",
       "<table border=\"1\" class=\"dataframe\">\n",
       "  <thead>\n",
       "    <tr style=\"text-align: right;\">\n",
       "      <th></th>\n",
       "      <th>date</th>\n",
       "      <th>open</th>\n",
       "      <th>high</th>\n",
       "      <th>low</th>\n",
       "      <th>close</th>\n",
       "      <th>adj_close</th>\n",
       "      <th>volume</th>\n",
       "      <th>symbol</th>\n",
       "      <th>name</th>\n",
       "    </tr>\n",
       "  </thead>\n",
       "  <tbody>\n",
       "    <tr>\n",
       "      <th>4578</th>\n",
       "      <td>2018-01-31</td>\n",
       "      <td>73.769997</td>\n",
       "      <td>74.389999</td>\n",
       "      <td>73.239998</td>\n",
       "      <td>73.430000</td>\n",
       "      <td>71.956703</td>\n",
       "      <td>2032800.0</td>\n",
       "      <td>A</td>\n",
       "      <td>Agilent Technologies, Inc. Common Stock</td>\n",
       "    </tr>\n",
       "    <tr>\n",
       "      <th>4579</th>\n",
       "      <td>2018-02-01</td>\n",
       "      <td>73.180000</td>\n",
       "      <td>73.779999</td>\n",
       "      <td>72.510002</td>\n",
       "      <td>72.830002</td>\n",
       "      <td>71.368736</td>\n",
       "      <td>2008200.0</td>\n",
       "      <td>A</td>\n",
       "      <td>Agilent Technologies, Inc. Common Stock</td>\n",
       "    </tr>\n",
       "    <tr>\n",
       "      <th>4580</th>\n",
       "      <td>2018-02-02</td>\n",
       "      <td>72.320000</td>\n",
       "      <td>72.760002</td>\n",
       "      <td>71.220001</td>\n",
       "      <td>71.250000</td>\n",
       "      <td>69.820442</td>\n",
       "      <td>1955700.0</td>\n",
       "      <td>A</td>\n",
       "      <td>Agilent Technologies, Inc. Common Stock</td>\n",
       "    </tr>\n",
       "    <tr>\n",
       "      <th>4581</th>\n",
       "      <td>2018-02-05</td>\n",
       "      <td>70.860001</td>\n",
       "      <td>71.480003</td>\n",
       "      <td>68.180000</td>\n",
       "      <td>68.220001</td>\n",
       "      <td>66.851227</td>\n",
       "      <td>2860700.0</td>\n",
       "      <td>A</td>\n",
       "      <td>Agilent Technologies, Inc. Common Stock</td>\n",
       "    </tr>\n",
       "    <tr>\n",
       "      <th>4582</th>\n",
       "      <td>2018-02-06</td>\n",
       "      <td>66.959999</td>\n",
       "      <td>68.830002</td>\n",
       "      <td>66.129997</td>\n",
       "      <td>68.449997</td>\n",
       "      <td>67.076614</td>\n",
       "      <td>4121200.0</td>\n",
       "      <td>A</td>\n",
       "      <td>Agilent Technologies, Inc. Common Stock</td>\n",
       "    </tr>\n",
       "    <tr>\n",
       "      <th>...</th>\n",
       "      <td>...</td>\n",
       "      <td>...</td>\n",
       "      <td>...</td>\n",
       "      <td>...</td>\n",
       "      <td>...</td>\n",
       "      <td>...</td>\n",
       "      <td>...</td>\n",
       "      <td>...</td>\n",
       "      <td>...</td>\n",
       "    </tr>\n",
       "    <tr>\n",
       "      <th>24197437</th>\n",
       "      <td>2020-03-26</td>\n",
       "      <td>10.230000</td>\n",
       "      <td>11.430000</td>\n",
       "      <td>10.230000</td>\n",
       "      <td>11.100000</td>\n",
       "      <td>11.100000</td>\n",
       "      <td>189500.0</td>\n",
       "      <td>ZYXI</td>\n",
       "      <td>Zynex, Inc. - Common Stock</td>\n",
       "    </tr>\n",
       "    <tr>\n",
       "      <th>24197438</th>\n",
       "      <td>2020-03-27</td>\n",
       "      <td>10.700000</td>\n",
       "      <td>10.980000</td>\n",
       "      <td>10.060000</td>\n",
       "      <td>10.300000</td>\n",
       "      <td>10.300000</td>\n",
       "      <td>145000.0</td>\n",
       "      <td>ZYXI</td>\n",
       "      <td>Zynex, Inc. - Common Stock</td>\n",
       "    </tr>\n",
       "    <tr>\n",
       "      <th>24197439</th>\n",
       "      <td>2020-03-30</td>\n",
       "      <td>10.160000</td>\n",
       "      <td>11.060000</td>\n",
       "      <td>10.160000</td>\n",
       "      <td>10.800000</td>\n",
       "      <td>10.800000</td>\n",
       "      <td>162300.0</td>\n",
       "      <td>ZYXI</td>\n",
       "      <td>Zynex, Inc. - Common Stock</td>\n",
       "    </tr>\n",
       "    <tr>\n",
       "      <th>24197440</th>\n",
       "      <td>2020-03-31</td>\n",
       "      <td>10.680000</td>\n",
       "      <td>11.140000</td>\n",
       "      <td>10.590000</td>\n",
       "      <td>11.070000</td>\n",
       "      <td>11.070000</td>\n",
       "      <td>280400.0</td>\n",
       "      <td>ZYXI</td>\n",
       "      <td>Zynex, Inc. - Common Stock</td>\n",
       "    </tr>\n",
       "    <tr>\n",
       "      <th>24197441</th>\n",
       "      <td>2020-04-01</td>\n",
       "      <td>11.160000</td>\n",
       "      <td>11.160000</td>\n",
       "      <td>10.510000</td>\n",
       "      <td>10.920000</td>\n",
       "      <td>10.920000</td>\n",
       "      <td>315900.0</td>\n",
       "      <td>ZYXI</td>\n",
       "      <td>Zynex, Inc. - Common Stock</td>\n",
       "    </tr>\n",
       "  </tbody>\n",
       "</table>\n",
       "<p>2986292 rows × 9 columns</p>\n",
       "</div>"
      ],
      "text/plain": [
       "                date       open       high        low      close  adj_close  \\\n",
       "4578      2018-01-31  73.769997  74.389999  73.239998  73.430000  71.956703   \n",
       "4579      2018-02-01  73.180000  73.779999  72.510002  72.830002  71.368736   \n",
       "4580      2018-02-02  72.320000  72.760002  71.220001  71.250000  69.820442   \n",
       "4581      2018-02-05  70.860001  71.480003  68.180000  68.220001  66.851227   \n",
       "4582      2018-02-06  66.959999  68.830002  66.129997  68.449997  67.076614   \n",
       "...              ...        ...        ...        ...        ...        ...   \n",
       "24197437  2020-03-26  10.230000  11.430000  10.230000  11.100000  11.100000   \n",
       "24197438  2020-03-27  10.700000  10.980000  10.060000  10.300000  10.300000   \n",
       "24197439  2020-03-30  10.160000  11.060000  10.160000  10.800000  10.800000   \n",
       "24197440  2020-03-31  10.680000  11.140000  10.590000  11.070000  11.070000   \n",
       "24197441  2020-04-01  11.160000  11.160000  10.510000  10.920000  10.920000   \n",
       "\n",
       "             volume symbol                                     name  \n",
       "4578      2032800.0      A  Agilent Technologies, Inc. Common Stock  \n",
       "4579      2008200.0      A  Agilent Technologies, Inc. Common Stock  \n",
       "4580      1955700.0      A  Agilent Technologies, Inc. Common Stock  \n",
       "4581      2860700.0      A  Agilent Technologies, Inc. Common Stock  \n",
       "4582      4121200.0      A  Agilent Technologies, Inc. Common Stock  \n",
       "...             ...    ...                                      ...  \n",
       "24197437   189500.0   ZYXI               Zynex, Inc. - Common Stock  \n",
       "24197438   145000.0   ZYXI               Zynex, Inc. - Common Stock  \n",
       "24197439   162300.0   ZYXI               Zynex, Inc. - Common Stock  \n",
       "24197440   280400.0   ZYXI               Zynex, Inc. - Common Stock  \n",
       "24197441   315900.0   ZYXI               Zynex, Inc. - Common Stock  \n",
       "\n",
       "[2986292 rows x 9 columns]"
      ]
     },
     "execution_count": 30,
     "metadata": {},
     "output_type": "execute_result"
    }
   ],
   "source": [
    "stock_df"
   ]
  },
  {
   "cell_type": "code",
   "execution_count": 21,
   "metadata": {},
   "outputs": [],
   "source": [
    "news_by_ticker_df = pd.read_csv(\"../../data/news/final_news_sent.csv\")"
   ]
  },
  {
   "cell_type": "code",
   "execution_count": 22,
   "metadata": {},
   "outputs": [
    {
     "data": {
      "text/html": [
       "<div>\n",
       "<style scoped>\n",
       "    .dataframe tbody tr th:only-of-type {\n",
       "        vertical-align: middle;\n",
       "    }\n",
       "\n",
       "    .dataframe tbody tr th {\n",
       "        vertical-align: top;\n",
       "    }\n",
       "\n",
       "    .dataframe thead th {\n",
       "        text-align: right;\n",
       "    }\n",
       "</style>\n",
       "<table border=\"1\" class=\"dataframe\">\n",
       "  <thead>\n",
       "    <tr style=\"text-align: right;\">\n",
       "      <th></th>\n",
       "      <th>ticker</th>\n",
       "      <th>title</th>\n",
       "      <th>sentiment</th>\n",
       "      <th>date</th>\n",
       "    </tr>\n",
       "  </thead>\n",
       "  <tbody>\n",
       "    <tr>\n",
       "      <th>0</th>\n",
       "      <td>FB</td>\n",
       "      <td>By Refusing to Act, Is Zuckerberg Hurting Face...</td>\n",
       "      <td>Neutral</td>\n",
       "      <td>Sat, 06 Jun 2020 12:23:00 -0400</td>\n",
       "    </tr>\n",
       "    <tr>\n",
       "      <th>1</th>\n",
       "      <td>FB</td>\n",
       "      <td>Zuckerberg: Facebook will review policies afte...</td>\n",
       "      <td>Neutral</td>\n",
       "      <td>Sat, 06 Jun 2020 00:24:13 -0400</td>\n",
       "    </tr>\n",
       "    <tr>\n",
       "      <th>2</th>\n",
       "      <td>FB</td>\n",
       "      <td>Facebook, Instagram Take Down Trump George Flo...</td>\n",
       "      <td>Neutral</td>\n",
       "      <td>Fri, 05 Jun 2020 23:50:21 -0400</td>\n",
       "    </tr>\n",
       "    <tr>\n",
       "      <th>3</th>\n",
       "      <td>FB</td>\n",
       "      <td>After Employee Backlash Over Trump Posts, Zuck...</td>\n",
       "      <td>Neutral</td>\n",
       "      <td>Fri, 05 Jun 2020 22:36:29 -0400</td>\n",
       "    </tr>\n",
       "    <tr>\n",
       "      <th>4</th>\n",
       "      <td>FB</td>\n",
       "      <td>Facebook's Zuckerberg promises a review of con...</td>\n",
       "      <td>Neutral</td>\n",
       "      <td>Fri, 05 Jun 2020 20:23:01 -0400</td>\n",
       "    </tr>\n",
       "    <tr>\n",
       "      <th>...</th>\n",
       "      <td>...</td>\n",
       "      <td>...</td>\n",
       "      <td>...</td>\n",
       "      <td>...</td>\n",
       "    </tr>\n",
       "    <tr>\n",
       "      <th>291208</th>\n",
       "      <td>ZTS</td>\n",
       "      <td>Will Boeing go lower? #AskHalftime</td>\n",
       "      <td>Neutral</td>\n",
       "      <td>Wed, 12 Feb 2020 13:48:26 -0500</td>\n",
       "    </tr>\n",
       "    <tr>\n",
       "      <th>291209</th>\n",
       "      <td>ZTS</td>\n",
       "      <td>Zoetis (ZTS) to Report Q4 Earnings: What's in ...</td>\n",
       "      <td>Neutral</td>\n",
       "      <td>Mon, 10 Feb 2020 09:25:00 -0500</td>\n",
       "    </tr>\n",
       "    <tr>\n",
       "      <th>291210</th>\n",
       "      <td>ZTS</td>\n",
       "      <td>Zoetis (ZTS) Earnings Expected to Grow: Should...</td>\n",
       "      <td>Positive</td>\n",
       "      <td>Thu, 06 Feb 2020 12:31:08 -0500</td>\n",
       "    </tr>\n",
       "    <tr>\n",
       "      <th>291211</th>\n",
       "      <td>ZTS</td>\n",
       "      <td>Zoetis Inc. (ZTS) CEO Kristin Peck on Q4 2019 ...</td>\n",
       "      <td>Neutral</td>\n",
       "      <td>Thu, 13 Feb 2020 15:30:46 -0500</td>\n",
       "    </tr>\n",
       "    <tr>\n",
       "      <th>291212</th>\n",
       "      <td>ZTS</td>\n",
       "      <td>Zoetis CEO: Banking on Man’s Best Friend? - Ma...</td>\n",
       "      <td>Neutral</td>\n",
       "      <td>Mon, 18 Feb 2019 19:00:00 -0500</td>\n",
       "    </tr>\n",
       "  </tbody>\n",
       "</table>\n",
       "<p>291213 rows × 4 columns</p>\n",
       "</div>"
      ],
      "text/plain": [
       "       ticker                                              title sentiment  \\\n",
       "0          FB  By Refusing to Act, Is Zuckerberg Hurting Face...   Neutral   \n",
       "1          FB  Zuckerberg: Facebook will review policies afte...   Neutral   \n",
       "2          FB  Facebook, Instagram Take Down Trump George Flo...   Neutral   \n",
       "3          FB  After Employee Backlash Over Trump Posts, Zuck...   Neutral   \n",
       "4          FB  Facebook's Zuckerberg promises a review of con...   Neutral   \n",
       "...       ...                                                ...       ...   \n",
       "291208    ZTS                 Will Boeing go lower? #AskHalftime   Neutral   \n",
       "291209    ZTS  Zoetis (ZTS) to Report Q4 Earnings: What's in ...   Neutral   \n",
       "291210    ZTS  Zoetis (ZTS) Earnings Expected to Grow: Should...  Positive   \n",
       "291211    ZTS  Zoetis Inc. (ZTS) CEO Kristin Peck on Q4 2019 ...   Neutral   \n",
       "291212    ZTS  Zoetis CEO: Banking on Man’s Best Friend? - Ma...   Neutral   \n",
       "\n",
       "                                   date  \n",
       "0       Sat, 06 Jun 2020 12:23:00 -0400  \n",
       "1       Sat, 06 Jun 2020 00:24:13 -0400  \n",
       "2       Fri, 05 Jun 2020 23:50:21 -0400  \n",
       "3       Fri, 05 Jun 2020 22:36:29 -0400  \n",
       "4       Fri, 05 Jun 2020 20:23:01 -0400  \n",
       "...                                 ...  \n",
       "291208  Wed, 12 Feb 2020 13:48:26 -0500  \n",
       "291209  Mon, 10 Feb 2020 09:25:00 -0500  \n",
       "291210  Thu, 06 Feb 2020 12:31:08 -0500  \n",
       "291211  Thu, 13 Feb 2020 15:30:46 -0500  \n",
       "291212  Mon, 18 Feb 2019 19:00:00 -0500  \n",
       "\n",
       "[291213 rows x 4 columns]"
      ]
     },
     "execution_count": 22,
     "metadata": {},
     "output_type": "execute_result"
    }
   ],
   "source": [
    "news_by_ticker_df"
   ]
  },
  {
   "cell_type": "code",
   "execution_count": 23,
   "metadata": {},
   "outputs": [
    {
     "data": {
      "text/plain": [
       "Positive    133725\n",
       "Neutral     108401\n",
       "Negative     49087\n",
       "Name: sentiment, dtype: int64"
      ]
     },
     "execution_count": 23,
     "metadata": {},
     "output_type": "execute_result"
    }
   ],
   "source": [
    "news_by_ticker_df['sentiment'].value_counts()"
   ]
  },
  {
   "cell_type": "code",
   "execution_count": 24,
   "metadata": {},
   "outputs": [
    {
     "data": {
      "image/png": "[encoded data removed]",
      "text/plain": [
       "<Figure size 720x504 with 1 Axes>"
      ]
     },
     "metadata": {
      "needs_background": "light"
     },
     "output_type": "display_data"
    }
   ],
   "source": [
    "import matplotlib.pyplot as plt\n",
    "plt.figure(figsize=(10,7))\n",
    "plt.bar(news_by_ticker_df['sentiment'].value_counts().index, news_by_ticker_df['sentiment'].value_counts().values)\n",
    "plt.show()"
   ]
  },
  {
   "cell_type": "code",
   "execution_count": 25,
   "metadata": {},
   "outputs": [
    {
     "data": {
      "text/plain": [
       "(291213, 4)"
      ]
     },
     "execution_count": 25,
     "metadata": {},
     "output_type": "execute_result"
    }
   ],
   "source": [
    "news_by_ticker_df.shape"
   ]
  },
  {
   "cell_type": "code",
   "execution_count": 14,
   "metadata": {},
   "outputs": [],
   "source": [
    "#get entities from article headline\n",
    "nlp = en_core_web_lg.load()\n",
    "ruler = EntityRuler(nlp)\n",
    "\n",
    "#creating pattersn for entity ruler\n",
    "temp_df1 = stock_meta_df[['Tag', 'Symbol']]\n",
    "temp_df1.columns = ['label', 'pattern']\n",
    "temp_df2 = stock_meta_df[['Tag', 'Name']]\n",
    "temp_df2.columns = ['label', 'pattern']\n",
    "\n",
    "temp_df = pd.concat([temp_df1, temp_df2])\n",
    "\n",
    "#set patterns\n",
    "patterns = temp_df.to_dict('records')\n",
    "#add patterns to ruler\n",
    "ruler.add_patterns(patterns)\n",
    "#add ruler to nlp\n",
    "nlp.add_pipe(ruler)\n",
    "\n",
    "tp = textProcessing.textProcessing(nlp)"
   ]
  },
  {
   "cell_type": "code",
   "execution_count": 26,
   "metadata": {},
   "outputs": [],
   "source": [
    "#format date to connect stock info later\n",
    "news_by_ticker_df['date'] = pd.to_datetime(pd.to_datetime(news_by_ticker_df['date'], utc=True).dt.strftime(\"%m/%d/%y\"))\n",
    "\n",
    "#now that we have news_df which has the stock symbol we can derive sentiment and compare with historical price changes\n",
    "#create mutliple sets of transformed text, train test split data X is Headline y is sentiment\n",
    "#convert sentiment\n",
    "# 0 -> Positive\n",
    "# 1 -> Negative\n",
    "# 2 -> Neutral\n",
    "news_by_ticker_df['sentiment'] = np.where(news_by_ticker_df['sentiment'] == 'Positive', 0, news_by_ticker_df['sentiment'])\n",
    "news_by_ticker_df['sentiment'] = np.where(news_by_ticker_df['sentiment'] == 'Negative', 1, news_by_ticker_df['sentiment'])\n",
    "news_by_ticker_df['sentiment'] = np.where(news_by_ticker_df['sentiment'] == 'Neutral', 2, news_by_ticker_df['sentiment'])"
   ]
  },
  {
   "cell_type": "code",
   "execution_count": 27,
   "metadata": {},
   "outputs": [
    {
     "name": "stdout",
     "output_type": "stream",
     "text": [
      "ticker               object\n",
      "title                object\n",
      "sentiment             int32\n",
      "date         datetime64[ns]\n",
      "dtype: object\n"
     ]
    }
   ],
   "source": [
    "news_by_ticker_df = news_by_ticker_df.astype({'sentiment': 'int32'})\n",
    "print(news_by_ticker_df.dtypes)"
   ]
  },
  {
   "cell_type": "code",
   "execution_count": null,
   "metadata": {},
   "outputs": [],
   "source": [
    "#set up GridSearchCV for best params of DT and Logistic Regression\n",
    "lr_parameters = {'kernel':('linear', 'rbf'), 'C':[1, 10]}\n",
    "dt_parameters = {'kernel':('linear', 'rbf'), 'C':[1, 10]}"
   ]
  },
  {
   "cell_type": "code",
   "execution_count": 28,
   "metadata": {},
   "outputs": [],
   "source": [
    "#set X and y\n",
    "X = news_by_ticker_df['title']\n",
    "y = news_by_ticker_df['sentiment']"
   ]
  },
  {
   "cell_type": "code",
   "execution_count": 16,
   "metadata": {},
   "outputs": [],
   "source": [
    "#since the size of the df is (134611, 4) I feel we can have a validation set\n",
    "X_remainder, X_test, y_remainder, y_test = train_test_split(X, y, test_size=0.2, random_state=1)\n",
    "# X_train, X_validation, y_train, y_validation = train_test_split(X_remainder, y_remainder, test_size=0.3, random_state=1)"
   ]
  },
  {
   "cell_type": "code",
   "execution_count": 17,
   "metadata": {},
   "outputs": [
    {
     "data": {
      "text/plain": [
       "(75381,)"
      ]
     },
     "execution_count": 17,
     "metadata": {},
     "output_type": "execute_result"
    }
   ],
   "source": [
    "X_train.shape"
   ]
  },
  {
   "cell_type": "code",
   "execution_count": 18,
   "metadata": {},
   "outputs": [
    {
     "data": {
      "text/plain": [
       "(32307,)"
      ]
     },
     "execution_count": 18,
     "metadata": {},
     "output_type": "execute_result"
    }
   ],
   "source": [
    "X_validation.shape"
   ]
  },
  {
   "cell_type": "code",
   "execution_count": 19,
   "metadata": {},
   "outputs": [],
   "source": [
    "#text processing\n",
    "from sklearn.feature_extraction.text import CountVectorizer"
   ]
  },
  {
   "cell_type": "code",
   "execution_count": 20,
   "metadata": {},
   "outputs": [],
   "source": [
    "import nltk\n",
    "from nltk.corpus import stopwords"
   ]
  },
  {
   "cell_type": "code",
   "execution_count": 21,
   "metadata": {},
   "outputs": [],
   "source": [
    " def tokenizeNLTK(sentence):\n",
    "    try:\n",
    "        stemmer = nltk.stem.PorterStemmer()\n",
    "        ENGLISH_STOP_WORDS = stopwords.words('english')\n",
    "\n",
    "        for punctuation_mark in string.punctuation:\n",
    "            # Remove punctuation and set to lower case\n",
    "            sentence = sentence.replace(punctuation_mark,'').lower()\n",
    "\n",
    "        # split sentence into words\n",
    "        listofwords = sentence.split(' ')\n",
    "        listofstemmed_words = []\n",
    "\n",
    "\n",
    "        # Remove stopwords and any tokens that are just empty strings\n",
    "        for word in listofwords:\n",
    "            if (not word in ENGLISH_STOP_WORDS) and (word!=''):\n",
    "                # Stem words\n",
    "                stemmed_word = stemmer.stem(word)\n",
    "                listofstemmed_words.append(stemmed_word)\n",
    "\n",
    "        return listofstemmed_words\n",
    "\n",
    "    except Exception as e:\n",
    "        print(f\"Something went wrong in tokenizeNLTK: {e}\")"
   ]
  },
  {
   "cell_type": "code",
   "execution_count": 22,
   "metadata": {},
   "outputs": [],
   "source": [
    "def tokenizeSpacy(sentence):\n",
    "    try:\n",
    "        for punctuation_mark in string.punctuation:\n",
    "            # Remove punctuation and set to lower case\n",
    "            sentence = sentence.replace(punctuation_mark,'').lower()\n",
    "\n",
    "        doc = nlp(sentence)\n",
    "\n",
    "        listofwords = list()\n",
    "        for token in doc:\n",
    "            if not token.is_stop:\n",
    "                if token.is_alpha:\n",
    "                    listofwords.append(token.lemma_.strip().lower())\n",
    "\n",
    "        return listofwords\n",
    "    except Exception as e:\n",
    "        print(f\"Something went wrong in tokenizeSpacy: {e}\")"
   ]
  },
  {
   "cell_type": "markdown",
   "metadata": {},
   "source": [
    "## CountVectorizer Testing"
   ]
  },
  {
   "cell_type": "code",
   "execution_count": 23,
   "metadata": {},
   "outputs": [],
   "source": [
    "print_line = \"\\n=======================================================\\n\""
   ]
  },
  {
   "cell_type": "markdown",
   "metadata": {},
   "source": [
    "### Spacy Usage"
   ]
  },
  {
   "cell_type": "code",
   "execution_count": null,
   "metadata": {},
   "outputs": [],
   "source": [
    "#CountVectorizer on X_train, X_validation using Spacy\n",
    "countVectorizerSpacy = CountVectorizer(tokenizer=tokenizeSpacy, min_df=10, ngram_range=(1,3))"
   ]
  },
  {
   "cell_type": "code",
   "execution_count": null,
   "metadata": {},
   "outputs": [],
   "source": [
    "countVectorizerSpacy.fit(X_train)"
   ]
  },
  {
   "cell_type": "code",
   "execution_count": null,
   "metadata": {},
   "outputs": [],
   "source": [
    "#transform with Spacy CountVectorizer\n",
    "X_train_countSpacy = countVectorizerSpacy.transform(X_train)"
   ]
  },
  {
   "cell_type": "code",
   "execution_count": null,
   "metadata": {},
   "outputs": [],
   "source": [
    "X_train_countSpacy.shape"
   ]
  },
  {
   "cell_type": "code",
   "execution_count": null,
   "metadata": {},
   "outputs": [],
   "source": [
    "X_validation_countSpacy = countVectorizerSpacy.transform(X_validation)"
   ]
  },
  {
   "cell_type": "code",
   "execution_count": null,
   "metadata": {},
   "outputs": [],
   "source": [
    "#convert back to dataframes\n",
    "X_train_countSpacy = pd.DataFrame(X_train_countSpacy.toarray(), columns=countVectorizerSpacy.get_feature_names())\n",
    "X_validation_countSpacy = pd.DataFrame(X_validation_countSpacy.toarray(), columns=countVectorizerSpacy.get_feature_names())"
   ]
  },
  {
   "cell_type": "code",
   "execution_count": null,
   "metadata": {},
   "outputs": [],
   "source": [
    "print(f\"X_train shape: {X_train_countSpacy.shape} - X_validation shape: {X_validation_countSpacy.shape}\")"
   ]
  },
  {
   "cell_type": "code",
   "execution_count": null,
   "metadata": {},
   "outputs": [],
   "source": [
    "#try different models see accuracy\n",
    "#for CountVectorize we try LogisticRegression & Decision Trees\n",
    "#train and run on validation set to hypertune Spacy\n",
    "logit_spacy = LogisticRegression(max_iter=1000)\n",
    "logit_spacy.fit(X_train_countSpacy, y_train)"
   ]
  },
  {
   "cell_type": "code",
   "execution_count": null,
   "metadata": {},
   "outputs": [],
   "source": [
    "#get predicted\n",
    "y_pred_spacy = logit_spacy.predict(X_validation_countSpacy)\n",
    "report_spacy = classification_report(y_validation, y_pred_spacy)"
   ]
  },
  {
   "cell_type": "code",
   "execution_count": null,
   "metadata": {},
   "outputs": [],
   "source": [
    "print(\"Validation Spacy Confusion Matrix:\", print_line, confusion_matrix(y_validation, y_pred_spacy))\n",
    "print(\"\\nValidation Spacy Data Classification Report:\", print_line, report_spacy)"
   ]
  },
  {
   "cell_type": "code",
   "execution_count": null,
   "metadata": {},
   "outputs": [],
   "source": [
    "C_range = [.000001, .00001, .0001, .001, .01,.1, 1, 10, 100]\n",
    "train_scores = list()\n",
    "validation_scores = list()\n",
    "for index, c in enumerate(C_range):\n",
    "    print(index, end='\\r')\n",
    "    logit_test = LogisticRegression(C=c, max_iter=1000)\n",
    "    logit_test.fit(X_train_countSpacy, y_train)\n",
    "    validation_scores.append(logit_test.score(X_validation_countSpacy, y_validation))\n",
    "    train_scores.append(logit_test.score(X_train_countSpacy, y_train))"
   ]
  },
  {
   "cell_type": "code",
   "execution_count": null,
   "metadata": {},
   "outputs": [],
   "source": [
    "#Plot validation and train scores\n",
    "plt.figure(figsize=(12,7))\n",
    "plt.plot(range(6), validation_scores, label=\"Validation\")\n",
    "plt.plot(range(6), train_scores, label=\"Train\")\n",
    "plt.legend()\n",
    "plt.ylabel(\"Accuracy\")\n",
    "plt.xlabel(\"Position for C_range\")\n",
    "plt.show()"
   ]
  },
  {
   "cell_type": "code",
   "execution_count": null,
   "metadata": {},
   "outputs": [],
   "source": [
    "best_c = C_range[validation_scores.index(np.max(validation_scores))]\n",
    "best_c"
   ]
  },
  {
   "cell_type": "code",
   "execution_count": null,
   "metadata": {},
   "outputs": [],
   "source": [
    "#count vectorizer\n",
    "countVectorizerSpacy.fit(X_remainder)\n",
    "X_remainder_countSpacy = countVectorizerSpacy.transform(X_remainder)\n",
    "X_test_countSpacy = countVectorizerSpacy.transform(X_test)"
   ]
  },
  {
   "cell_type": "code",
   "execution_count": null,
   "metadata": {},
   "outputs": [],
   "source": [
    "X_remainder_countSpacy = pd.DataFrame(X_remainder_countSpacy.toarray(), columns=countVectorizerSpacy.get_feature_names())\n",
    "X_test_countSpacy = pd.DataFrame(X_test_countSpacy.toarray(), columns=countVectorizerSpacy.get_feature_names())"
   ]
  },
  {
   "cell_type": "code",
   "execution_count": null,
   "metadata": {},
   "outputs": [],
   "source": [
    "X_remainder_countSpacy.shape"
   ]
  },
  {
   "cell_type": "code",
   "execution_count": null,
   "metadata": {},
   "outputs": [],
   "source": [
    "X_test_countSpacy.shape"
   ]
  },
  {
   "cell_type": "code",
   "execution_count": null,
   "metadata": {},
   "outputs": [],
   "source": [
    "#run on test set\n",
    "logit_spacy = LogisticRegression(C=best_c, max_iter=1000)"
   ]
  },
  {
   "cell_type": "code",
   "execution_count": null,
   "metadata": {},
   "outputs": [],
   "source": [
    "logit_spacy.fit(X_remainder_countSpacy, y_remainder)"
   ]
  },
  {
   "cell_type": "code",
   "execution_count": null,
   "metadata": {},
   "outputs": [],
   "source": [
    "#get predicted\n",
    "y_pred_test_spacy = logit_spacy.predict(X_test_countSpacy)\n",
    "report_test_spacy = classification_report(y_test, y_pred_test_spacy)"
   ]
  },
  {
   "cell_type": "code",
   "execution_count": null,
   "metadata": {},
   "outputs": [],
   "source": [
    "print(\"Test Spacy Confusion Matrix:\", print_line, confusion_matrix(y_test, y_pred_test_spacy))\n",
    "print(\"\\Test Spacy Data Classification Report:\", print_line, report_test_spacy)"
   ]
  },
  {
   "cell_type": "markdown",
   "metadata": {},
   "source": [
    "### NLTK Usage"
   ]
  },
  {
   "cell_type": "code",
   "execution_count": 24,
   "metadata": {},
   "outputs": [
    {
     "name": "stderr",
     "output_type": "stream",
     "text": [
      "/Users/jjackson/opt/anaconda3/envs/BrainStationCapstone/lib/python3.6/site-packages/sklearn/feature_extraction/text.py:484: UserWarning: The parameter 'token_pattern' will not be used since 'tokenizer' is not None'\n",
      "  warnings.warn(\"The parameter 'token_pattern' will not be used\"\n"
     ]
    },
    {
     "data": {
      "text/plain": [
       "CountVectorizer(min_df=10, ngram_range=(1, 3),\n",
       "                tokenizer=<function tokenizeNLTK at 0x7fcf62f1ae18>)"
      ]
     },
     "execution_count": 24,
     "metadata": {},
     "output_type": "execute_result"
    }
   ],
   "source": [
    "#CountVectorizer on X_train, X_validation using NLTK\n",
    "countVectorizerNLTK = CountVectorizer(tokenizer=tokenizeNLTK, min_df=10, ngram_range=(1,3))\n",
    "countVectorizerNLTK.fit(X_train)"
   ]
  },
  {
   "cell_type": "code",
   "execution_count": 25,
   "metadata": {},
   "outputs": [],
   "source": [
    "#transform with NLTK CountVectorizer\n",
    "X_train_countNLTK = countVectorizerNLTK.transform(X_train)\n",
    "X_validation_countNLTK = countVectorizerNLTK.transform(X_validation)"
   ]
  },
  {
   "cell_type": "code",
   "execution_count": 35,
   "metadata": {},
   "outputs": [
    {
     "ename": "AttributeError",
     "evalue": "'DataFrame' object has no attribute 'toarray'",
     "output_type": "error",
     "traceback": [
      "\u001b[0;31m---------------------------------------------------------------------------\u001b[0m",
      "\u001b[0;31mAttributeError\u001b[0m                            Traceback (most recent call last)",
      "\u001b[0;32m<ipython-input-35-808559146fee>\u001b[0m in \u001b[0;36m<module>\u001b[0;34m\u001b[0m\n\u001b[1;32m      1\u001b[0m \u001b[0;31m#convert back to dataframes\u001b[0m\u001b[0;34m\u001b[0m\u001b[0;34m\u001b[0m\u001b[0;34m\u001b[0m\u001b[0m\n\u001b[0;32m----> 2\u001b[0;31m \u001b[0mX_train_countNLTK\u001b[0m \u001b[0;34m=\u001b[0m \u001b[0mpd\u001b[0m\u001b[0;34m.\u001b[0m\u001b[0mDataFrame\u001b[0m\u001b[0;34m(\u001b[0m\u001b[0mX_train_countNLTK\u001b[0m\u001b[0;34m.\u001b[0m\u001b[0mtoarray\u001b[0m\u001b[0;34m(\u001b[0m\u001b[0;34m)\u001b[0m\u001b[0;34m,\u001b[0m \u001b[0mcolumns\u001b[0m\u001b[0;34m=\u001b[0m\u001b[0mcountVectorizerNLTK\u001b[0m\u001b[0;34m.\u001b[0m\u001b[0mget_feature_names\u001b[0m\u001b[0;34m(\u001b[0m\u001b[0;34m)\u001b[0m\u001b[0;34m)\u001b[0m\u001b[0;34m\u001b[0m\u001b[0;34m\u001b[0m\u001b[0m\n\u001b[0m\u001b[1;32m      3\u001b[0m \u001b[0mX_validation_countNLTK\u001b[0m \u001b[0;34m=\u001b[0m \u001b[0mpd\u001b[0m\u001b[0;34m.\u001b[0m\u001b[0mDataFrame\u001b[0m\u001b[0;34m(\u001b[0m\u001b[0mX_validation_countNLTK\u001b[0m\u001b[0;34m.\u001b[0m\u001b[0mtoarray\u001b[0m\u001b[0;34m(\u001b[0m\u001b[0;34m)\u001b[0m\u001b[0;34m,\u001b[0m \u001b[0mcolumns\u001b[0m\u001b[0;34m=\u001b[0m\u001b[0mcountVectorizerNLTK\u001b[0m\u001b[0;34m.\u001b[0m\u001b[0mget_feature_names\u001b[0m\u001b[0;34m(\u001b[0m\u001b[0;34m)\u001b[0m\u001b[0;34m)\u001b[0m\u001b[0;34m\u001b[0m\u001b[0;34m\u001b[0m\u001b[0m\n",
      "\u001b[0;32m~/opt/anaconda3/envs/BrainStationCapstone/lib/python3.6/site-packages/pandas/core/generic.py\u001b[0m in \u001b[0;36m__getattr__\u001b[0;34m(self, name)\u001b[0m\n\u001b[1;32m   5272\u001b[0m             \u001b[0;32mif\u001b[0m \u001b[0mself\u001b[0m\u001b[0;34m.\u001b[0m\u001b[0m_info_axis\u001b[0m\u001b[0;34m.\u001b[0m\u001b[0m_can_hold_identifiers_and_holds_name\u001b[0m\u001b[0;34m(\u001b[0m\u001b[0mname\u001b[0m\u001b[0;34m)\u001b[0m\u001b[0;34m:\u001b[0m\u001b[0;34m\u001b[0m\u001b[0;34m\u001b[0m\u001b[0m\n\u001b[1;32m   5273\u001b[0m                 \u001b[0;32mreturn\u001b[0m \u001b[0mself\u001b[0m\u001b[0;34m[\u001b[0m\u001b[0mname\u001b[0m\u001b[0;34m]\u001b[0m\u001b[0;34m\u001b[0m\u001b[0;34m\u001b[0m\u001b[0m\n\u001b[0;32m-> 5274\u001b[0;31m             \u001b[0;32mreturn\u001b[0m \u001b[0mobject\u001b[0m\u001b[0;34m.\u001b[0m\u001b[0m__getattribute__\u001b[0m\u001b[0;34m(\u001b[0m\u001b[0mself\u001b[0m\u001b[0;34m,\u001b[0m \u001b[0mname\u001b[0m\u001b[0;34m)\u001b[0m\u001b[0;34m\u001b[0m\u001b[0;34m\u001b[0m\u001b[0m\n\u001b[0m\u001b[1;32m   5275\u001b[0m \u001b[0;34m\u001b[0m\u001b[0m\n\u001b[1;32m   5276\u001b[0m     \u001b[0;32mdef\u001b[0m \u001b[0m__setattr__\u001b[0m\u001b[0;34m(\u001b[0m\u001b[0mself\u001b[0m\u001b[0;34m,\u001b[0m \u001b[0mname\u001b[0m\u001b[0;34m:\u001b[0m \u001b[0mstr\u001b[0m\u001b[0;34m,\u001b[0m \u001b[0mvalue\u001b[0m\u001b[0;34m)\u001b[0m \u001b[0;34m->\u001b[0m \u001b[0;32mNone\u001b[0m\u001b[0;34m:\u001b[0m\u001b[0;34m\u001b[0m\u001b[0;34m\u001b[0m\u001b[0m\n",
      "\u001b[0;31mAttributeError\u001b[0m: 'DataFrame' object has no attribute 'toarray'"
     ]
    }
   ],
   "source": [
    "#convert back to dataframes\n",
    "X_train_countNLTK = pd.DataFrame(X_train_countNLTK.toarray(), columns=countVectorizerNLTK.get_feature_names())\n",
    "X_validation_countNLTK = pd.DataFrame(X_validation_countNLTK.toarray(), columns=countVectorizerNLTK.get_feature_names())"
   ]
  },
  {
   "cell_type": "code",
   "execution_count": 47,
   "metadata": {},
   "outputs": [
    {
     "name": "stdout",
     "output_type": "stream",
     "text": [
      "X_train shape: (75381, 14866) - X_validation shape: (32307, 14866)\n"
     ]
    }
   ],
   "source": [
    "print(f\"X_train shape: {X_train_countNLTK.shape} - X_validation shape: {X_validation_countNLTK.shape}\")"
   ]
  },
  {
   "cell_type": "code",
   "execution_count": 37,
   "metadata": {},
   "outputs": [
    {
     "data": {
      "text/plain": [
       "LogisticRegression(max_iter=1000)"
      ]
     },
     "execution_count": 37,
     "metadata": {},
     "output_type": "execute_result"
    }
   ],
   "source": [
    "#train and run on validation set to hypertune NLTK\n",
    "logit_NLTK = LogisticRegression(max_iter=1000)\n",
    "logit_NLTK.fit(X_train_countNLTK, y_train)"
   ]
  },
  {
   "cell_type": "code",
   "execution_count": 38,
   "metadata": {},
   "outputs": [],
   "source": [
    "y_pred_NLTK = logit_NLTK.predict(X_validation_countNLTK)\n",
    "report_NLTK = classification_report(y_validation, y_pred_NLTK)"
   ]
  },
  {
   "cell_type": "code",
   "execution_count": 39,
   "metadata": {},
   "outputs": [
    {
     "name": "stdout",
     "output_type": "stream",
     "text": [
      "NLTK Validation Confusion Matrix: \n",
      "=======================================================\n",
      " [[12762   218  1307]\n",
      " [  369  3915   484]\n",
      " [ 1445   382 11425]]\n",
      "\n",
      "NLTK Validation Data Classification Report: \n",
      "=======================================================\n",
      "               precision    recall  f1-score   support\n",
      "\n",
      "           0       0.88      0.89      0.88     14287\n",
      "           1       0.87      0.82      0.84      4768\n",
      "           2       0.86      0.86      0.86     13252\n",
      "\n",
      "    accuracy                           0.87     32307\n",
      "   macro avg       0.87      0.86      0.86     32307\n",
      "weighted avg       0.87      0.87      0.87     32307\n",
      "\n"
     ]
    }
   ],
   "source": [
    "print(\"NLTK Validation Confusion Matrix:\", print_line, confusion_matrix(y_validation, y_pred_NLTK))\n",
    "print(\"\\nNLTK Validation Data Classification Report:\", print_line, report_NLTK)"
   ]
  },
  {
   "cell_type": "code",
   "execution_count": 41,
   "metadata": {},
   "outputs": [],
   "source": [
    "#count vectorizer\n",
    "countVectorizerNLTK.fit(X_remainder)\n",
    "X_remainder_countNLTK = countVectorizerNLTK.transform(X_remainder)\n",
    "X_test_countNLTK = countVectorizerNLTK.transform(X_test)"
   ]
  },
  {
   "cell_type": "code",
   "execution_count": 42,
   "metadata": {},
   "outputs": [],
   "source": [
    "X_remainder_countNLTK = pd.DataFrame(X_remainder_countNLTK.toarray(), columns=countVectorizerNLTK.get_feature_names())\n",
    "X_test_countNLTK = pd.DataFrame(X_test_countNLTK.toarray(), columns=countVectorizerNLTK.get_feature_names())"
   ]
  },
  {
   "cell_type": "code",
   "execution_count": 43,
   "metadata": {},
   "outputs": [],
   "source": [
    "#run on test set\n",
    "logit_NLTK = LogisticRegression(C=0.01, max_iter=1000)"
   ]
  },
  {
   "cell_type": "code",
   "execution_count": 44,
   "metadata": {},
   "outputs": [
    {
     "data": {
      "text/plain": [
       "LogisticRegression(C=0.01, max_iter=1000)"
      ]
     },
     "execution_count": 44,
     "metadata": {},
     "output_type": "execute_result"
    }
   ],
   "source": [
    "logit_NLTK.fit(X_remainder_countNLTK, y_remainder)"
   ]
  },
  {
   "cell_type": "code",
   "execution_count": 45,
   "metadata": {},
   "outputs": [],
   "source": [
    "#get predicted\n",
    "y_pred_test_nltk = logit_NLTK.predict(X_test_countNLTK)\n",
    "report_test_nltk = classification_report(y_test, y_pred_test_nltk)"
   ]
  },
  {
   "cell_type": "code",
   "execution_count": 46,
   "metadata": {},
   "outputs": [
    {
     "name": "stdout",
     "output_type": "stream",
     "text": [
      "Test Spacy Confusion Matrix: \n",
      "=======================================================\n",
      " [[10494    98  1245]\n",
      " [  641  2643   746]\n",
      " [ 1378   146  9532]]\n",
      "\n",
      "Test Spacy Data Classification Report: \n",
      "=======================================================\n",
      "               precision    recall  f1-score   support\n",
      "\n",
      "           0       0.84      0.89      0.86     11837\n",
      "           1       0.92      0.66      0.76      4030\n",
      "           2       0.83      0.86      0.84     11056\n",
      "\n",
      "    accuracy                           0.84     26923\n",
      "   macro avg       0.86      0.80      0.82     26923\n",
      "weighted avg       0.85      0.84      0.84     26923\n",
      "\n"
     ]
    }
   ],
   "source": [
    "print(\"Test Spacy Confusion Matrix:\", print_line, confusion_matrix(y_test, y_pred_test_nltk))\n",
    "print(\"\\nTest Spacy Data Classification Report:\", print_line, report_test_nltk)"
   ]
  },
  {
   "cell_type": "markdown",
   "metadata": {},
   "source": [
    "## TF-IDF Testing"
   ]
  },
  {
   "cell_type": "code",
   "execution_count": null,
   "metadata": {},
   "outputs": [],
   "source": [
    "from sklearn.feature_extraction.text import TfidfVectorizer"
   ]
  },
  {
   "cell_type": "code",
   "execution_count": null,
   "metadata": {},
   "outputs": [],
   "source": [
    "#TF-IDF Spacy\n",
    "tfidf_Spacy = TfidfVectorizer(min_df=10, tokenizer=tokenizeSpacy, ngram_range = (1,3))\n",
    "tfidf_Spacy.fit(X_train)"
   ]
  },
  {
   "cell_type": "code",
   "execution_count": null,
   "metadata": {},
   "outputs": [],
   "source": [
    "#transform with NLTK CountVectorizer\n",
    "X_train_tfidfSpacy = tfidf_Spacy.transform(X_train)\n",
    "X_validation_tfidfSpacy = tfidf_Spacy.transform(X_validation)"
   ]
  },
  {
   "cell_type": "code",
   "execution_count": null,
   "metadata": {},
   "outputs": [],
   "source": [
    "#convert back to dataframes\n",
    "X_train_tfidfSpacy = pd.DataFrame(X_train_tfidfSpacy.toarray(), columns=tfidf_Spacy.get_feature_names())\n",
    "X_validation_tfidfSpacy = pd.DataFrame(X_validation_tfidfSpacy.toarray(), columns=tfidf_Spacy.get_feature_names())"
   ]
  },
  {
   "cell_type": "code",
   "execution_count": null,
   "metadata": {},
   "outputs": [],
   "source": [
    "#TF-IDF NLTK\n",
    "tfidf_NLTK = TfidfVectorizer(min_df=10, tokenizer=tokenizeNLTK, ngram_range = (1,3))\n",
    "tfidf_NLTK.fit(X_train)"
   ]
  },
  {
   "cell_type": "code",
   "execution_count": null,
   "metadata": {},
   "outputs": [],
   "source": [
    "#transform with NLTK CountVectorizer\n",
    "X_train_tfidfNLTK = tfidf_NLTK.transform(X_train)\n",
    "X_validation_tfidfNLTK = tfidf_NLTK.transform(X_validation)"
   ]
  },
  {
   "cell_type": "code",
   "execution_count": null,
   "metadata": {},
   "outputs": [],
   "source": [
    "#convert back to dataframes\n",
    "X_train_tfidfNLTK = pd.DataFrame(X_train_tfidfNLTK.toarray(), columns=tfidf_NLTK.get_feature_names())\n",
    "X_validation_tfidfNLTK = pd.DataFrame(X_validation_tfidfNLTK.toarray(), columns=tfidf_NLTK.get_feature_names())"
   ]
  },
  {
   "cell_type": "markdown",
   "metadata": {},
   "source": [
    "## Decision Tree Model for TF-IDF & CountVectorizer"
   ]
  },
  {
   "cell_type": "code",
   "execution_count": null,
   "metadata": {},
   "outputs": [],
   "source": []
  }
 ],
 "metadata": {
  "kernelspec": {
   "display_name": "BrainStationCapstone",
   "language": "python",
   "name": "brainstationcapstone"
  },
  "language_info": {
   "codemirror_mode": {
    "name": "ipython",
    "version": 3
   },
   "file_extension": ".py",
   "mimetype": "text/x-python",
   "name": "python",
   "nbconvert_exporter": "python",
   "pygments_lexer": "ipython3",
   "version": "3.6.10"
  }
 },
 "nbformat": 4,
 "nbformat_minor": 4
}
