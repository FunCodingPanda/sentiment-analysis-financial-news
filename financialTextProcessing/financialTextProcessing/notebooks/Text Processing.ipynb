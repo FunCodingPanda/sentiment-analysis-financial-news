{
 "cells": [
  {
   "cell_type": "code",
   "execution_count": 56,
   "metadata": {},
   "outputs": [],
   "source": [
    "import loadArticles\n",
    "import loadStockInfo\n",
    "import textProcessing\n",
    "\n",
    "import en_core_web_lg\n",
    "\n",
    "import urllib.parse\n",
    "from urllib.request import urlopen, Request\n",
    "from bs4 import BeautifulSoup\n",
    "\n",
    "import pandas as pd\n",
    "import numpy as np\n",
    "import string\n",
    "\n",
    "from spacy.gold import GoldParse\n",
    "from spacy.pipeline import EntityRecognizer\n",
    "from spacy.tokens import Doc\n",
    "from spacy.pipeline import EntityRuler"
   ]
  },
  {
   "cell_type": "code",
   "execution_count": 3,
   "metadata": {},
   "outputs": [],
   "source": [
    "#load stock info using meta and historical data\n",
    "stockInfo = loadStockInfo.loadStockInfo('../../data/stock-market-dataset/stocks/', '../../data/stock-market-dataset/symbols_valid_meta.csv', DEBUG=True)\n",
    "#stock_df = stockInfo.loadStockDf()\n",
    "stock_meta_df = stockInfo.loadStockMetaDf()\n",
    "#stock_meta_df = stock_meta_df[['Symbol', 'Security Name']]\n",
    "stock_meta_df['Tag'] = 'ORG'"
   ]
  },
  {
   "cell_type": "code",
   "execution_count": 137,
   "metadata": {},
   "outputs": [],
   "source": [
    "news_df = pd.read_csv('../../data/news/news_csv/news_2018_02.csv', index_col=0)"
   ]
  },
  {
   "cell_type": "code",
   "execution_count": 138,
   "metadata": {},
   "outputs": [
    {
     "data": {
      "text/html": [
       "<div>\n",
       "<style scoped>\n",
       "    .dataframe tbody tr th:only-of-type {\n",
       "        vertical-align: middle;\n",
       "    }\n",
       "\n",
       "    .dataframe tbody tr th {\n",
       "        vertical-align: top;\n",
       "    }\n",
       "\n",
       "    .dataframe thead th {\n",
       "        text-align: right;\n",
       "    }\n",
       "</style>\n",
       "<table border=\"1\" class=\"dataframe\">\n",
       "  <thead>\n",
       "    <tr style=\"text-align: right;\">\n",
       "      <th></th>\n",
       "      <th>title</th>\n",
       "      <th>published</th>\n",
       "    </tr>\n",
       "  </thead>\n",
       "  <tbody>\n",
       "    <tr>\n",
       "      <th>0</th>\n",
       "      <td>Fed Quarles pushes for rate hikes, review of c...</td>\n",
       "      <td>2018-02-23</td>\n",
       "    </tr>\n",
       "    <tr>\n",
       "      <th>1</th>\n",
       "      <td>Italy's League under pressure over racist shoo...</td>\n",
       "      <td>2018-02-05</td>\n",
       "    </tr>\n",
       "    <tr>\n",
       "      <th>2</th>\n",
       "      <td>BRIEF-HiQ International ‍Board Proposes Share ...</td>\n",
       "      <td>2018-02-21</td>\n",
       "    </tr>\n",
       "    <tr>\n",
       "      <th>3</th>\n",
       "      <td>Drake gives away almost $1 million in 'God's P...</td>\n",
       "      <td>2018-02-18</td>\n",
       "    </tr>\n",
       "    <tr>\n",
       "      <th>4</th>\n",
       "      <td>Stock market pre-markets data: Dow futures aft...</td>\n",
       "      <td>2018-02-13</td>\n",
       "    </tr>\n",
       "    <tr>\n",
       "      <th>...</th>\n",
       "      <td>...</td>\n",
       "      <td>...</td>\n",
       "    </tr>\n",
       "    <tr>\n",
       "      <th>63061</th>\n",
       "      <td>Salmon price rose to NOK 54.14 per kilo last w...</td>\n",
       "      <td>2018-02-21</td>\n",
       "    </tr>\n",
       "    <tr>\n",
       "      <th>63062</th>\n",
       "      <td>Dollar Tree, Inc. to Host Fourth Quarter Earni...</td>\n",
       "      <td>2018-02-22</td>\n",
       "    </tr>\n",
       "    <tr>\n",
       "      <th>63063</th>\n",
       "      <td>Congress takes on the immigration issue amid e...</td>\n",
       "      <td>2018-02-13</td>\n",
       "    </tr>\n",
       "    <tr>\n",
       "      <th>63064</th>\n",
       "      <td>Dark times for workers in the U.S. solar industry</td>\n",
       "      <td>2018-02-09</td>\n",
       "    </tr>\n",
       "    <tr>\n",
       "      <th>63065</th>\n",
       "      <td>Paris attacks suspect silent as trial begins -...</td>\n",
       "      <td>2018-02-06</td>\n",
       "    </tr>\n",
       "  </tbody>\n",
       "</table>\n",
       "<p>63066 rows × 2 columns</p>\n",
       "</div>"
      ],
      "text/plain": [
       "                                                   title   published\n",
       "0      Fed Quarles pushes for rate hikes, review of c...  2018-02-23\n",
       "1      Italy's League under pressure over racist shoo...  2018-02-05\n",
       "2      BRIEF-HiQ International ‍Board Proposes Share ...  2018-02-21\n",
       "3      Drake gives away almost $1 million in 'God's P...  2018-02-18\n",
       "4      Stock market pre-markets data: Dow futures aft...  2018-02-13\n",
       "...                                                  ...         ...\n",
       "63061  Salmon price rose to NOK 54.14 per kilo last w...  2018-02-21\n",
       "63062  Dollar Tree, Inc. to Host Fourth Quarter Earni...  2018-02-22\n",
       "63063  Congress takes on the immigration issue amid e...  2018-02-13\n",
       "63064  Dark times for workers in the U.S. solar industry  2018-02-09\n",
       "63065  Paris attacks suspect silent as trial begins -...  2018-02-06\n",
       "\n",
       "[63066 rows x 2 columns]"
      ]
     },
     "execution_count": 138,
     "metadata": {},
     "output_type": "execute_result"
    }
   ],
   "source": [
    "news_df"
   ]
  },
  {
   "cell_type": "code",
   "execution_count": 136,
   "metadata": {},
   "outputs": [
    {
     "data": {
      "text/html": [
       "<div>\n",
       "<style scoped>\n",
       "    .dataframe tbody tr th:only-of-type {\n",
       "        vertical-align: middle;\n",
       "    }\n",
       "\n",
       "    .dataframe tbody tr th {\n",
       "        vertical-align: top;\n",
       "    }\n",
       "\n",
       "    .dataframe thead th {\n",
       "        text-align: right;\n",
       "    }\n",
       "</style>\n",
       "<table border=\"1\" class=\"dataframe\">\n",
       "  <thead>\n",
       "    <tr style=\"text-align: right;\">\n",
       "      <th></th>\n",
       "      <th>Tag</th>\n",
       "      <th>Symbol</th>\n",
       "    </tr>\n",
       "  </thead>\n",
       "  <tbody>\n",
       "    <tr>\n",
       "      <th>1</th>\n",
       "      <td>ORG</td>\n",
       "      <td>AA</td>\n",
       "    </tr>\n",
       "    <tr>\n",
       "      <th>2</th>\n",
       "      <td>ORG</td>\n",
       "      <td>AAAU</td>\n",
       "    </tr>\n",
       "    <tr>\n",
       "      <th>3</th>\n",
       "      <td>ORG</td>\n",
       "      <td>AACG</td>\n",
       "    </tr>\n",
       "    <tr>\n",
       "      <th>4</th>\n",
       "      <td>ORG</td>\n",
       "      <td>AADR</td>\n",
       "    </tr>\n",
       "    <tr>\n",
       "      <th>5</th>\n",
       "      <td>ORG</td>\n",
       "      <td>AAL</td>\n",
       "    </tr>\n",
       "    <tr>\n",
       "      <th>...</th>\n",
       "      <td>...</td>\n",
       "      <td>...</td>\n",
       "    </tr>\n",
       "    <tr>\n",
       "      <th>8044</th>\n",
       "      <td>ORG</td>\n",
       "      <td>ZUO</td>\n",
       "    </tr>\n",
       "    <tr>\n",
       "      <th>8045</th>\n",
       "      <td>ORG</td>\n",
       "      <td>ZVO</td>\n",
       "    </tr>\n",
       "    <tr>\n",
       "      <th>8046</th>\n",
       "      <td>ORG</td>\n",
       "      <td>ZYME</td>\n",
       "    </tr>\n",
       "    <tr>\n",
       "      <th>8047</th>\n",
       "      <td>ORG</td>\n",
       "      <td>ZYNE</td>\n",
       "    </tr>\n",
       "    <tr>\n",
       "      <th>8048</th>\n",
       "      <td>ORG</td>\n",
       "      <td>ZYXI</td>\n",
       "    </tr>\n",
       "  </tbody>\n",
       "</table>\n",
       "<p>8048 rows × 2 columns</p>\n",
       "</div>"
      ],
      "text/plain": [
       "      Tag Symbol\n",
       "1     ORG     AA\n",
       "2     ORG   AAAU\n",
       "3     ORG   AACG\n",
       "4     ORG   AADR\n",
       "5     ORG    AAL\n",
       "...   ...    ...\n",
       "8044  ORG    ZUO\n",
       "8045  ORG    ZVO\n",
       "8046  ORG   ZYME\n",
       "8047  ORG   ZYNE\n",
       "8048  ORG   ZYXI\n",
       "\n",
       "[8048 rows x 2 columns]"
      ]
     },
     "execution_count": 136,
     "metadata": {},
     "output_type": "execute_result"
    }
   ],
   "source": [
    "stock_meta_df.query('Symbol != \"A\"')[['Tag', 'Symbol']]"
   ]
  },
  {
   "cell_type": "code",
   "execution_count": 83,
   "metadata": {},
   "outputs": [],
   "source": [
    "nlp = en_core_web_lg.load()\n",
    "ruler = EntityRuler(nlp)\n",
    "\n",
    "#creating pattersn for entity ruler\n",
    "temp_df1 = stock_meta_df.query('Symbol != \"A\"')[['Tag', 'Symbol']]\n",
    "temp_df1.columns = ['label', 'pattern']\n",
    "temp_df2 = stock_meta_df[['Tag', 'Name']]\n",
    "temp_df2.columns = ['label', 'pattern']\n",
    "\n",
    "temp_df = pd.concat([temp_df1, temp_df2])\n",
    "\n",
    "#set patterns\n",
    "patterns = temp_df.to_dict('records')\n",
    "#add patterns to ruler\n",
    "ruler.add_patterns(patterns)\n",
    "#add ruler to nlp\n",
    "nlp.add_pipe(ruler)\n",
    "\n",
    "tp = textProcessing.textProcessing(nlp)"
   ]
  },
  {
   "cell_type": "code",
   "execution_count": 105,
   "metadata": {},
   "outputs": [
    {
     "data": {
      "text/plain": [
       "'Atlantic Coast Financial Corporation’s Fourth Quarter 2017 Net Loss of $0.04 Per Diluted Share Included $0.14 in Charges Related to Tax Act and Pending Merger'"
      ]
     },
     "execution_count": 105,
     "metadata": {},
     "output_type": "execute_result"
    }
   ],
   "source": [
    "news_df.iloc[110]['title']"
   ]
  },
  {
   "cell_type": "code",
   "execution_count": 109,
   "metadata": {},
   "outputs": [
    {
     "data": {
      "text/plain": [
       "'Atlantic+Coast+Financial+Corporations+Fourth+Quarter+2017+Net+Loss+of+004+Per+Diluted+Share+Included+014+in+Charges+Related+to+Tax+Act+and+Pending+Merger'"
      ]
     },
     "execution_count": 109,
     "metadata": {},
     "output_type": "execute_result"
    }
   ],
   "source": [
    "str(news_df.iloc[110]['title']).encode(\"ascii\", \"ignore\").decode(\"ascii\").translate(str.maketrans(' ', ' ', string.punctuation)).replace(' ', '+').replace('’','')"
   ]
  },
  {
   "cell_type": "code",
   "execution_count": 139,
   "metadata": {},
   "outputs": [],
   "source": [
    "###add one day to articles to ensure all stock changes were occurences after article\n",
    "#get entities from article headline\n",
    "#create a new news_df with columns = \"ticker\", \"headline\", \"date\"\n",
    "news_tickr_dict = {'ticker': [], 'title': [], 'date': []}\n",
    "news_date_array = [tuple(x) for x in news_df[['title', 'published']].values]"
   ]
  },
  {
   "cell_type": "code",
   "execution_count": null,
   "metadata": {
    "scrolled": true
   },
   "outputs": [
    {
     "name": "stdout",
     "output_type": "stream",
     "text": [
      "35205\r"
     ]
    }
   ],
   "source": [
    "count = 0\n",
    "for title, date in news_date_array:\n",
    "    #get entities\n",
    "    entities = tp.getEntitiesSpacy(nlp, title)\n",
    "    table = {}\n",
    "    count+=1\n",
    "    print(count, end='\\r')\n",
    "    #gets ticker symbol from entity name in headline\n",
    "    for entity in entities:\n",
    "        if entity in list(stock_meta_df['Symbol']):\n",
    "#             print(f\"{title} - {entity}\")\n",
    "            news_tickr_dict['ticker'].append(entity)\n",
    "            news_tickr_dict['title'].append(title)\n",
    "            news_tickr_dict['date'].append(date)\n",
    "        elif entity in list(stock_meta_df['Name']):\n",
    "            company_symbol = stock_meta_df[stock_meta_df['Name'] == entity]['Symbol'].iloc[0]\n",
    "#             print(f\"{title} - {company_symbol}\")\n",
    "            news_tickr_dict['ticker'].append(company_symbol)\n",
    "            news_tickr_dict['title'].append(title)\n",
    "            news_tickr_dict['date'].append(date)\n",
    "        else:\n",
    "            entity = str(entity).encode(\"ascii\", \"ignore\")\\\n",
    "                                .decode(\"ascii\")\\\n",
    "                                .translate(str.maketrans(' ', ' ', string.punctuation))\\\n",
    "                                .replace(' ', '+')\\\n",
    "                                .replace('’','')\n",
    "#             print(entity)\n",
    "            market_watch_link = f'https://www.marketwatch.com/tools/quotes/lookup.asp?siteID=mktw&Lookup={entity}&Country=all&Type=Stock'\n",
    "\n",
    "            req = Request(url=market_watch_link,headers={'user-agent': 'my-app/0.0.1'})\n",
    "            response = urlopen(req)\n",
    "            # Read the contents of the file into 'html'\n",
    "            html = BeautifulSoup(response, 'html.parser')\n",
    "            # Find 'results table' in the Soup and load it into 'symbol table'\n",
    "            table = html.find(\"div\", class_=\"results\")\n",
    "\n",
    "            #filter through web results to find symbol/company name\n",
    "            if table != None:\n",
    "                rows = table.table.findAll('td')\n",
    "                if rows != None:\n",
    "                    for row in rows[0]:\n",
    "                        for td in row:\n",
    "                            company_symbol = td\n",
    "#                             print(f\"{title} - {company_symbol}\")\n",
    "                            #add ticker, headline, and date to dict for our final news data set\n",
    "                            #this will be used as our final news df which we will perform modeling on\n",
    "                            news_tickr_dict['ticker'].append(company_symbol)\n",
    "                            news_tickr_dict['title'].append(title)\n",
    "                            news_tickr_dict['date'].append(date)\n",
    "                            break\n",
    "\n"
   ]
  },
  {
   "cell_type": "code",
   "execution_count": 131,
   "metadata": {},
   "outputs": [],
   "source": [
    "news_tickr_df = pd.DataFrame(news_tickr_dict)"
   ]
  },
  {
   "cell_type": "code",
   "execution_count": 133,
   "metadata": {},
   "outputs": [],
   "source": [
    "news_tickr_df.to_csv(\"/Users/jjackson/Brainstation/SpacyTickerNews2.csv\")"
   ]
  },
  {
   "cell_type": "code",
   "execution_count": 132,
   "metadata": {},
   "outputs": [
    {
     "data": {
      "text/html": [
       "<div>\n",
       "<style scoped>\n",
       "    .dataframe tbody tr th:only-of-type {\n",
       "        vertical-align: middle;\n",
       "    }\n",
       "\n",
       "    .dataframe tbody tr th {\n",
       "        vertical-align: top;\n",
       "    }\n",
       "\n",
       "    .dataframe thead th {\n",
       "        text-align: right;\n",
       "    }\n",
       "</style>\n",
       "<table border=\"1\" class=\"dataframe\">\n",
       "  <thead>\n",
       "    <tr style=\"text-align: right;\">\n",
       "      <th></th>\n",
       "      <th>ticker</th>\n",
       "      <th>title</th>\n",
       "      <th>date</th>\n",
       "    </tr>\n",
       "  </thead>\n",
       "  <tbody>\n",
       "    <tr>\n",
       "      <th>0</th>\n",
       "      <td>PSA</td>\n",
       "      <td>BRIEF-French carmaker PSA chooses Atlanta as n...</td>\n",
       "      <td>2018-01-24</td>\n",
       "    </tr>\n",
       "    <tr>\n",
       "      <th>1</th>\n",
       "      <td>OAS</td>\n",
       "      <td>U.S. House passes measure to fund government a...</td>\n",
       "      <td>2018-01-24</td>\n",
       "    </tr>\n",
       "    <tr>\n",
       "      <th>2</th>\n",
       "      <td>HKEB</td>\n",
       "      <td>BRIEF-U.S. CPSC says Western Gas Recalls To In...</td>\n",
       "      <td>2018-01-03</td>\n",
       "    </tr>\n",
       "    <tr>\n",
       "      <th>3</th>\n",
       "      <td>AMZN</td>\n",
       "      <td>German minister urges fast passage of EU law o...</td>\n",
       "      <td>2018-01-29</td>\n",
       "    </tr>\n",
       "    <tr>\n",
       "      <th>4</th>\n",
       "      <td>OBELF</td>\n",
       "      <td>BRIEF-Obsidian Energy reports FY 2017 producti...</td>\n",
       "      <td>2018-01-17</td>\n",
       "    </tr>\n",
       "    <tr>\n",
       "      <th>...</th>\n",
       "      <td>...</td>\n",
       "      <td>...</td>\n",
       "      <td>...</td>\n",
       "    </tr>\n",
       "    <tr>\n",
       "      <th>22388</th>\n",
       "      <td>MELI</td>\n",
       "      <td>Cramer's lightning round: Mercadolibre is even...</td>\n",
       "      <td>2018-01-10</td>\n",
       "    </tr>\n",
       "    <tr>\n",
       "      <th>22389</th>\n",
       "      <td>AAPL</td>\n",
       "      <td>Cramer's lightning round: Mercadolibre is even...</td>\n",
       "      <td>2018-01-10</td>\n",
       "    </tr>\n",
       "    <tr>\n",
       "      <th>22390</th>\n",
       "      <td>TFSL</td>\n",
       "      <td>An aspirin a day, as Trump tells European corp...</td>\n",
       "      <td>2018-01-27</td>\n",
       "    </tr>\n",
       "    <tr>\n",
       "      <th>22391</th>\n",
       "      <td>GRMN</td>\n",
       "      <td>Garmin Ltd. schedules its fourth quarter 2017 ...</td>\n",
       "      <td>2018-01-18</td>\n",
       "    </tr>\n",
       "    <tr>\n",
       "      <th>22392</th>\n",
       "      <td>PD</td>\n",
       "      <td>Italian economy minister accepts offer to stan...</td>\n",
       "      <td>2018-01-09</td>\n",
       "    </tr>\n",
       "  </tbody>\n",
       "</table>\n",
       "<p>22393 rows × 3 columns</p>\n",
       "</div>"
      ],
      "text/plain": [
       "      ticker                                              title        date\n",
       "0        PSA  BRIEF-French carmaker PSA chooses Atlanta as n...  2018-01-24\n",
       "1        OAS  U.S. House passes measure to fund government a...  2018-01-24\n",
       "2       HKEB  BRIEF-U.S. CPSC says Western Gas Recalls To In...  2018-01-03\n",
       "3       AMZN  German minister urges fast passage of EU law o...  2018-01-29\n",
       "4      OBELF  BRIEF-Obsidian Energy reports FY 2017 producti...  2018-01-17\n",
       "...      ...                                                ...         ...\n",
       "22388   MELI  Cramer's lightning round: Mercadolibre is even...  2018-01-10\n",
       "22389   AAPL  Cramer's lightning round: Mercadolibre is even...  2018-01-10\n",
       "22390   TFSL  An aspirin a day, as Trump tells European corp...  2018-01-27\n",
       "22391   GRMN  Garmin Ltd. schedules its fourth quarter 2017 ...  2018-01-18\n",
       "22392     PD  Italian economy minister accepts offer to stan...  2018-01-09\n",
       "\n",
       "[22393 rows x 3 columns]"
      ]
     },
     "execution_count": 132,
     "metadata": {},
     "output_type": "execute_result"
    }
   ],
   "source": [
    "news_tickr_df"
   ]
  },
  {
   "cell_type": "code",
   "execution_count": null,
   "metadata": {},
   "outputs": [],
   "source": [
    "#max 10k per request\n",
    "#token_api = \"udkw09gzwcqp3zffbhsrcgiqegnytwyda7hlxazy\"\n",
    "#f\"https://stocknewsapi.com/api/v1?tickers={ticker}&items=10000&token={token_api}\"\n",
    "#news data by tickr\n",
    "# for ticker in stock_meta_dfws_df['Symbol']:\n"
   ]
  }
 ],
 "metadata": {
  "kernelspec": {
   "display_name": "BrainStationCapstone",
   "language": "python",
   "name": "brainstationcapstone"
  },
  "language_info": {
   "codemirror_mode": {
    "name": "ipython",
    "version": 3
   },
   "file_extension": ".py",
   "mimetype": "text/x-python",
   "name": "python",
   "nbconvert_exporter": "python",
   "pygments_lexer": "ipython3",
   "version": "3.6.10"
  }
 },
 "nbformat": 4,
 "nbformat_minor": 4
}
