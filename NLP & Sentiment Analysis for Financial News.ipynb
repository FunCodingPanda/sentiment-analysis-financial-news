{
 "cells": [
  {
   "cell_type": "markdown",
   "metadata": {},
   "source": [
    "# NLP & Sentiment Analysis for Financial News\n",
    "By: Joshua Jackson<br>\n",
    "Date: June 26 2020"
   ]
  },
  {
   "cell_type": "code",
   "execution_count": 1,
   "metadata": {},
   "outputs": [],
   "source": [
    "#import basic packages for use in the notebook\n",
    "import pandas as pd\n",
    "import numpy as np\n",
    "import matplotlib.pyplot as plt\n",
    "import seaborn as sns\n",
    "\n",
    "%matplotlib inline"
   ]
  },
  {
   "cell_type": "code",
   "execution_count": 2,
   "metadata": {},
   "outputs": [],
   "source": [
    "#import custom scripts to simplify model processing and vectorization\n",
    "#install with pip install -e financialTextProcessing\n",
    "from financialTextProcessing.loadStockInfo import loadStockInfo as loadStock\n",
    "import financialTextProcessing.textProcessing as tp\n",
    "from financialTextProcessing.createWord2Vec import word2vec\n",
    "from financialTextProcessing.modeling import modeling\n",
    "import financialTextProcessing.plotBacktrade as plotBt "
   ]
  },
  {
   "cell_type": "code",
   "execution_count": 3,
   "metadata": {},
   "outputs": [],
   "source": [
    "#import sklearn packages\n",
    "from sklearn.preprocessing import LabelEncoder, OneHotEncoder\n",
    "from sklearn.utils import resample\n",
    "from sklearn.model_selection import train_test_split"
   ]
  },
  {
   "cell_type": "code",
   "execution_count": 4,
   "metadata": {},
   "outputs": [],
   "source": [
    "#import spacy\n",
    "import spacy\n",
    "from spacy.pipeline import EntityRecognizer\n",
    "from spacy.tokens import Doc\n",
    "from spacy.pipeline import EntityRuler"
   ]
  },
  {
   "cell_type": "markdown",
   "metadata": {},
   "source": [
    "## Data Cleaning"
   ]
  },
  {
   "cell_type": "markdown",
   "metadata": {},
   "source": [
    "Using my scripts I load in my stock data csvs supplied from Kaggle"
   ]
  },
  {
   "cell_type": "code",
   "execution_count": 5,
   "metadata": {},
   "outputs": [
    {
     "name": "stdout",
     "output_type": "stream",
     "text": [
      "ZYXIW\r"
     ]
    }
   ],
   "source": [
    "#load stock info\n",
    "stock_info = loadStock(\"../data/stock_info/stocks/\", \"../data/stock_info/symbols_valid_meta.csv\", DEBUG=True)\n",
    "#load stock historical data from csvs\n",
    "stock_df = stock_info.loadStockDf()"
   ]
  },
  {
   "cell_type": "code",
   "execution_count": 6,
   "metadata": {},
   "outputs": [
    {
     "data": {
      "text/html": [
       "<div>\n",
       "<style scoped>\n",
       "    .dataframe tbody tr th:only-of-type {\n",
       "        vertical-align: middle;\n",
       "    }\n",
       "\n",
       "    .dataframe tbody tr th {\n",
       "        vertical-align: top;\n",
       "    }\n",
       "\n",
       "    .dataframe thead th {\n",
       "        text-align: right;\n",
       "    }\n",
       "</style>\n",
       "<table border=\"1\" class=\"dataframe\">\n",
       "  <thead>\n",
       "    <tr style=\"text-align: right;\">\n",
       "      <th></th>\n",
       "      <th>Date</th>\n",
       "      <th>Open</th>\n",
       "      <th>High</th>\n",
       "      <th>Low</th>\n",
       "      <th>Close</th>\n",
       "      <th>Adj Close</th>\n",
       "      <th>Volume</th>\n",
       "      <th>Symbol</th>\n",
       "      <th>Name</th>\n",
       "    </tr>\n",
       "  </thead>\n",
       "  <tbody>\n",
       "    <tr>\n",
       "      <th>0</th>\n",
       "      <td>1999-11-18</td>\n",
       "      <td>32.546494</td>\n",
       "      <td>35.765381</td>\n",
       "      <td>28.612303</td>\n",
       "      <td>31.473534</td>\n",
       "      <td>27.068665</td>\n",
       "      <td>62546300.0</td>\n",
       "      <td>A</td>\n",
       "      <td>Agilent Technologies, Inc. Common Stock</td>\n",
       "    </tr>\n",
       "    <tr>\n",
       "      <th>1</th>\n",
       "      <td>1999-11-19</td>\n",
       "      <td>30.713520</td>\n",
       "      <td>30.758226</td>\n",
       "      <td>28.478184</td>\n",
       "      <td>28.880543</td>\n",
       "      <td>24.838577</td>\n",
       "      <td>15234100.0</td>\n",
       "      <td>A</td>\n",
       "      <td>Agilent Technologies, Inc. Common Stock</td>\n",
       "    </tr>\n",
       "    <tr>\n",
       "      <th>2</th>\n",
       "      <td>1999-11-22</td>\n",
       "      <td>29.551144</td>\n",
       "      <td>31.473534</td>\n",
       "      <td>28.657009</td>\n",
       "      <td>31.473534</td>\n",
       "      <td>27.068665</td>\n",
       "      <td>6577800.0</td>\n",
       "      <td>A</td>\n",
       "      <td>Agilent Technologies, Inc. Common Stock</td>\n",
       "    </tr>\n",
       "    <tr>\n",
       "      <th>3</th>\n",
       "      <td>1999-11-23</td>\n",
       "      <td>30.400572</td>\n",
       "      <td>31.205294</td>\n",
       "      <td>28.612303</td>\n",
       "      <td>28.612303</td>\n",
       "      <td>24.607880</td>\n",
       "      <td>5975600.0</td>\n",
       "      <td>A</td>\n",
       "      <td>Agilent Technologies, Inc. Common Stock</td>\n",
       "    </tr>\n",
       "    <tr>\n",
       "      <th>4</th>\n",
       "      <td>1999-11-24</td>\n",
       "      <td>28.701717</td>\n",
       "      <td>29.998211</td>\n",
       "      <td>28.612303</td>\n",
       "      <td>29.372318</td>\n",
       "      <td>25.261524</td>\n",
       "      <td>4843200.0</td>\n",
       "      <td>A</td>\n",
       "      <td>Agilent Technologies, Inc. Common Stock</td>\n",
       "    </tr>\n",
       "  </tbody>\n",
       "</table>\n",
       "</div>"
      ],
      "text/plain": [
       "         Date       Open       High        Low      Close  Adj Close  \\\n",
       "0  1999-11-18  32.546494  35.765381  28.612303  31.473534  27.068665   \n",
       "1  1999-11-19  30.713520  30.758226  28.478184  28.880543  24.838577   \n",
       "2  1999-11-22  29.551144  31.473534  28.657009  31.473534  27.068665   \n",
       "3  1999-11-23  30.400572  31.205294  28.612303  28.612303  24.607880   \n",
       "4  1999-11-24  28.701717  29.998211  28.612303  29.372318  25.261524   \n",
       "\n",
       "       Volume Symbol                                     Name  \n",
       "0  62546300.0      A  Agilent Technologies, Inc. Common Stock  \n",
       "1  15234100.0      A  Agilent Technologies, Inc. Common Stock  \n",
       "2   6577800.0      A  Agilent Technologies, Inc. Common Stock  \n",
       "3   5975600.0      A  Agilent Technologies, Inc. Common Stock  \n",
       "4   4843200.0      A  Agilent Technologies, Inc. Common Stock  "
      ]
     },
     "execution_count": 6,
     "metadata": {},
     "output_type": "execute_result"
    }
   ],
   "source": [
    "#view stock df\n",
    "stock_df.head()"
   ]
  },
  {
   "cell_type": "code",
   "execution_count": 7,
   "metadata": {},
   "outputs": [],
   "source": [
    "#rename stock_df columns\n",
    "stock_df.columns = ['date', 'open', 'high', 'low', 'close', 'adj_close', 'volume', 'symbol', 'name']"
   ]
  },
  {
   "cell_type": "code",
   "execution_count": 8,
   "metadata": {},
   "outputs": [
    {
     "data": {
      "text/html": [
       "<div>\n",
       "<style scoped>\n",
       "    .dataframe tbody tr th:only-of-type {\n",
       "        vertical-align: middle;\n",
       "    }\n",
       "\n",
       "    .dataframe tbody tr th {\n",
       "        vertical-align: top;\n",
       "    }\n",
       "\n",
       "    .dataframe thead th {\n",
       "        text-align: right;\n",
       "    }\n",
       "</style>\n",
       "<table border=\"1\" class=\"dataframe\">\n",
       "  <thead>\n",
       "    <tr style=\"text-align: right;\">\n",
       "      <th></th>\n",
       "      <th>date</th>\n",
       "      <th>open</th>\n",
       "      <th>high</th>\n",
       "      <th>low</th>\n",
       "      <th>close</th>\n",
       "      <th>adj_close</th>\n",
       "      <th>volume</th>\n",
       "      <th>symbol</th>\n",
       "      <th>name</th>\n",
       "    </tr>\n",
       "  </thead>\n",
       "  <tbody>\n",
       "    <tr>\n",
       "      <th>0</th>\n",
       "      <td>1999-11-18</td>\n",
       "      <td>32.546494</td>\n",
       "      <td>35.765381</td>\n",
       "      <td>28.612303</td>\n",
       "      <td>31.473534</td>\n",
       "      <td>27.068665</td>\n",
       "      <td>62546300.0</td>\n",
       "      <td>A</td>\n",
       "      <td>Agilent Technologies, Inc. Common Stock</td>\n",
       "    </tr>\n",
       "    <tr>\n",
       "      <th>1</th>\n",
       "      <td>1999-11-19</td>\n",
       "      <td>30.713520</td>\n",
       "      <td>30.758226</td>\n",
       "      <td>28.478184</td>\n",
       "      <td>28.880543</td>\n",
       "      <td>24.838577</td>\n",
       "      <td>15234100.0</td>\n",
       "      <td>A</td>\n",
       "      <td>Agilent Technologies, Inc. Common Stock</td>\n",
       "    </tr>\n",
       "    <tr>\n",
       "      <th>2</th>\n",
       "      <td>1999-11-22</td>\n",
       "      <td>29.551144</td>\n",
       "      <td>31.473534</td>\n",
       "      <td>28.657009</td>\n",
       "      <td>31.473534</td>\n",
       "      <td>27.068665</td>\n",
       "      <td>6577800.0</td>\n",
       "      <td>A</td>\n",
       "      <td>Agilent Technologies, Inc. Common Stock</td>\n",
       "    </tr>\n",
       "    <tr>\n",
       "      <th>3</th>\n",
       "      <td>1999-11-23</td>\n",
       "      <td>30.400572</td>\n",
       "      <td>31.205294</td>\n",
       "      <td>28.612303</td>\n",
       "      <td>28.612303</td>\n",
       "      <td>24.607880</td>\n",
       "      <td>5975600.0</td>\n",
       "      <td>A</td>\n",
       "      <td>Agilent Technologies, Inc. Common Stock</td>\n",
       "    </tr>\n",
       "    <tr>\n",
       "      <th>4</th>\n",
       "      <td>1999-11-24</td>\n",
       "      <td>28.701717</td>\n",
       "      <td>29.998211</td>\n",
       "      <td>28.612303</td>\n",
       "      <td>29.372318</td>\n",
       "      <td>25.261524</td>\n",
       "      <td>4843200.0</td>\n",
       "      <td>A</td>\n",
       "      <td>Agilent Technologies, Inc. Common Stock</td>\n",
       "    </tr>\n",
       "  </tbody>\n",
       "</table>\n",
       "</div>"
      ],
      "text/plain": [
       "         date       open       high        low      close  adj_close  \\\n",
       "0  1999-11-18  32.546494  35.765381  28.612303  31.473534  27.068665   \n",
       "1  1999-11-19  30.713520  30.758226  28.478184  28.880543  24.838577   \n",
       "2  1999-11-22  29.551144  31.473534  28.657009  31.473534  27.068665   \n",
       "3  1999-11-23  30.400572  31.205294  28.612303  28.612303  24.607880   \n",
       "4  1999-11-24  28.701717  29.998211  28.612303  29.372318  25.261524   \n",
       "\n",
       "       volume symbol                                     name  \n",
       "0  62546300.0      A  Agilent Technologies, Inc. Common Stock  \n",
       "1  15234100.0      A  Agilent Technologies, Inc. Common Stock  \n",
       "2   6577800.0      A  Agilent Technologies, Inc. Common Stock  \n",
       "3   5975600.0      A  Agilent Technologies, Inc. Common Stock  \n",
       "4   4843200.0      A  Agilent Technologies, Inc. Common Stock  "
      ]
     },
     "execution_count": 8,
     "metadata": {},
     "output_type": "execute_result"
    }
   ],
   "source": [
    "stock_df.head()"
   ]
  },
  {
   "cell_type": "code",
   "execution_count": 9,
   "metadata": {},
   "outputs": [],
   "source": [
    "#get list of comapny symbols and names to use later for NLP rules\n",
    "list_of_stock_symbols = np.unique(stock_df['symbol'])\n",
    "list_of_comp_names = np.unique(stock_df['name'])"
   ]
  },
  {
   "cell_type": "code",
   "execution_count": 10,
   "metadata": {},
   "outputs": [
    {
     "data": {
      "text/plain": [
       "array(['A', 'AA', 'AACG', ..., 'ZYME', 'ZYNE', 'ZYXI'], dtype=object)"
      ]
     },
     "execution_count": 10,
     "metadata": {},
     "output_type": "execute_result"
    }
   ],
   "source": [
    "list_of_stock_symbols"
   ]
  },
  {
   "cell_type": "code",
   "execution_count": 11,
   "metadata": {},
   "outputs": [
    {
     "data": {
      "text/plain": [
       "array(['1-800-FLOWERS.COM, Inc. - Class A Common Stock',\n",
       "       '10x Genomics, Inc. - Common Stock',\n",
       "       '111, Inc. - American Depositary Shares', ...,\n",
       "       'uniQure N.V. - Ordinary Shares',\n",
       "       'vTv Therapeutics Inc. - Class A Common Stock',\n",
       "       'voxeljet AG American Depositary Shares, each representing one-fifth of an ordinary share/'],\n",
       "      dtype=object)"
      ]
     },
     "execution_count": 11,
     "metadata": {},
     "output_type": "execute_result"
    }
   ],
   "source": [
    "list_of_comp_names"
   ]
  },
  {
   "cell_type": "code",
   "execution_count": 12,
   "metadata": {},
   "outputs": [],
   "source": [
    "stock_meta_df = stock_info.loadStockMetaDf()"
   ]
  },
  {
   "cell_type": "markdown",
   "metadata": {},
   "source": [
    "Load news data frame from csv file\n",
    "- original data was received use an API, the process of this is in loadArticles script"
   ]
  },
  {
   "cell_type": "code",
   "execution_count": 13,
   "metadata": {},
   "outputs": [
    {
     "data": {
      "text/html": [
       "<div>\n",
       "<style scoped>\n",
       "    .dataframe tbody tr th:only-of-type {\n",
       "        vertical-align: middle;\n",
       "    }\n",
       "\n",
       "    .dataframe tbody tr th {\n",
       "        vertical-align: top;\n",
       "    }\n",
       "\n",
       "    .dataframe thead th {\n",
       "        text-align: right;\n",
       "    }\n",
       "</style>\n",
       "<table border=\"1\" class=\"dataframe\">\n",
       "  <thead>\n",
       "    <tr style=\"text-align: right;\">\n",
       "      <th></th>\n",
       "      <th>ticker</th>\n",
       "      <th>title</th>\n",
       "      <th>sentiment</th>\n",
       "      <th>date</th>\n",
       "    </tr>\n",
       "  </thead>\n",
       "  <tbody>\n",
       "    <tr>\n",
       "      <th>0</th>\n",
       "      <td>FB</td>\n",
       "      <td>By Refusing to Act, Is Zuckerberg Hurting Face...</td>\n",
       "      <td>Neutral</td>\n",
       "      <td>Sat, 06 Jun 2020 12:23:00 -0400</td>\n",
       "    </tr>\n",
       "    <tr>\n",
       "      <th>1</th>\n",
       "      <td>FB</td>\n",
       "      <td>Zuckerberg: Facebook will review policies afte...</td>\n",
       "      <td>Neutral</td>\n",
       "      <td>Sat, 06 Jun 2020 00:24:13 -0400</td>\n",
       "    </tr>\n",
       "    <tr>\n",
       "      <th>2</th>\n",
       "      <td>FB</td>\n",
       "      <td>Facebook, Instagram Take Down Trump George Flo...</td>\n",
       "      <td>Neutral</td>\n",
       "      <td>Fri, 05 Jun 2020 23:50:21 -0400</td>\n",
       "    </tr>\n",
       "    <tr>\n",
       "      <th>3</th>\n",
       "      <td>FB</td>\n",
       "      <td>After Employee Backlash Over Trump Posts, Zuck...</td>\n",
       "      <td>Neutral</td>\n",
       "      <td>Fri, 05 Jun 2020 22:36:29 -0400</td>\n",
       "    </tr>\n",
       "    <tr>\n",
       "      <th>4</th>\n",
       "      <td>FB</td>\n",
       "      <td>Facebook's Zuckerberg promises a review of con...</td>\n",
       "      <td>Neutral</td>\n",
       "      <td>Fri, 05 Jun 2020 20:23:01 -0400</td>\n",
       "    </tr>\n",
       "    <tr>\n",
       "      <th>...</th>\n",
       "      <td>...</td>\n",
       "      <td>...</td>\n",
       "      <td>...</td>\n",
       "      <td>...</td>\n",
       "    </tr>\n",
       "    <tr>\n",
       "      <th>291208</th>\n",
       "      <td>ZTS</td>\n",
       "      <td>Will Boeing go lower? #AskHalftime</td>\n",
       "      <td>Neutral</td>\n",
       "      <td>Wed, 12 Feb 2020 13:48:26 -0500</td>\n",
       "    </tr>\n",
       "    <tr>\n",
       "      <th>291209</th>\n",
       "      <td>ZTS</td>\n",
       "      <td>Zoetis (ZTS) to Report Q4 Earnings: What's in ...</td>\n",
       "      <td>Neutral</td>\n",
       "      <td>Mon, 10 Feb 2020 09:25:00 -0500</td>\n",
       "    </tr>\n",
       "    <tr>\n",
       "      <th>291210</th>\n",
       "      <td>ZTS</td>\n",
       "      <td>Zoetis (ZTS) Earnings Expected to Grow: Should...</td>\n",
       "      <td>Positive</td>\n",
       "      <td>Thu, 06 Feb 2020 12:31:08 -0500</td>\n",
       "    </tr>\n",
       "    <tr>\n",
       "      <th>291211</th>\n",
       "      <td>ZTS</td>\n",
       "      <td>Zoetis Inc. (ZTS) CEO Kristin Peck on Q4 2019 ...</td>\n",
       "      <td>Neutral</td>\n",
       "      <td>Thu, 13 Feb 2020 15:30:46 -0500</td>\n",
       "    </tr>\n",
       "    <tr>\n",
       "      <th>291212</th>\n",
       "      <td>ZTS</td>\n",
       "      <td>Zoetis CEO: Banking on Man’s Best Friend? - Ma...</td>\n",
       "      <td>Neutral</td>\n",
       "      <td>Mon, 18 Feb 2019 19:00:00 -0500</td>\n",
       "    </tr>\n",
       "  </tbody>\n",
       "</table>\n",
       "<p>291213 rows × 4 columns</p>\n",
       "</div>"
      ],
      "text/plain": [
       "       ticker                                              title sentiment  \\\n",
       "0          FB  By Refusing to Act, Is Zuckerberg Hurting Face...   Neutral   \n",
       "1          FB  Zuckerberg: Facebook will review policies afte...   Neutral   \n",
       "2          FB  Facebook, Instagram Take Down Trump George Flo...   Neutral   \n",
       "3          FB  After Employee Backlash Over Trump Posts, Zuck...   Neutral   \n",
       "4          FB  Facebook's Zuckerberg promises a review of con...   Neutral   \n",
       "...       ...                                                ...       ...   \n",
       "291208    ZTS                 Will Boeing go lower? #AskHalftime   Neutral   \n",
       "291209    ZTS  Zoetis (ZTS) to Report Q4 Earnings: What's in ...   Neutral   \n",
       "291210    ZTS  Zoetis (ZTS) Earnings Expected to Grow: Should...  Positive   \n",
       "291211    ZTS  Zoetis Inc. (ZTS) CEO Kristin Peck on Q4 2019 ...   Neutral   \n",
       "291212    ZTS  Zoetis CEO: Banking on Man’s Best Friend? - Ma...   Neutral   \n",
       "\n",
       "                                   date  \n",
       "0       Sat, 06 Jun 2020 12:23:00 -0400  \n",
       "1       Sat, 06 Jun 2020 00:24:13 -0400  \n",
       "2       Fri, 05 Jun 2020 23:50:21 -0400  \n",
       "3       Fri, 05 Jun 2020 22:36:29 -0400  \n",
       "4       Fri, 05 Jun 2020 20:23:01 -0400  \n",
       "...                                 ...  \n",
       "291208  Wed, 12 Feb 2020 13:48:26 -0500  \n",
       "291209  Mon, 10 Feb 2020 09:25:00 -0500  \n",
       "291210  Thu, 06 Feb 2020 12:31:08 -0500  \n",
       "291211  Thu, 13 Feb 2020 15:30:46 -0500  \n",
       "291212  Mon, 18 Feb 2019 19:00:00 -0500  \n",
       "\n",
       "[291213 rows x 4 columns]"
      ]
     },
     "execution_count": 13,
     "metadata": {},
     "output_type": "execute_result"
    }
   ],
   "source": [
    "#load news data from csv\n",
    "news_df = pd.read_csv(\"../data/news/final_news_sent.csv\")\n",
    "news_df"
   ]
  },
  {
   "cell_type": "code",
   "execution_count": 14,
   "metadata": {},
   "outputs": [
    {
     "data": {
      "text/plain": [
       "ticker       object\n",
       "title        object\n",
       "sentiment    object\n",
       "date         object\n",
       "dtype: object"
      ]
     },
     "execution_count": 14,
     "metadata": {},
     "output_type": "execute_result"
    }
   ],
   "source": [
    "#check types and fix if possible\n",
    "news_df.dtypes"
   ]
  },
  {
   "cell_type": "code",
   "execution_count": 15,
   "metadata": {},
   "outputs": [],
   "source": [
    "#convert date to datetime object\n",
    "news_df['date'] = pd.to_datetime(pd.to_datetime(news_df['date'], utc=True).dt.date)"
   ]
  },
  {
   "cell_type": "markdown",
   "metadata": {},
   "source": [
    "## Data Anaysis"
   ]
  },
  {
   "cell_type": "code",
   "execution_count": 16,
   "metadata": {},
   "outputs": [
    {
     "data": {
      "text/plain": [
       "date           0\n",
       "open         649\n",
       "high         649\n",
       "low          649\n",
       "close        649\n",
       "adj_close    649\n",
       "volume       649\n",
       "symbol         0\n",
       "name           0\n",
       "dtype: int64"
      ]
     },
     "execution_count": 16,
     "metadata": {},
     "output_type": "execute_result"
    }
   ],
   "source": [
    "stock_df.isna().sum()"
   ]
  },
  {
   "cell_type": "markdown",
   "metadata": {},
   "source": [
    "As we see there are some NaN values but considering the number of rows it is fairly insignificant and as such will just be dropped."
   ]
  },
  {
   "cell_type": "code",
   "execution_count": 17,
   "metadata": {},
   "outputs": [],
   "source": [
    "#check to see if any rows are NaN\n",
    "stock_df.dropna(inplace=True)"
   ]
  },
  {
   "cell_type": "code",
   "execution_count": 18,
   "metadata": {},
   "outputs": [
    {
     "data": {
      "text/plain": [
       "date         0\n",
       "open         0\n",
       "high         0\n",
       "low          0\n",
       "close        0\n",
       "adj_close    0\n",
       "volume       0\n",
       "symbol       0\n",
       "name         0\n",
       "dtype: int64"
      ]
     },
     "execution_count": 18,
     "metadata": {},
     "output_type": "execute_result"
    }
   ],
   "source": [
    "stock_df.isna().sum()"
   ]
  },
  {
   "cell_type": "code",
   "execution_count": 19,
   "metadata": {},
   "outputs": [
    {
     "data": {
      "text/plain": [
       "ticker       0\n",
       "title        0\n",
       "sentiment    0\n",
       "date         0\n",
       "dtype: int64"
      ]
     },
     "execution_count": 19,
     "metadata": {},
     "output_type": "execute_result"
    }
   ],
   "source": [
    "#check for any NaN values in news_df\n",
    "news_df.isna().sum()"
   ]
  },
  {
   "cell_type": "markdown",
   "metadata": {},
   "source": [
    "Now to do some EDA we will check to see the distribution of News Data, I am not very concerned about the stock data, as at this point my focus is on text analysis and sentiment predictions."
   ]
  },
  {
   "cell_type": "code",
   "execution_count": 20,
   "metadata": {},
   "outputs": [],
   "source": [
    "#check distribution of News Articles and their Sentiment\n",
    "plt.figure(figsize=(10,7))\n",
    "sns.barplot(x=news_df['sentiment'].value_counts().index, y=news_df['sentiment'].value_counts())\n",
    "plt.xlabel(\"Sentiment (Positive - Neutral - Negative)\", size=14)\n",
    "plt.ylabel(\"Number of Headlines\", size=14)\n",
    "plt.title(\"Count of Headlines by Sentiment\", size=18)\n",
    "plt.show()"
   ]
  },
  {
   "cell_type": "markdown",
   "metadata": {},
   "source": [
    "As we can see their is a serious distribution issue between Positive and Negative which we are more concerned about. So I will be sure to resample based on the positive and negative sentiment to create more equal distribution."
   ]
  },
  {
   "cell_type": "code",
   "execution_count": 21,
   "metadata": {},
   "outputs": [
    {
     "data": {
      "text/html": [
       "<div>\n",
       "<style scoped>\n",
       "    .dataframe tbody tr th:only-of-type {\n",
       "        vertical-align: middle;\n",
       "    }\n",
       "\n",
       "    .dataframe tbody tr th {\n",
       "        vertical-align: top;\n",
       "    }\n",
       "\n",
       "    .dataframe thead th {\n",
       "        text-align: right;\n",
       "    }\n",
       "</style>\n",
       "<table border=\"1\" class=\"dataframe\">\n",
       "  <thead>\n",
       "    <tr style=\"text-align: right;\">\n",
       "      <th></th>\n",
       "      <th></th>\n",
       "      <th>ticker</th>\n",
       "      <th>title</th>\n",
       "    </tr>\n",
       "    <tr>\n",
       "      <th>date</th>\n",
       "      <th>sentiment</th>\n",
       "      <th></th>\n",
       "      <th></th>\n",
       "    </tr>\n",
       "  </thead>\n",
       "  <tbody>\n",
       "    <tr>\n",
       "      <th rowspan=\"3\" valign=\"top\">2001-11-30</th>\n",
       "      <th>Negative</th>\n",
       "      <td>1</td>\n",
       "      <td>1</td>\n",
       "    </tr>\n",
       "    <tr>\n",
       "      <th>Neutral</th>\n",
       "      <td>1</td>\n",
       "      <td>1</td>\n",
       "    </tr>\n",
       "    <tr>\n",
       "      <th>Positive</th>\n",
       "      <td>1</td>\n",
       "      <td>1</td>\n",
       "    </tr>\n",
       "    <tr>\n",
       "      <th>2016-02-27</th>\n",
       "      <th>Positive</th>\n",
       "      <td>4</td>\n",
       "      <td>4</td>\n",
       "    </tr>\n",
       "    <tr>\n",
       "      <th>2016-12-23</th>\n",
       "      <th>Neutral</th>\n",
       "      <td>1</td>\n",
       "      <td>1</td>\n",
       "    </tr>\n",
       "    <tr>\n",
       "      <th>...</th>\n",
       "      <th>...</th>\n",
       "      <td>...</td>\n",
       "      <td>...</td>\n",
       "    </tr>\n",
       "    <tr>\n",
       "      <th rowspan=\"2\" valign=\"top\">2020-06-09</th>\n",
       "      <th>Neutral</th>\n",
       "      <td>154</td>\n",
       "      <td>154</td>\n",
       "    </tr>\n",
       "    <tr>\n",
       "      <th>Positive</th>\n",
       "      <td>190</td>\n",
       "      <td>190</td>\n",
       "    </tr>\n",
       "    <tr>\n",
       "      <th rowspan=\"3\" valign=\"top\">2020-06-10</th>\n",
       "      <th>Negative</th>\n",
       "      <td>69</td>\n",
       "      <td>69</td>\n",
       "    </tr>\n",
       "    <tr>\n",
       "      <th>Neutral</th>\n",
       "      <td>136</td>\n",
       "      <td>136</td>\n",
       "    </tr>\n",
       "    <tr>\n",
       "      <th>Positive</th>\n",
       "      <td>179</td>\n",
       "      <td>179</td>\n",
       "    </tr>\n",
       "  </tbody>\n",
       "</table>\n",
       "<p>1766 rows × 2 columns</p>\n",
       "</div>"
      ],
      "text/plain": [
       "                      ticker  title\n",
       "date       sentiment               \n",
       "2001-11-30 Negative        1      1\n",
       "           Neutral         1      1\n",
       "           Positive        1      1\n",
       "2016-02-27 Positive        4      4\n",
       "2016-12-23 Neutral         1      1\n",
       "...                      ...    ...\n",
       "2020-06-09 Neutral       154    154\n",
       "           Positive      190    190\n",
       "2020-06-10 Negative       69     69\n",
       "           Neutral       136    136\n",
       "           Positive      179    179\n",
       "\n",
       "[1766 rows x 2 columns]"
      ]
     },
     "execution_count": 21,
     "metadata": {},
     "output_type": "execute_result"
    }
   ],
   "source": [
    "news_df.groupby(['date', 'sentiment']).count()"
   ]
  },
  {
   "cell_type": "markdown",
   "metadata": {},
   "source": [
    "As we can see we have a huge gap between a few news articles so we will remove everything before 2016"
   ]
  },
  {
   "cell_type": "code",
   "execution_count": 22,
   "metadata": {},
   "outputs": [
    {
     "data": {
      "text/plain": [
       "ticker               object\n",
       "title                object\n",
       "sentiment            object\n",
       "date         datetime64[ns]\n",
       "dtype: object"
      ]
     },
     "execution_count": 22,
     "metadata": {},
     "output_type": "execute_result"
    }
   ],
   "source": [
    "news_df.dtypes"
   ]
  },
  {
   "cell_type": "code",
   "execution_count": 23,
   "metadata": {},
   "outputs": [],
   "source": [
    "news_df = news_df[news_df['date'] > '2016-01-01']"
   ]
  },
  {
   "cell_type": "code",
   "execution_count": 24,
   "metadata": {},
   "outputs": [],
   "source": [
    "#get sentiment and date values\n",
    "grouped_sent_df = news_df.groupby(['date', 'sentiment']).count()['ticker'].to_frame().reset_index()"
   ]
  },
  {
   "cell_type": "code",
   "execution_count": 25,
   "metadata": {},
   "outputs": [
    {
     "data": {
      "text/plain": [
       "0      2016-02-27\n",
       "2      2016-12-23\n",
       "3      2016-12-24\n",
       "4      2016-12-27\n",
       "6      2016-12-28\n",
       "          ...    \n",
       "1750   2020-06-06\n",
       "1753   2020-06-07\n",
       "1756   2020-06-08\n",
       "1759   2020-06-09\n",
       "1762   2020-06-10\n",
       "Name: date, Length: 504, dtype: datetime64[ns]"
      ]
     },
     "execution_count": 25,
     "metadata": {},
     "output_type": "execute_result"
    }
   ],
   "source": [
    "grouped_sent_df.query(\"sentiment == 'Positive'\")['date']"
   ]
  },
  {
   "cell_type": "code",
   "execution_count": 26,
   "metadata": {},
   "outputs": [],
   "source": [
    "#Check distribution by date\n",
    "plt.figure(figsize=(12,10))\n",
    "plt.scatter(grouped_sent_df.query(\"sentiment == 'Positive'\")['date'], grouped_sent_df.query(\"sentiment == 'Positive'\")['ticker'], label='Positive Sentiment')\n",
    "plt.scatter(grouped_sent_df.query(\"sentiment == 'Negative'\")['date'], grouped_sent_df.query(\"sentiment == 'Negative'\")['ticker'], label='Negative Sentiment')\n",
    "plt.scatter(grouped_sent_df.query(\"sentiment == 'Neutral'\")['date'], grouped_sent_df.query(\"sentiment == 'Neutral'\")['ticker'], label='Neutral Sentiment')\n",
    "plt.xlabel(\"Date\", size=14)\n",
    "plt.ylabel(\"Number of Articles\", size=14)\n",
    "plt.title(\"News Sentiment by Date\", size=18)\n",
    "plt.legend()\n",
    "plt.show()\n",
    "plt.savefig(\"news_sentiment_by_date.png\")"
   ]
  },
  {
   "cell_type": "markdown",
   "metadata": {},
   "source": [
    "We can see there is clearly a severe distribution issue over time. There is no point in analyzing the articles before 2018-01 as there are so few. They will be dropped."
   ]
  },
  {
   "cell_type": "code",
   "execution_count": 27,
   "metadata": {},
   "outputs": [],
   "source": [
    "#drop all rows which are from before 2018 \n",
    "news_df = news_df[news_df['date'] > '2018-01-01']\n",
    "news_df = news_df.reset_index(drop=True)"
   ]
  },
  {
   "cell_type": "markdown",
   "metadata": {},
   "source": [
    "Now that everything is clean we can begin to process the text data, we will begin with one hot encoding the sentiment to create a vector for later use. As well, we will label encode for use with CountVectorizer and TF-IDF Vectorizer."
   ]
  },
  {
   "cell_type": "markdown",
   "metadata": {},
   "source": [
    "## Text Processing & Cleaning"
   ]
  },
  {
   "cell_type": "code",
   "execution_count": 28,
   "metadata": {},
   "outputs": [],
   "source": [
    "#create one hot encoder and label encoder\n",
    "onehotEncoder = OneHotEncoder()\n",
    "labelEncoder = LabelEncoder()"
   ]
  },
  {
   "cell_type": "code",
   "execution_count": 29,
   "metadata": {},
   "outputs": [],
   "source": [
    "#create label encoding for logistic regression and decision tree\n",
    "news_df['sentiment_value'] = labelEncoder.fit_transform(news_df['sentiment'])"
   ]
  },
  {
   "cell_type": "code",
   "execution_count": 30,
   "metadata": {},
   "outputs": [],
   "source": [
    "#create one hot encoding and add to news data frame for neural network\n",
    "news_df = news_df.join(pd.DataFrame(onehotEncoder.fit_transform(news_df[['sentiment_value']]).toarray(), columns=['is_negative', 'is_neutral', 'is_positive']))"
   ]
  },
  {
   "cell_type": "code",
   "execution_count": 31,
   "metadata": {},
   "outputs": [
    {
     "data": {
      "text/html": [
       "<div>\n",
       "<style scoped>\n",
       "    .dataframe tbody tr th:only-of-type {\n",
       "        vertical-align: middle;\n",
       "    }\n",
       "\n",
       "    .dataframe tbody tr th {\n",
       "        vertical-align: top;\n",
       "    }\n",
       "\n",
       "    .dataframe thead th {\n",
       "        text-align: right;\n",
       "    }\n",
       "</style>\n",
       "<table border=\"1\" class=\"dataframe\">\n",
       "  <thead>\n",
       "    <tr style=\"text-align: right;\">\n",
       "      <th></th>\n",
       "      <th>ticker</th>\n",
       "      <th>title</th>\n",
       "      <th>sentiment</th>\n",
       "      <th>date</th>\n",
       "      <th>sentiment_value</th>\n",
       "      <th>is_negative</th>\n",
       "      <th>is_neutral</th>\n",
       "      <th>is_positive</th>\n",
       "    </tr>\n",
       "  </thead>\n",
       "  <tbody>\n",
       "    <tr>\n",
       "      <th>0</th>\n",
       "      <td>FB</td>\n",
       "      <td>By Refusing to Act, Is Zuckerberg Hurting Face...</td>\n",
       "      <td>Neutral</td>\n",
       "      <td>2020-06-06</td>\n",
       "      <td>1</td>\n",
       "      <td>0.0</td>\n",
       "      <td>1.0</td>\n",
       "      <td>0.0</td>\n",
       "    </tr>\n",
       "    <tr>\n",
       "      <th>1</th>\n",
       "      <td>FB</td>\n",
       "      <td>Zuckerberg: Facebook will review policies afte...</td>\n",
       "      <td>Neutral</td>\n",
       "      <td>2020-06-06</td>\n",
       "      <td>1</td>\n",
       "      <td>0.0</td>\n",
       "      <td>1.0</td>\n",
       "      <td>0.0</td>\n",
       "    </tr>\n",
       "    <tr>\n",
       "      <th>2</th>\n",
       "      <td>FB</td>\n",
       "      <td>Facebook, Instagram Take Down Trump George Flo...</td>\n",
       "      <td>Neutral</td>\n",
       "      <td>2020-06-06</td>\n",
       "      <td>1</td>\n",
       "      <td>0.0</td>\n",
       "      <td>1.0</td>\n",
       "      <td>0.0</td>\n",
       "    </tr>\n",
       "    <tr>\n",
       "      <th>3</th>\n",
       "      <td>FB</td>\n",
       "      <td>After Employee Backlash Over Trump Posts, Zuck...</td>\n",
       "      <td>Neutral</td>\n",
       "      <td>2020-06-06</td>\n",
       "      <td>1</td>\n",
       "      <td>0.0</td>\n",
       "      <td>1.0</td>\n",
       "      <td>0.0</td>\n",
       "    </tr>\n",
       "    <tr>\n",
       "      <th>4</th>\n",
       "      <td>FB</td>\n",
       "      <td>Facebook's Zuckerberg promises a review of con...</td>\n",
       "      <td>Neutral</td>\n",
       "      <td>2020-06-06</td>\n",
       "      <td>1</td>\n",
       "      <td>0.0</td>\n",
       "      <td>1.0</td>\n",
       "      <td>0.0</td>\n",
       "    </tr>\n",
       "  </tbody>\n",
       "</table>\n",
       "</div>"
      ],
      "text/plain": [
       "  ticker                                              title sentiment  \\\n",
       "0     FB  By Refusing to Act, Is Zuckerberg Hurting Face...   Neutral   \n",
       "1     FB  Zuckerberg: Facebook will review policies afte...   Neutral   \n",
       "2     FB  Facebook, Instagram Take Down Trump George Flo...   Neutral   \n",
       "3     FB  After Employee Backlash Over Trump Posts, Zuck...   Neutral   \n",
       "4     FB  Facebook's Zuckerberg promises a review of con...   Neutral   \n",
       "\n",
       "        date  sentiment_value  is_negative  is_neutral  is_positive  \n",
       "0 2020-06-06                1          0.0         1.0          0.0  \n",
       "1 2020-06-06                1          0.0         1.0          0.0  \n",
       "2 2020-06-06                1          0.0         1.0          0.0  \n",
       "3 2020-06-06                1          0.0         1.0          0.0  \n",
       "4 2020-06-06                1          0.0         1.0          0.0  "
      ]
     },
     "execution_count": 31,
     "metadata": {},
     "output_type": "execute_result"
    }
   ],
   "source": [
    "news_df.head()"
   ]
  },
  {
   "cell_type": "markdown",
   "metadata": {},
   "source": [
    "I will perform upsampling now before we move onto CountVectorizer or TF-IDF so we can perform that with balanced data"
   ]
  },
  {
   "cell_type": "code",
   "execution_count": 32,
   "metadata": {},
   "outputs": [],
   "source": [
    "#set X and y for resample\n",
    "X = news_df.drop(columns=['is_negative'])\n",
    "y = news_df['is_negative']"
   ]
  },
  {
   "cell_type": "code",
   "execution_count": 33,
   "metadata": {},
   "outputs": [
    {
     "name": "stdout",
     "output_type": "stream",
     "text": [
      "Number of Negative Reviews Before: (49086, 7)\n",
      "Number of Negative Reviews Before: (133711, 7)\n"
     ]
    }
   ],
   "source": [
    "#now we will resample to blance news data set\n",
    "print(f\"Number of Negative Reviews Before: {X[y==1].shape}\")\n",
    "\n",
    "#upsample negative reviews to try and compensate for imbalance\n",
    "X_upsample, y_upsample = resample(X[y == 1], y[y == 1], replace=True, n_samples=X[X['is_positive'] == 1].shape[0], random_state=123)\n",
    "\n",
    "print(f\"Number of Negative Reviews Before: {X_upsample.shape}\")"
   ]
  },
  {
   "cell_type": "code",
   "execution_count": 34,
   "metadata": {},
   "outputs": [],
   "source": [
    "#combine upsample with original for balanced set\n",
    "X_balanced = np.vstack((X[y == 0], X_upsample))\n",
    "y_balanced = np.hstack((y[y == 0], y_upsample))"
   ]
  },
  {
   "cell_type": "code",
   "execution_count": 35,
   "metadata": {},
   "outputs": [],
   "source": [
    "x_df = pd.DataFrame(X_balanced, columns=['ticker', 'title','sentiment', 'date', 'sentiment_value', 'is_neutral', 'is_positive'])\n",
    "y_df = pd.DataFrame(y_balanced, columns=['is_negative'])"
   ]
  },
  {
   "cell_type": "code",
   "execution_count": 217,
   "metadata": {},
   "outputs": [
    {
     "name": "stdout",
     "output_type": "stream",
     "text": [
      "Balanced News DF Shape: (375811, 8)\n"
     ]
    },
    {
     "data": {
      "text/html": [
       "<div>\n",
       "<style scoped>\n",
       "    .dataframe tbody tr th:only-of-type {\n",
       "        vertical-align: middle;\n",
       "    }\n",
       "\n",
       "    .dataframe tbody tr th {\n",
       "        vertical-align: top;\n",
       "    }\n",
       "\n",
       "    .dataframe thead th {\n",
       "        text-align: right;\n",
       "    }\n",
       "</style>\n",
       "<table border=\"1\" class=\"dataframe\">\n",
       "  <thead>\n",
       "    <tr style=\"text-align: right;\">\n",
       "      <th></th>\n",
       "      <th>ticker</th>\n",
       "      <th>title</th>\n",
       "      <th>sentiment</th>\n",
       "      <th>date</th>\n",
       "      <th>sentiment_value</th>\n",
       "      <th>is_neutral</th>\n",
       "      <th>is_positive</th>\n",
       "      <th>is_negative</th>\n",
       "    </tr>\n",
       "  </thead>\n",
       "  <tbody>\n",
       "    <tr>\n",
       "      <th>0</th>\n",
       "      <td>FB</td>\n",
       "      <td>By Refusing to Act, Is Zuckerberg Hurting Face...</td>\n",
       "      <td>Neutral</td>\n",
       "      <td>2020-06-06</td>\n",
       "      <td>1</td>\n",
       "      <td>1</td>\n",
       "      <td>0</td>\n",
       "      <td>0.0</td>\n",
       "    </tr>\n",
       "    <tr>\n",
       "      <th>1</th>\n",
       "      <td>FB</td>\n",
       "      <td>Zuckerberg: Facebook will review policies afte...</td>\n",
       "      <td>Neutral</td>\n",
       "      <td>2020-06-06</td>\n",
       "      <td>1</td>\n",
       "      <td>1</td>\n",
       "      <td>0</td>\n",
       "      <td>0.0</td>\n",
       "    </tr>\n",
       "    <tr>\n",
       "      <th>2</th>\n",
       "      <td>FB</td>\n",
       "      <td>Facebook, Instagram Take Down Trump George Flo...</td>\n",
       "      <td>Neutral</td>\n",
       "      <td>2020-06-06</td>\n",
       "      <td>1</td>\n",
       "      <td>1</td>\n",
       "      <td>0</td>\n",
       "      <td>0.0</td>\n",
       "    </tr>\n",
       "    <tr>\n",
       "      <th>3</th>\n",
       "      <td>FB</td>\n",
       "      <td>After Employee Backlash Over Trump Posts, Zuck...</td>\n",
       "      <td>Neutral</td>\n",
       "      <td>2020-06-06</td>\n",
       "      <td>1</td>\n",
       "      <td>1</td>\n",
       "      <td>0</td>\n",
       "      <td>0.0</td>\n",
       "    </tr>\n",
       "    <tr>\n",
       "      <th>4</th>\n",
       "      <td>FB</td>\n",
       "      <td>Facebook's Zuckerberg promises a review of con...</td>\n",
       "      <td>Neutral</td>\n",
       "      <td>2020-06-06</td>\n",
       "      <td>1</td>\n",
       "      <td>1</td>\n",
       "      <td>0</td>\n",
       "      <td>0.0</td>\n",
       "    </tr>\n",
       "  </tbody>\n",
       "</table>\n",
       "</div>"
      ],
      "text/plain": [
       "  ticker                                              title sentiment  \\\n",
       "0     FB  By Refusing to Act, Is Zuckerberg Hurting Face...   Neutral   \n",
       "1     FB  Zuckerberg: Facebook will review policies afte...   Neutral   \n",
       "2     FB  Facebook, Instagram Take Down Trump George Flo...   Neutral   \n",
       "3     FB  After Employee Backlash Over Trump Posts, Zuck...   Neutral   \n",
       "4     FB  Facebook's Zuckerberg promises a review of con...   Neutral   \n",
       "\n",
       "        date sentiment_value is_neutral is_positive  is_negative  \n",
       "0 2020-06-06               1          1           0          0.0  \n",
       "1 2020-06-06               1          1           0          0.0  \n",
       "2 2020-06-06               1          1           0          0.0  \n",
       "3 2020-06-06               1          1           0          0.0  \n",
       "4 2020-06-06               1          1           0          0.0  "
      ]
     },
     "execution_count": 217,
     "metadata": {},
     "output_type": "execute_result"
    }
   ],
   "source": [
    "#join balanced df and check shape and head\n",
    "balanced_news_df = x_df.join(y_df)\n",
    "print(f\"Balanced News DF Shape: {balanced_news_df.shape}\")\n",
    "balanced_news_df.head()"
   ]
  },
  {
   "cell_type": "code",
   "execution_count": 218,
   "metadata": {},
   "outputs": [
    {
     "data": {
      "text/plain": [
       "ticker                     object\n",
       "title                      object\n",
       "sentiment                  object\n",
       "date               datetime64[ns]\n",
       "sentiment_value            object\n",
       "is_neutral                 object\n",
       "is_positive                object\n",
       "is_negative               float64\n",
       "dtype: object"
      ]
     },
     "execution_count": 218,
     "metadata": {},
     "output_type": "execute_result"
    }
   ],
   "source": [
    "#check types\n",
    "balanced_news_df.dtypes"
   ]
  },
  {
   "cell_type": "code",
   "execution_count": 219,
   "metadata": {},
   "outputs": [],
   "source": [
    "#adjust types\n",
    "balanced_news_df = balanced_news_df.astype({'sentiment_value': 'int', 'is_neutral': 'float', 'is_positive': 'float', 'is_negative': 'float'})"
   ]
  },
  {
   "cell_type": "markdown",
   "metadata": {},
   "source": [
    "Now that we have a balanced dataset we will move to tokenization, lemmatization and removal of stop words for Bag-Of-Words approach and TF-IDF approach."
   ]
  },
  {
   "cell_type": "code",
   "execution_count": 214,
   "metadata": {},
   "outputs": [],
   "source": [
    "stock_meta_df = stock_info.loadStockMetaDf()"
   ]
  },
  {
   "cell_type": "code",
   "execution_count": 41,
   "metadata": {},
   "outputs": [],
   "source": [
    "#prep pattern for Spacy NLP\n",
    "stock_meta_df['Tag'] = 'ORG'"
   ]
  },
  {
   "cell_type": "code",
   "execution_count": 42,
   "metadata": {},
   "outputs": [],
   "source": [
    "#create spacy nlp object with added rules to use when tokenizing\n",
    "nlp = spacy.load(\"en_core_web_lg\")\n",
    "ruler = EntityRuler(nlp)\n",
    "\n",
    "#creating apattern for entity ruler\n",
    "temp_df1 = stock_meta_df.query('Symbol != \"A\"')[['Tag', 'Symbol']]\n",
    "temp_df1.columns = ['label', 'pattern']\n",
    "temp_df2 = stock_meta_df[['Tag', 'Name']]\n",
    "temp_df2.columns = ['label', 'pattern']\n",
    "\n",
    "temp_df = pd.concat([temp_df1, temp_df2])\n",
    "\n",
    "#set patterns\n",
    "patterns = temp_df.to_dict('records')\n",
    "#add patterns to ruler\n",
    "ruler.add_patterns(patterns)\n",
    "#add ruler to nlp\n",
    "nlp.add_pipe(ruler)\n",
    "\n",
    "textProcessing = tp(nlp)"
   ]
  },
  {
   "cell_type": "code",
   "execution_count": null,
   "metadata": {},
   "outputs": [],
   "source": [
    "#positive negative wordcloud based on titles\n",
    "#wordcloud\n",
    "from wordcloud import WordCloud, STOPWORDS\n",
    "\n",
    "for line in balanced_news_df[balanced_news_df['sentiment_value'] == 2]['title']:\n",
    "    pos_text += ' '.join(line)\n",
    "    \n",
    "for line in balanced_news_df[balanced_news_df['sentiment_value'] == 0]['title']:\n",
    "    neg_text += ' '.join(line)"
   ]
  },
  {
   "cell_type": "code",
   "execution_count": null,
   "metadata": {},
   "outputs": [],
   "source": [
    "#postive word cloud\n",
    "wc_pos = WordCloud(width = 800, height = 800, \n",
    "                background_color ='white', \n",
    "                stopwords = stopwords, \n",
    "                min_font_size = 10).generate(pos_text)"
   ]
  },
  {
   "cell_type": "code",
   "execution_count": null,
   "metadata": {},
   "outputs": [],
   "source": [
    "#negative word cloud\n",
    "wc_neg = WordCloud(width = 800, height = 800, \n",
    "                background_color ='white', \n",
    "                stopwords = stopwords, \n",
    "                min_font_size = 10).generate(neg_text)"
   ]
  },
  {
   "cell_type": "code",
   "execution_count": 43,
   "metadata": {},
   "outputs": [],
   "source": [
    "#train validate test split using my script with textProcessing object\n",
    "#for this split we are using sentiment value which 0 - Negative, 1 - Neutral, 2 - Positive\n",
    "X_remainder, X_test, y_remainder, y_test = textProcessing.trainTestSplit(balanced_news_df['title'], balanced_news_df['sentiment_value'])\n",
    "X_train, X_validate, y_train, y_validate = textProcessing.trainTestSplit(X_remainder, y_remainder, testSize=0.3)"
   ]
  },
  {
   "cell_type": "markdown",
   "metadata": {},
   "source": [
    "## CountVectorizer"
   ]
  },
  {
   "cell_type": "markdown",
   "metadata": {},
   "source": [
    "CountVectorizer using max_features of 1000, which still takes a very long time to run.<br>\n",
    "If you have the data stored then not too worry.<br>\n",
    "<b>DO NOT RUN UNLESS YOU HAVE LOTS OF TIME</b>"
   ]
  },
  {
   "cell_type": "code",
   "execution_count": null,
   "metadata": {},
   "outputs": [],
   "source": [
    "#check if the premade csv files are saved otherwise create new dataframes\n",
    "if os.path.exists('cvData/CountVectorizerTrainingData.csv'):\n",
    "    X_train_cv_df = pd.read_csv('cvData/CountVectorizerTrainingData.csv')\n",
    "    if os.path.exists('cvData/CountVectorizerValidationData.csv'):\n",
    "        X_validation_cv_df = pd.read_csv('cvData/CountVectorizerValidationData.csv')\n",
    "else:\n",
    "    #count vectorize using train and validate\n",
    "    X_train_cv_df, X_validate_cv_df = textProcessing.countVectorize(X_train, X_validate, c=0.01)"
   ]
  },
  {
   "cell_type": "code",
   "execution_count": 45,
   "metadata": {},
   "outputs": [
    {
     "name": "stderr",
     "output_type": "stream",
     "text": [
      "/Users/jjackson/opt/anaconda3/envs/BrainStationCapstone/lib/python3.6/site-packages/sklearn/feature_extraction/text.py:484: UserWarning: The parameter 'token_pattern' will not be used since 'tokenizer' is not None'\n",
      "  warnings.warn(\"The parameter 'token_pattern' will not be used\"\n"
     ]
    }
   ],
   "source": [
    "#count vectorize using train and validate\n",
    "X_train_cv_df, X_validate_cv_df = textProcessing.countVectorize(X_train, X_validate, c=0.01)"
   ]
  },
  {
   "cell_type": "code",
   "execution_count": 52,
   "metadata": {},
   "outputs": [],
   "source": [
    "X_train_cv_df.drop(columns=[''], inplace=True)\n",
    "X_validate_cv_df.drop(columns=[''], inplace=True)"
   ]
  },
  {
   "cell_type": "code",
   "execution_count": 53,
   "metadata": {},
   "outputs": [],
   "source": [
    "X_train_cv_df.to_csv(\"CountVectorizerTrainingData.csv\", index=False)\n",
    "X_validate_cv_df.to_csv(\"CountVectorizerValidationData.csv\", index=False)"
   ]
  },
  {
   "cell_type": "markdown",
   "metadata": {},
   "source": [
    "### CountVectorizer WordCount"
   ]
  },
  {
   "cell_type": "code",
   "execution_count": 56,
   "metadata": {},
   "outputs": [],
   "source": [
    "y_train.reset_index(drop=True,inplace=True)"
   ]
  },
  {
   "cell_type": "code",
   "execution_count": 57,
   "metadata": {},
   "outputs": [],
   "source": [
    "#get top positive and negative words for count vectorizer\n",
    "positive_word_counts = np.array(np.sum(X_train_cv_df[y_train == 2], axis=0)).reshape((-1,))\n",
    "negative_word_counts = np.array(np.sum(X_train_cv_df[y_train == 0], axis=0)).reshape((-1,))\n",
    "\n",
    "words = np.array(X_train_cv_df.columns)\n",
    "pos_words_df = pd.DataFrame({\"word\":words, \"count\":positive_word_counts})\n",
    "neg_words_df = pd.DataFrame({\"word\":words, \"count\":negative_word_counts})"
   ]
  },
  {
   "cell_type": "code",
   "execution_count": 58,
   "metadata": {},
   "outputs": [
    {
     "data": {
      "text/html": [
       "<div>\n",
       "<style scoped>\n",
       "    .dataframe tbody tr th:only-of-type {\n",
       "        vertical-align: middle;\n",
       "    }\n",
       "\n",
       "    .dataframe tbody tr th {\n",
       "        vertical-align: top;\n",
       "    }\n",
       "\n",
       "    .dataframe thead th {\n",
       "        text-align: right;\n",
       "    }\n",
       "</style>\n",
       "<table border=\"1\" class=\"dataframe\">\n",
       "  <thead>\n",
       "    <tr style=\"text-align: right;\">\n",
       "      <th></th>\n",
       "      <th>word</th>\n",
       "      <th>count</th>\n",
       "    </tr>\n",
       "  </thead>\n",
       "  <tbody>\n",
       "    <tr>\n",
       "      <th>829</th>\n",
       "      <td>stock</td>\n",
       "      <td>28949</td>\n",
       "    </tr>\n",
       "    <tr>\n",
       "      <th>267</th>\n",
       "      <td>earning</td>\n",
       "      <td>13228</td>\n",
       "    </tr>\n",
       "    <tr>\n",
       "      <th>147</th>\n",
       "      <td>buy</td>\n",
       "      <td>12537</td>\n",
       "    </tr>\n",
       "    <tr>\n",
       "      <th>309</th>\n",
       "      <td>estimate</td>\n",
       "      <td>6149</td>\n",
       "    </tr>\n",
       "    <tr>\n",
       "      <th>27</th>\n",
       "      <td>3</td>\n",
       "      <td>5847</td>\n",
       "    </tr>\n",
       "    <tr>\n",
       "      <th>37</th>\n",
       "      <td>5</td>\n",
       "      <td>5637</td>\n",
       "    </tr>\n",
       "    <tr>\n",
       "      <th>831</th>\n",
       "      <td>stock buy</td>\n",
       "      <td>5627</td>\n",
       "    </tr>\n",
       "    <tr>\n",
       "      <th>106</th>\n",
       "      <td>beat</td>\n",
       "      <td>4801</td>\n",
       "    </tr>\n",
       "    <tr>\n",
       "      <th>753</th>\n",
       "      <td>revenue</td>\n",
       "      <td>3871</td>\n",
       "    </tr>\n",
       "    <tr>\n",
       "      <th>255</th>\n",
       "      <td>dividend</td>\n",
       "      <td>3548</td>\n",
       "    </tr>\n",
       "  </tbody>\n",
       "</table>\n",
       "</div>"
      ],
      "text/plain": [
       "          word  count\n",
       "829      stock  28949\n",
       "267    earning  13228\n",
       "147        buy  12537\n",
       "309   estimate   6149\n",
       "27           3   5847\n",
       "37           5   5637\n",
       "831  stock buy   5627\n",
       "106       beat   4801\n",
       "753    revenue   3871\n",
       "255   dividend   3548"
      ]
     },
     "execution_count": 58,
     "metadata": {},
     "output_type": "execute_result"
    }
   ],
   "source": [
    "pos_words_df.sort_values(by=\"count\", ascending=False).head(10)"
   ]
  },
  {
   "cell_type": "code",
   "execution_count": 59,
   "metadata": {},
   "outputs": [
    {
     "data": {
      "text/html": [
       "<div>\n",
       "<style scoped>\n",
       "    .dataframe tbody tr th:only-of-type {\n",
       "        vertical-align: middle;\n",
       "    }\n",
       "\n",
       "    .dataframe tbody tr th {\n",
       "        vertical-align: top;\n",
       "    }\n",
       "\n",
       "    .dataframe thead th {\n",
       "        text-align: right;\n",
       "    }\n",
       "</style>\n",
       "<table border=\"1\" class=\"dataframe\">\n",
       "  <thead>\n",
       "    <tr style=\"text-align: right;\">\n",
       "      <th></th>\n",
       "      <th>word</th>\n",
       "      <th>count</th>\n",
       "    </tr>\n",
       "  </thead>\n",
       "  <tbody>\n",
       "    <tr>\n",
       "      <th>267</th>\n",
       "      <td>earning</td>\n",
       "      <td>21164</td>\n",
       "    </tr>\n",
       "    <tr>\n",
       "      <th>829</th>\n",
       "      <td>stock</td>\n",
       "      <td>16220</td>\n",
       "    </tr>\n",
       "    <tr>\n",
       "      <th>724</th>\n",
       "      <td>report</td>\n",
       "      <td>9058</td>\n",
       "    </tr>\n",
       "    <tr>\n",
       "      <th>309</th>\n",
       "      <td>estimate</td>\n",
       "      <td>8572</td>\n",
       "    </tr>\n",
       "    <tr>\n",
       "      <th>235</th>\n",
       "      <td>decline</td>\n",
       "      <td>6051</td>\n",
       "    </tr>\n",
       "    <tr>\n",
       "      <th>753</th>\n",
       "      <td>revenue</td>\n",
       "      <td>5894</td>\n",
       "    </tr>\n",
       "    <tr>\n",
       "      <th>542</th>\n",
       "      <td>miss</td>\n",
       "      <td>5569</td>\n",
       "    </tr>\n",
       "    <tr>\n",
       "      <th>657</th>\n",
       "      <td>q1</td>\n",
       "      <td>5236</td>\n",
       "    </tr>\n",
       "    <tr>\n",
       "      <th>204</th>\n",
       "      <td>coronavirus</td>\n",
       "      <td>5140</td>\n",
       "    </tr>\n",
       "    <tr>\n",
       "      <th>334</th>\n",
       "      <td>fall</td>\n",
       "      <td>5010</td>\n",
       "    </tr>\n",
       "  </tbody>\n",
       "</table>\n",
       "</div>"
      ],
      "text/plain": [
       "            word  count\n",
       "267      earning  21164\n",
       "829        stock  16220\n",
       "724       report   9058\n",
       "309     estimate   8572\n",
       "235      decline   6051\n",
       "753      revenue   5894\n",
       "542         miss   5569\n",
       "657           q1   5236\n",
       "204  coronavirus   5140\n",
       "334         fall   5010"
      ]
     },
     "execution_count": 59,
     "metadata": {},
     "output_type": "execute_result"
    }
   ],
   "source": [
    "neg_words_df.sort_values(by=\"count\", ascending=False).head(10)"
   ]
  },
  {
   "cell_type": "markdown",
   "metadata": {},
   "source": [
    "## TF-IDF Vectorizer"
   ]
  },
  {
   "cell_type": "code",
   "execution_count": 60,
   "metadata": {},
   "outputs": [
    {
     "data": {
      "text/plain": [
       "TfidfTransformer()"
      ]
     },
     "execution_count": 60,
     "metadata": {},
     "output_type": "execute_result"
    }
   ],
   "source": [
    "#use tfidf transformer on countvecorized dataframes\n",
    "from sklearn.feature_extraction.text import TfidfTransformer\n",
    "tfidf = TfidfTransformer()\n",
    "tfidf.fit(X_train_cv_df)"
   ]
  },
  {
   "cell_type": "code",
   "execution_count": 61,
   "metadata": {},
   "outputs": [],
   "source": [
    "X_train_tfidf = tfidf.transform(X_train_cv_df)\n",
    "X_validate_tfidf = tfidf.transform(X_validate_cv_df)"
   ]
  },
  {
   "cell_type": "code",
   "execution_count": 62,
   "metadata": {},
   "outputs": [],
   "source": [
    "X_train_tfidf_df = pd.DataFrame(X_train_tfidf.toarray(), columns=X_train_cv_df.columns)\n",
    "X_validate_tfidf_df = pd.DataFrame(X_validate_tfidf.toarray(), columns=X_validate_cv_df.columns)"
   ]
  },
  {
   "cell_type": "markdown",
   "metadata": {},
   "source": [
    "### TF-IDF WordCount"
   ]
  },
  {
   "cell_type": "code",
   "execution_count": 63,
   "metadata": {},
   "outputs": [],
   "source": [
    "#get top positive and negative words for tfidf vector\n",
    "positive_word_counts = np.array(np.sum(X_train_tfidf_df[y_train == 2], axis=0)).reshape((-1,))\n",
    "negative_word_counts = np.array(np.sum(X_train_tfidf_df[y_train == 0], axis=0)).reshape((-1,))\n",
    "\n",
    "words = np.array(X_train_tfidf_df.columns)\n",
    "pos_words_df = pd.DataFrame({\"word\":words, \"count\":positive_word_counts})\n",
    "neg_words_df = pd.DataFrame({\"word\":words, \"count\":negative_word_counts})"
   ]
  },
  {
   "cell_type": "code",
   "execution_count": 64,
   "metadata": {},
   "outputs": [
    {
     "data": {
      "text/html": [
       "<div>\n",
       "<style scoped>\n",
       "    .dataframe tbody tr th:only-of-type {\n",
       "        vertical-align: middle;\n",
       "    }\n",
       "\n",
       "    .dataframe tbody tr th {\n",
       "        vertical-align: top;\n",
       "    }\n",
       "\n",
       "    .dataframe thead th {\n",
       "        text-align: right;\n",
       "    }\n",
       "</style>\n",
       "<table border=\"1\" class=\"dataframe\">\n",
       "  <thead>\n",
       "    <tr style=\"text-align: right;\">\n",
       "      <th></th>\n",
       "      <th>word</th>\n",
       "      <th>count</th>\n",
       "    </tr>\n",
       "  </thead>\n",
       "  <tbody>\n",
       "    <tr>\n",
       "      <th>829</th>\n",
       "      <td>stock</td>\n",
       "      <td>5629.228299</td>\n",
       "    </tr>\n",
       "    <tr>\n",
       "      <th>147</th>\n",
       "      <td>buy</td>\n",
       "      <td>3625.260497</td>\n",
       "    </tr>\n",
       "    <tr>\n",
       "      <th>267</th>\n",
       "      <td>earning</td>\n",
       "      <td>2375.367305</td>\n",
       "    </tr>\n",
       "    <tr>\n",
       "      <th>27</th>\n",
       "      <td>3</td>\n",
       "      <td>1977.223747</td>\n",
       "    </tr>\n",
       "    <tr>\n",
       "      <th>831</th>\n",
       "      <td>stock buy</td>\n",
       "      <td>1951.502070</td>\n",
       "    </tr>\n",
       "    <tr>\n",
       "      <th>37</th>\n",
       "      <td>5</td>\n",
       "      <td>1932.035064</td>\n",
       "    </tr>\n",
       "    <tr>\n",
       "      <th>106</th>\n",
       "      <td>beat</td>\n",
       "      <td>1506.740549</td>\n",
       "    </tr>\n",
       "    <tr>\n",
       "      <th>309</th>\n",
       "      <td>estimate</td>\n",
       "      <td>1492.727634</td>\n",
       "    </tr>\n",
       "    <tr>\n",
       "      <th>255</th>\n",
       "      <td>dividend</td>\n",
       "      <td>1301.847188</td>\n",
       "    </tr>\n",
       "    <tr>\n",
       "      <th>404</th>\n",
       "      <td>growth</td>\n",
       "      <td>1100.553835</td>\n",
       "    </tr>\n",
       "  </tbody>\n",
       "</table>\n",
       "</div>"
      ],
      "text/plain": [
       "          word        count\n",
       "829      stock  5629.228299\n",
       "147        buy  3625.260497\n",
       "267    earning  2375.367305\n",
       "27           3  1977.223747\n",
       "831  stock buy  1951.502070\n",
       "37           5  1932.035064\n",
       "106       beat  1506.740549\n",
       "309   estimate  1492.727634\n",
       "255   dividend  1301.847188\n",
       "404     growth  1100.553835"
      ]
     },
     "execution_count": 64,
     "metadata": {},
     "output_type": "execute_result"
    }
   ],
   "source": [
    "pos_words_df.sort_values(by=\"count\", ascending=False).head(10)"
   ]
  },
  {
   "cell_type": "code",
   "execution_count": 65,
   "metadata": {},
   "outputs": [
    {
     "data": {
      "text/html": [
       "<div>\n",
       "<style scoped>\n",
       "    .dataframe tbody tr th:only-of-type {\n",
       "        vertical-align: middle;\n",
       "    }\n",
       "\n",
       "    .dataframe tbody tr th {\n",
       "        vertical-align: top;\n",
       "    }\n",
       "\n",
       "    .dataframe thead th {\n",
       "        text-align: right;\n",
       "    }\n",
       "</style>\n",
       "<table border=\"1\" class=\"dataframe\">\n",
       "  <thead>\n",
       "    <tr style=\"text-align: right;\">\n",
       "      <th></th>\n",
       "      <th>word</th>\n",
       "      <th>count</th>\n",
       "    </tr>\n",
       "  </thead>\n",
       "  <tbody>\n",
       "    <tr>\n",
       "      <th>267</th>\n",
       "      <td>earning</td>\n",
       "      <td>3684.391401</td>\n",
       "    </tr>\n",
       "    <tr>\n",
       "      <th>829</th>\n",
       "      <td>stock</td>\n",
       "      <td>3199.334131</td>\n",
       "    </tr>\n",
       "    <tr>\n",
       "      <th>724</th>\n",
       "      <td>report</td>\n",
       "      <td>2373.350828</td>\n",
       "    </tr>\n",
       "    <tr>\n",
       "      <th>334</th>\n",
       "      <td>fall</td>\n",
       "      <td>1823.275123</td>\n",
       "    </tr>\n",
       "    <tr>\n",
       "      <th>309</th>\n",
       "      <td>estimate</td>\n",
       "      <td>1822.447678</td>\n",
       "    </tr>\n",
       "    <tr>\n",
       "      <th>235</th>\n",
       "      <td>decline</td>\n",
       "      <td>1687.533102</td>\n",
       "    </tr>\n",
       "    <tr>\n",
       "      <th>542</th>\n",
       "      <td>miss</td>\n",
       "      <td>1605.034151</td>\n",
       "    </tr>\n",
       "    <tr>\n",
       "      <th>204</th>\n",
       "      <td>coronavirus</td>\n",
       "      <td>1597.649654</td>\n",
       "    </tr>\n",
       "    <tr>\n",
       "      <th>902</th>\n",
       "      <td>today</td>\n",
       "      <td>1593.129869</td>\n",
       "    </tr>\n",
       "    <tr>\n",
       "      <th>795</th>\n",
       "      <td>share</td>\n",
       "      <td>1453.473808</td>\n",
       "    </tr>\n",
       "  </tbody>\n",
       "</table>\n",
       "</div>"
      ],
      "text/plain": [
       "            word        count\n",
       "267      earning  3684.391401\n",
       "829        stock  3199.334131\n",
       "724       report  2373.350828\n",
       "334         fall  1823.275123\n",
       "309     estimate  1822.447678\n",
       "235      decline  1687.533102\n",
       "542         miss  1605.034151\n",
       "204  coronavirus  1597.649654\n",
       "902        today  1593.129869\n",
       "795        share  1453.473808"
      ]
     },
     "execution_count": 65,
     "metadata": {},
     "output_type": "execute_result"
    }
   ],
   "source": [
    "neg_words_df.sort_values(by=\"count\", ascending=False).head(10)"
   ]
  },
  {
   "cell_type": "markdown",
   "metadata": {},
   "source": [
    "## Modeling"
   ]
  },
  {
   "cell_type": "code",
   "execution_count": 66,
   "metadata": {},
   "outputs": [],
   "source": [
    "from sklearn.metrics import confusion_matrix, ConfusionMatrixDisplay\n",
    "from sklearn.metrics import classification_report\n",
    "\n",
    "from sklearn.model_selection import GridSearchCV\n",
    "from sklearn.linear_model import LogisticRegression\n",
    "from sklearn.tree import DecisionTreeClassifier\n",
    "from sklearn.pipeline import Pipeline"
   ]
  },
  {
   "cell_type": "code",
   "execution_count": 67,
   "metadata": {},
   "outputs": [],
   "source": [
    "md = modeling(DEBUG=True)"
   ]
  },
  {
   "cell_type": "markdown",
   "metadata": {},
   "source": [
    "### Logistic Regression"
   ]
  },
  {
   "cell_type": "markdown",
   "metadata": {},
   "source": [
    "This is a GridSearchCV pipeline, which you <b>SHOULD NOT RUN IT TAKES A LONG TIME</b>"
   ]
  },
  {
   "cell_type": "code",
   "execution_count": null,
   "metadata": {},
   "outputs": [],
   "source": [
    "#create pipeline for logistic regression\n",
    "pipe = Pipeline([('model' , LogisticRegression())])\n",
    "\n",
    "# Create param grid.\n",
    "param_grid = [\n",
    "{'model': [LogisticRegression(max_iter=1000, solver='saga')], \n",
    " 'model__C': [0.001, 0.01, 0.1, 1, 10, 100]},\n",
    "{'model': [DecisionTreeClassifier()], \n",
    " 'model__max_depth': [1, 2, 5, 10, 15, 20, 25],\n",
    " 'model__min_samples_leaf': [2, 10]}\n",
    "]"
   ]
  },
  {
   "cell_type": "code",
   "execution_count": null,
   "metadata": {},
   "outputs": [],
   "source": [
    "#create GridSearch for logistic regression\n",
    "grid = GridSearchCV(pipe, param_grid, cv=5)\n",
    "fittedgrid = grid.fit(X_train_cv_df, y_train)"
   ]
  },
  {
   "cell_type": "code",
   "execution_count": null,
   "metadata": {},
   "outputs": [],
   "source": [
    "#see best params for logistic regression CountVectorizer\n",
    "fittedgrid.best_params_"
   ]
  },
  {
   "cell_type": "markdown",
   "metadata": {},
   "source": [
    "#### CountVectorizer Logistic Regression Validation"
   ]
  },
  {
   "cell_type": "code",
   "execution_count": 68,
   "metadata": {},
   "outputs": [],
   "source": [
    "#fit and build model using best params\n",
    "lr_model_cv = md.logisticRegression(X_train_cv_df, y_train, c=0.01)"
   ]
  },
  {
   "cell_type": "code",
   "execution_count": 69,
   "metadata": {},
   "outputs": [
    {
     "name": "stdout",
     "output_type": "stream",
     "text": [
      "Confusion Matrix CountVectorizer - Validation\n",
      "[[25998  2863  3053]\n",
      " [ 4322 16491  5128]\n",
      " [ 2733  4277 25330]]\n",
      "\n",
      "Classification Report CountVectorizer - Validation\n",
      "              precision    recall  f1-score   support\n",
      "\n",
      "           0       0.79      0.81      0.80     31914\n",
      "           1       0.70      0.64      0.67     25941\n",
      "           2       0.76      0.78      0.77     32340\n",
      "\n",
      "    accuracy                           0.75     90195\n",
      "   macro avg       0.75      0.74      0.74     90195\n",
      "weighted avg       0.75      0.75      0.75     90195\n",
      "\n"
     ]
    }
   ],
   "source": [
    "#classification report and confusion matrix on validation\n",
    "y_pred_cv = lr_model_cv.predict(X_validate_cv_df)\n",
    "print(\"Confusion Matrix CountVectorizer - Validation\")\n",
    "print(confusion_matrix(y_validate, y_pred_cv))\n",
    "print(\"\\nClassification Report CountVectorizer - Validation\")\n",
    "print(classification_report(y_validate, y_pred_cv))"
   ]
  },
  {
   "cell_type": "markdown",
   "metadata": {},
   "source": [
    "As we can see through the classification report, the accuracy isn't terrible. But Not good enough for determine a buying or selling point of a stock. There is too many chances of false positive or false negative outcomes. For the most part I am most concerned about the positive and negative classification, seeing as neutral will be treated as a 0 value."
   ]
  },
  {
   "cell_type": "code",
   "execution_count": 72,
   "metadata": {},
   "outputs": [
    {
     "data": {
      "text/plain": [
       "<sklearn.metrics._plot.confusion_matrix.ConfusionMatrixDisplay at 0x7fdd4dcbda90>"
      ]
     },
     "execution_count": 72,
     "metadata": {},
     "output_type": "execute_result"
    },
    {
     "data": {
      "image/png": "[encoded data removed]",
      "text/plain": [
       "<Figure size 432x288 with 2 Axes>"
      ]
     },
     "metadata": {
      "needs_background": "light"
     },
     "output_type": "display_data"
    }
   ],
   "source": [
    "#display confusion matrix\n",
    "%matplotlib inline\n",
    "ConfusionMatrixDisplay(confusion_matrix(y_validate, y_pred_cv)).plot()"
   ]
  },
  {
   "cell_type": "markdown",
   "metadata": {},
   "source": [
    "#### TF-IDF Logistic Regression Validation"
   ]
  },
  {
   "cell_type": "code",
   "execution_count": 73,
   "metadata": {},
   "outputs": [],
   "source": [
    "#fit and build model\n",
    "lr_model_tfidf = md.logisticRegression(X_train_tfidf_df, y_train, c=0.01)"
   ]
  },
  {
   "cell_type": "code",
   "execution_count": 74,
   "metadata": {},
   "outputs": [
    {
     "name": "stdout",
     "output_type": "stream",
     "text": [
      "Confusion Matrix TF-IDF - Validation\n",
      "[[26478  2118  3318]\n",
      " [ 5421 15000  5520]\n",
      " [ 3448  3433 25459]]\n",
      "\n",
      "Classification Report TF-IDF - Validation\n",
      "              precision    recall  f1-score   support\n",
      "\n",
      "           0       0.75      0.83      0.79     31914\n",
      "           1       0.73      0.58      0.65     25941\n",
      "           2       0.74      0.79      0.76     32340\n",
      "\n",
      "    accuracy                           0.74     90195\n",
      "   macro avg       0.74      0.73      0.73     90195\n",
      "weighted avg       0.74      0.74      0.74     90195\n",
      "\n"
     ]
    }
   ],
   "source": [
    "#classification report on validation\n",
    "y_pred_tfidf = lr_model_tfidf.predict(X_validate_tfidf_df)\n",
    "print(\"Confusion Matrix TF-IDF - Validation\")\n",
    "print(confusion_matrix(y_validate, y_pred_tfidf))\n",
    "print(\"\\nClassification Report TF-IDF - Validation\")\n",
    "print(classification_report(y_validate, y_pred_tfidf))"
   ]
  },
  {
   "cell_type": "markdown",
   "metadata": {},
   "source": [
    "We can see that TF-IDF vectorizer does a slightly better job at classifying each case correctly, but the difference is non-substantial. "
   ]
  },
  {
   "cell_type": "code",
   "execution_count": 75,
   "metadata": {},
   "outputs": [
    {
     "data": {
      "text/plain": [
       "<sklearn.metrics._plot.confusion_matrix.ConfusionMatrixDisplay at 0x7fdb3086b3c8>"
      ]
     },
     "execution_count": 75,
     "metadata": {},
     "output_type": "execute_result"
    },
    {
     "data": {
      "image/png": "[encoded data removed]",
      "text/plain": [
       "<Figure size 432x288 with 2 Axes>"
      ]
     },
     "metadata": {
      "needs_background": "light"
     },
     "output_type": "display_data"
    }
   ],
   "source": [
    "#display confusion matrix\n",
    "%matplotlib inline\n",
    "ConfusionMatrixDisplay(confusion_matrix(y_validate, y_pred_tfidf)).plot()"
   ]
  },
  {
   "cell_type": "markdown",
   "metadata": {},
   "source": [
    "#### CountVectorizer Logistic Regression Full Data"
   ]
  },
  {
   "cell_type": "code",
   "execution_count": null,
   "metadata": {},
   "outputs": [],
   "source": [
    "#fit on remainder and run on test set\n",
    "if os.path.exists('data/CountVectorizerRemainderData.csv'):\n",
    "    X_remainder_cv_df = pd.read_csv(\"data/CountVectorizerRemainderData.csv\")\n",
    "    if os.path.exists('data/CountVectorizerTestData.csv'):\n",
    "        X_test_cv_df = pd.read_csv(\"data/CountVectorizerTestData.csv\")\n",
    "else:\n",
    "    #count vectorize using train and validate\n",
    "    X_remainder_cv_df, X_test_cv_df = textProcessing.countVectorize(X_remainder, X_test, c=0.01)"
   ]
  },
  {
   "cell_type": "code",
   "execution_count": null,
   "metadata": {},
   "outputs": [],
   "source": []
  },
  {
   "cell_type": "markdown",
   "metadata": {},
   "source": [
    "#### TF-IDF Logistic Regression Full Data"
   ]
  },
  {
   "cell_type": "code",
   "execution_count": null,
   "metadata": {},
   "outputs": [],
   "source": []
  },
  {
   "cell_type": "markdown",
   "metadata": {},
   "source": [
    "### DecisionTree"
   ]
  },
  {
   "cell_type": "markdown",
   "metadata": {},
   "source": [
    "#### CountVectorizer Decision Tree Validation"
   ]
  },
  {
   "cell_type": "code",
   "execution_count": 88,
   "metadata": {},
   "outputs": [],
   "source": [
    "#create decision tree model for countvectorizer\n",
    "dt_model_cv = md.decisionTreeClassifier(X_train_cv_df, y_train, maxDepth=15)"
   ]
  },
  {
   "cell_type": "code",
   "execution_count": 89,
   "metadata": {},
   "outputs": [
    {
     "name": "stdout",
     "output_type": "stream",
     "text": [
      "Confusion Matrix CountVectorizer DT - Validation\n",
      "[[27734    92  4088]\n",
      " [15435  7238  3268]\n",
      " [14477   259 17604]]\n",
      "\n",
      "Classification Report CountVectorizer DT - Validation\n",
      "              precision    recall  f1-score   support\n",
      "\n",
      "           0       0.48      0.87      0.62     31914\n",
      "           1       0.95      0.28      0.43     25941\n",
      "           2       0.71      0.54      0.61     32340\n",
      "\n",
      "    accuracy                           0.58     90195\n",
      "   macro avg       0.71      0.56      0.56     90195\n",
      "weighted avg       0.70      0.58      0.56     90195\n",
      "\n"
     ]
    }
   ],
   "source": [
    "#classification report on validation\n",
    "y_pred_dt_cv = dt_model_cv.predict(X_validate_cv_df)\n",
    "print(\"Confusion Matrix CountVectorizer DT - Validation\")\n",
    "print(confusion_matrix(y_validate, y_pred_dt_cv))\n",
    "print(\"\\nClassification Report CountVectorizer DT - Validation\")\n",
    "print(classification_report(y_validate, y_pred_dt_cv))"
   ]
  },
  {
   "cell_type": "code",
   "execution_count": 90,
   "metadata": {},
   "outputs": [
    {
     "data": {
      "text/plain": [
       "<sklearn.metrics._plot.confusion_matrix.ConfusionMatrixDisplay at 0x7fdb98bbcf60>"
      ]
     },
     "execution_count": 90,
     "metadata": {},
     "output_type": "execute_result"
    },
    {
     "data": {
      "image/png": "[encoded data removed]",
      "text/plain": [
       "<Figure size 432x288 with 2 Axes>"
      ]
     },
     "metadata": {
      "needs_background": "light"
     },
     "output_type": "display_data"
    }
   ],
   "source": [
    "#display confusion matrix\n",
    "ConfusionMatrixDisplay(confusion_matrix(y_validate, y_pred_dt_cv)).plot()"
   ]
  },
  {
   "cell_type": "markdown",
   "metadata": {},
   "source": [
    "#### TF-IDF Vectorizer Decision Tree Validation"
   ]
  },
  {
   "cell_type": "code",
   "execution_count": 91,
   "metadata": {},
   "outputs": [],
   "source": [
    "#create decision tree model for tfidf\n",
    "dt_model_tfidf = md.decisionTreeClassifier(X_train_tfidf_df, y_train, maxDepth=15)"
   ]
  },
  {
   "cell_type": "code",
   "execution_count": 92,
   "metadata": {},
   "outputs": [
    {
     "name": "stdout",
     "output_type": "stream",
     "text": [
      "Confusion Matrix TF-IDF DT - Validation\n",
      "[[27884    96  3934]\n",
      " [16150  6928  2863]\n",
      " [15138   198 17004]]\n",
      "\n",
      "Classification Report TF-IDF DT - Validation\n",
      "              precision    recall  f1-score   support\n",
      "\n",
      "           0       0.47      0.87      0.61     31914\n",
      "           1       0.96      0.27      0.42     25941\n",
      "           2       0.71      0.53      0.61     32340\n",
      "\n",
      "    accuracy                           0.57     90195\n",
      "   macro avg       0.71      0.56      0.55     90195\n",
      "weighted avg       0.70      0.57      0.55     90195\n",
      "\n"
     ]
    }
   ],
   "source": [
    "#classification report on validation\n",
    "y_pred_dt_tfidf = dt_model_tfidf.predict(X_validate_tfidf_df)\n",
    "print(\"Confusion Matrix TF-IDF DT - Validation\")\n",
    "print(confusion_matrix(y_validate, y_pred_dt_tfidf))\n",
    "print(\"\\nClassification Report TF-IDF DT - Validation\")\n",
    "print(classification_report(y_validate, y_pred_dt_tfidf))"
   ]
  },
  {
   "cell_type": "code",
   "execution_count": 93,
   "metadata": {},
   "outputs": [
    {
     "data": {
      "text/plain": [
       "<sklearn.metrics._plot.confusion_matrix.ConfusionMatrixDisplay at 0x7fdb92c69dd8>"
      ]
     },
     "execution_count": 93,
     "metadata": {},
     "output_type": "execute_result"
    },
    {
     "data": {
      "image/png": "[encoded data removed]",
      "text/plain": [
       "<Figure size 432x288 with 2 Axes>"
      ]
     },
     "metadata": {
      "needs_background": "light"
     },
     "output_type": "display_data"
    }
   ],
   "source": [
    "#display confusion matrix\n",
    "ConfusionMatrixDisplay(confusion_matrix(y_validate, y_pred_dt_tfidf)).plot()"
   ]
  },
  {
   "cell_type": "markdown",
   "metadata": {},
   "source": [
    "#### CountVectorizer Decision Tree Full Data"
   ]
  },
  {
   "cell_type": "markdown",
   "metadata": {},
   "source": [
    "#### TF-IDF Decision Tree Full Data"
   ]
  },
  {
   "cell_type": "markdown",
   "metadata": {},
   "source": [
    "## TensorFlow Tokenizing and Word Embedding"
   ]
  },
  {
   "cell_type": "code",
   "execution_count": 257,
   "metadata": {},
   "outputs": [],
   "source": [
    "from tensorflow.keras.preprocessing.text import Tokenizer\n",
    "from tensorflow.keras.preprocessing.sequence import pad_sequences\n",
    "from tensorflow.keras.models import Sequential, load_model\n",
    "from tensorflow.keras.layers import Dense, Dropout, Embedding, LSTM, BatchNormalization, Flatten\n",
    "from tensorflow.keras.models import model_from_json\n",
    "from tensorflow.keras.callbacks import ModelCheckpoint, EarlyStopping, TensorBoard\n",
    "from tensorflow.keras.metrics import Recall, Precision"
   ]
  },
  {
   "cell_type": "markdown",
   "metadata": {},
   "source": [
    "Using tensorflow tokenizer I will fit on the titles, and then create text sequences. Padded to be over a specific length for the neural network."
   ]
  },
  {
   "cell_type": "code",
   "execution_count": 160,
   "metadata": {},
   "outputs": [],
   "source": [
    "import string\n",
    "import os"
   ]
  },
  {
   "cell_type": "markdown",
   "metadata": {},
   "source": [
    "<b>This takes a long time to run</b>"
   ]
  },
  {
   "cell_type": "code",
   "execution_count": null,
   "metadata": {},
   "outputs": [],
   "source": [
    "if os.path.exist('data/cleaned_title_final_news.csv')\n",
    "    balanced_news_df = pd.read_csv('data/cleaned_title_final_news.csv')"
   ]
  },
  {
   "cell_type": "code",
   "execution_count": 221,
   "metadata": {},
   "outputs": [
    {
     "name": "stdout",
     "output_type": "stream",
     "text": [
      "375810\r"
     ]
    }
   ],
   "source": [
    "#create tokenized list for each line in balanced news to prepare for tensorflow tokenizer\n",
    "for key, title in enumerate(balanced_news_df['title']):\n",
    "    balanced_news_df.loc[key, 'title'] = ' '.join(textProcessing.tokenizeSpacy(title))\n",
    "    print(key, end='\\r')"
   ]
  },
  {
   "cell_type": "code",
   "execution_count": 222,
   "metadata": {},
   "outputs": [],
   "source": [
    "#save newly pre tokenized titles in csv for later use as checkpoint\n",
    "balanced_news_df.to_csv(\"cleaned_title_final_news.csv\", index=False)"
   ]
  },
  {
   "cell_type": "code",
   "execution_count": 225,
   "metadata": {},
   "outputs": [],
   "source": [
    "#tokenize with tensorflow on a pre tokenized and cleaned list from spacy\n",
    "tk = Tokenizer(lower=True, filters=string.punctuation, split=' ')\n",
    "#fit tokenizer on training titles on data set\n",
    "tk.fit_on_texts(balanced_news_df['title'])"
   ]
  },
  {
   "cell_type": "code",
   "execution_count": 227,
   "metadata": {},
   "outputs": [
    {
     "name": "stdout",
     "output_type": "stream",
     "text": [
      "Number of Tokens: 45651\n"
     ]
    }
   ],
   "source": [
    "#len of tokens\n",
    "print(f\"Number of Tokens: {len(tk.word_index)}\")"
   ]
  },
  {
   "cell_type": "code",
   "execution_count": 228,
   "metadata": {},
   "outputs": [],
   "source": [
    "#set max_len of article headlines\n",
    "max_len = 25\n",
    "#get tokenized titles\n",
    "tokenized_title = tk.texts_to_sequences(balanced_news_df['title'])\n",
    "tokenized_title_X = pad_sequences(tokenized_title, maxlen=max_len)\n",
    "#get size of vocab after stop word removal\n",
    "vocab_size = len(tk.word_index) + 1"
   ]
  },
  {
   "cell_type": "code",
   "execution_count": 229,
   "metadata": {},
   "outputs": [],
   "source": [
    "#split data for tensorflow tokenizer\n",
    "X_remainder_tk, X_test_tk, y_remainder_tk, y_test_tk = train_test_split(tokenized_title_X,\\\n",
    "                                                                        balanced_news_df[['is_neutral', 'is_positive', 'is_negative']],\\\n",
    "                                                                        test_size = 0.2, random_state=1)\n",
    "X_train_tk, X_validate_tk, y_train_tk, y_validate_tk = train_test_split(X_remainder_tk, y_remainder_tk, test_size=0.3, random_state=1)"
   ]
  },
  {
   "cell_type": "code",
   "execution_count": 230,
   "metadata": {},
   "outputs": [],
   "source": [
    "#function to build embedding matrix\n",
    "def get_coefs(word,*arr):\n",
    "    return word, np.asarray(arr, dtype='float32')"
   ]
  },
  {
   "cell_type": "markdown",
   "metadata": {},
   "source": [
    "#### Custom Word Embeddings"
   ]
  },
  {
   "cell_type": "markdown",
   "metadata": {},
   "source": [
    "for custom embeddings I used gensim to build a bi-gram tokenization of my data. The code for this is in the script `createWord2Vec.py`"
   ]
  },
  {
   "cell_type": "code",
   "execution_count": 233,
   "metadata": {},
   "outputs": [],
   "source": [
    "#load model for custom trained models\n",
    "filename = \"../data/custom_embed_vector/too_large/bi-gram-model.txt\"\n",
    "embed_size_gensim = 250\n",
    "max_features = tokenized_title_X.max() +1\n",
    "\n",
    "#get embedding matrix\n",
    "embedding_index = dict(get_coefs(*o.strip().split(\" \")) for o in open(filename))\n",
    "word_index = tk.word_index\n",
    "\n",
    "nb_words = min(max_features, len(word_index))\n",
    "embedding_matrix_gensim = np.zeros((nb_words+1, embed_size_gensim))\n",
    "\n",
    "#create embedded word vectors\n",
    "for word, i in word_index.items():\n",
    "    if i >= max_features: continue\n",
    "    embedding_vector = embedding_index.get(word)\n",
    "    if embedding_vector is not None: embedding_matrix_gensim[i] = embedding_vector"
   ]
  },
  {
   "cell_type": "code",
   "execution_count": 234,
   "metadata": {},
   "outputs": [
    {
     "data": {
      "text/plain": [
       "(45652, 250)"
      ]
     },
     "execution_count": 234,
     "metadata": {},
     "output_type": "execute_result"
    }
   ],
   "source": [
    "#shape of custom embedding matrix\n",
    "embedding_matrix_gensim.shape"
   ]
  },
  {
   "cell_type": "markdown",
   "metadata": {},
   "source": [
    "#### Pre-Trained Word Embeddings"
   ]
  },
  {
   "cell_type": "code",
   "execution_count": 235,
   "metadata": {},
   "outputs": [],
   "source": [
    "#load model for custom trained models\n",
    "filename = '../data/custom_embed_vector/too_large/GoogleNews-vectors-negative300.txt'\n",
    "embed_size_goog = 300\n",
    "max_features = len(tk.word_index) + 1\n",
    "\n",
    "#get embedding matrix\n",
    "embedding_index = dict(get_coefs(*o.strip().split(\" \")) for o in open(filename))\n",
    "word_index = tk.word_index\n",
    "\n",
    "nb_words = min(max_features, len(word_index))\n",
    "embedding_matrix_goog = np.zeros((nb_words + 1, embed_size_goog))\n",
    "\n",
    "#create embedded word vectors\n",
    "for word, i in word_index.items():\n",
    "    if i >= max_features: continue\n",
    "    embedding_vector = embedding_index.get(word)\n",
    "    if embedding_vector is not None: embedding_matrix_goog[i] = embedding_vector"
   ]
  },
  {
   "cell_type": "code",
   "execution_count": 236,
   "metadata": {},
   "outputs": [
    {
     "data": {
      "text/plain": [
       "(45652, 300)"
      ]
     },
     "execution_count": 236,
     "metadata": {},
     "output_type": "execute_result"
    }
   ],
   "source": [
    "#shape of google embedding matrix\n",
    "embedding_matrix_goog.shape"
   ]
  },
  {
   "cell_type": "markdown",
   "metadata": {},
   "source": [
    "### LSTM - RNN"
   ]
  },
  {
   "cell_type": "markdown",
   "metadata": {},
   "source": [
    "Using tensorflow keras, I created a basic LSTM RNN model. In time I would like to make it more advanced but due to computational limitations, I couldn't produce a more advanced model at this time."
   ]
  },
  {
   "cell_type": "markdown",
   "metadata": {},
   "source": [
    "- I did create this model and the ability to build in a script as part of my package, but for display purpose I will write the code here a well\n",
    "- There are two models one for the custom embeddings, and one for the pre-trained embeddings"
   ]
  },
  {
   "cell_type": "code",
   "execution_count": 237,
   "metadata": {},
   "outputs": [],
   "source": [
    "#create callbacks for both models equal\n",
    "my_callbacks = [\n",
    "    #ensure that we dont overfit\n",
    "    EarlyStopping(patience=3),\n",
    "    #save models at checkpoints to make evauation later easier (not needed for demo)\n",
    "    ModelCheckpoint(filepath='model.{epoch:02d}-{val_loss:.2f}.h5'),\n",
    "    #logging (not needed for demo)\n",
    "#     TensorBoard(log_dir='./logs')\n",
    "]"
   ]
  },
  {
   "cell_type": "markdown",
   "metadata": {},
   "source": [
    "#### Custom Model"
   ]
  },
  {
   "cell_type": "code",
   "execution_count": 238,
   "metadata": {},
   "outputs": [],
   "source": [
    "#create model\n",
    "model1 = Sequential()\n",
    "model1.add(Embedding(vocab_size, embed_size_gensim, weights=[embedding_matrix_gensim], input_length=25, trainable=False))\n",
    "model1.add(LSTM(200, return_sequences=True))\n",
    "model1.add(Dropout(0.2))\n",
    "model1.add(LSTM(100))\n",
    "model1.add(Flatten())\n",
    "model1.add(Dense(3, activation='softmax'))\n",
    "\n",
    "#compile model\n",
    "model1.compile(loss = 'categorical_crossentropy',\n",
    "             optimizer='adam',\n",
    "             metrics = ['accuracy', Recall(), Precision()])"
   ]
  },
  {
   "cell_type": "code",
   "execution_count": 239,
   "metadata": {},
   "outputs": [
    {
     "name": "stdout",
     "output_type": "stream",
     "text": [
      "Model: \"sequential_3\"\n",
      "_________________________________________________________________\n",
      "Layer (type)                 Output Shape              Param #   \n",
      "=================================================================\n",
      "embedding_3 (Embedding)      (None, 25, 250)           11413000  \n",
      "_________________________________________________________________\n",
      "lstm_6 (LSTM)                (None, 25, 200)           360800    \n",
      "_________________________________________________________________\n",
      "dropout_3 (Dropout)          (None, 25, 200)           0         \n",
      "_________________________________________________________________\n",
      "lstm_7 (LSTM)                (None, 100)               120400    \n",
      "_________________________________________________________________\n",
      "flatten_3 (Flatten)          (None, 100)               0         \n",
      "_________________________________________________________________\n",
      "dense_3 (Dense)              (None, 3)                 303       \n",
      "=================================================================\n",
      "Total params: 11,894,503\n",
      "Trainable params: 481,503\n",
      "Non-trainable params: 11,413,000\n",
      "_________________________________________________________________\n"
     ]
    }
   ],
   "source": [
    "#see model summary\n",
    "model1.summary()"
   ]
  },
  {
   "cell_type": "code",
   "execution_count": 240,
   "metadata": {
    "scrolled": true
   },
   "outputs": [
    {
     "name": "stdout",
     "output_type": "stream",
     "text": [
      "Epoch 1/50\n",
      "3289/3289 [==============================] - 297s 90ms/step - loss: 0.6911 - accuracy: 0.6842 - recall_2: 0.5647 - precision_2: 0.7852 - val_loss: 0.6239 - val_accuracy: 0.7184 - val_recall_2: 0.6026 - val_precision_2: 0.8199\n",
      "Epoch 2/50\n",
      "3289/3289 [==============================] - 321s 98ms/step - loss: 0.5923 - accuracy: 0.7380 - recall_2: 0.6495 - precision_2: 0.8156 - val_loss: 0.5856 - val_accuracy: 0.7421 - val_recall_2: 0.6666 - val_precision_2: 0.8068\n",
      "Epoch 3/50\n",
      "3289/3289 [==============================] - 319s 97ms/step - loss: 0.5436 - accuracy: 0.7622 - recall_2: 0.6880 - precision_2: 0.8280 - val_loss: 0.5271 - val_accuracy: 0.7688 - val_recall_2: 0.7062 - val_precision_2: 0.8294\n",
      "Epoch 4/50\n",
      "3289/3289 [==============================] - 383s 116ms/step - loss: 0.5023 - accuracy: 0.7818 - recall_2: 0.7201 - precision_2: 0.8389 - val_loss: 0.5006 - val_accuracy: 0.7828 - val_recall_2: 0.7214 - val_precision_2: 0.8383\n",
      "Epoch 5/50\n",
      "3289/3289 [==============================] - 395s 120ms/step - loss: 0.4642 - accuracy: 0.8008 - recall_2: 0.7500 - precision_2: 0.8489 - val_loss: 0.4711 - val_accuracy: 0.7989 - val_recall_2: 0.7516 - val_precision_2: 0.8420\n",
      "Epoch 6/50\n",
      "3289/3289 [==============================] - 313s 95ms/step - loss: 0.4300 - accuracy: 0.8175 - recall_2: 0.7746 - precision_2: 0.8571 - val_loss: 0.4546 - val_accuracy: 0.8096 - val_recall_2: 0.7700 - val_precision_2: 0.8457\n",
      "Epoch 7/50\n",
      "3289/3289 [==============================] - 313s 95ms/step - loss: 0.3992 - accuracy: 0.8315 - recall_2: 0.7952 - precision_2: 0.8655 - val_loss: 0.4417 - val_accuracy: 0.8169 - val_recall_2: 0.7819 - val_precision_2: 0.8502\n",
      "Epoch 8/50\n",
      "3289/3289 [==============================] - 328s 100ms/step - loss: 0.3734 - accuracy: 0.8437 - recall_2: 0.8131 - precision_2: 0.8723 - val_loss: 0.4379 - val_accuracy: 0.8203 - val_recall_2: 0.7948 - val_precision_2: 0.8476\n",
      "Epoch 9/50\n",
      "3289/3289 [==============================] - 309s 94ms/step - loss: 0.3506 - accuracy: 0.8550 - recall_2: 0.8291 - precision_2: 0.8795 - val_loss: 0.4376 - val_accuracy: 0.8246 - val_recall_2: 0.7999 - val_precision_2: 0.8503\n",
      "Epoch 10/50\n",
      "3289/3289 [==============================] - 311s 94ms/step - loss: 0.3311 - accuracy: 0.8634 - recall_2: 0.8403 - precision_2: 0.8852 - val_loss: 0.4267 - val_accuracy: 0.8322 - val_recall_2: 0.8115 - val_precision_2: 0.8529\n",
      "Epoch 11/50\n",
      "3289/3289 [==============================] - 321s 98ms/step - loss: 0.3144 - accuracy: 0.8711 - recall_2: 0.8515 - precision_2: 0.8903 - val_loss: 0.4163 - val_accuracy: 0.8380 - val_recall_2: 0.8169 - val_precision_2: 0.8589\n",
      "Epoch 12/50\n",
      "3289/3289 [==============================] - 318s 97ms/step - loss: 0.2993 - accuracy: 0.8772 - recall_2: 0.8598 - precision_2: 0.8947 - val_loss: 0.4258 - val_accuracy: 0.8419 - val_recall_2: 0.8256 - val_precision_2: 0.8581\n",
      "Epoch 13/50\n",
      "3289/3289 [==============================] - 331s 101ms/step - loss: 0.2855 - accuracy: 0.8843 - recall_2: 0.8681 - precision_2: 0.8994 - val_loss: 0.4160 - val_accuracy: 0.8442 - val_recall_2: 0.8292 - val_precision_2: 0.8597\n",
      "Epoch 14/50\n",
      "3289/3289 [==============================] - 318s 97ms/step - loss: 0.2751 - accuracy: 0.8885 - recall_2: 0.8741 - precision_2: 0.9028 - val_loss: 0.4138 - val_accuracy: 0.8466 - val_recall_2: 0.8320 - val_precision_2: 0.8614\n",
      "Epoch 15/50\n",
      "3289/3289 [==============================] - 329s 100ms/step - loss: 0.2648 - accuracy: 0.8921 - recall_2: 0.8795 - precision_2: 0.9054 - val_loss: 0.4185 - val_accuracy: 0.8493 - val_recall_2: 0.8368 - val_precision_2: 0.8636\n",
      "Epoch 16/50\n",
      "3289/3289 [==============================] - 329s 100ms/step - loss: 0.2551 - accuracy: 0.8969 - recall_2: 0.8847 - precision_2: 0.9094 - val_loss: 0.4229 - val_accuracy: 0.8505 - val_recall_2: 0.8378 - val_precision_2: 0.8643\n",
      "Epoch 17/50\n",
      "3289/3289 [==============================] - 325s 99ms/step - loss: 0.2482 - accuracy: 0.9001 - recall_2: 0.8886 - precision_2: 0.9118 - val_loss: 0.4334 - val_accuracy: 0.8500 - val_recall_2: 0.8375 - val_precision_2: 0.8619\n"
     ]
    }
   ],
   "source": [
    "#check to see if model file exists otherwise fit and train model\n",
    "if os.path.exists('model/SimpleRNN_custom.h5'):\n",
    "    model1 = load_model('model/SimpleRNN_custom.h5')\n",
    "else:\n",
    "    #fit model for evaluation\n",
    "    model1.fit(X_train_tk, y_train_tk,\n",
    "             batch_size=64,\n",
    "             verbose=1,\n",
    "             epochs=50,\n",
    "             validation_data=(X_validate_tk, y_validate_tk),\n",
    "             callbacks=my_callbacks)"
   ]
  },
  {
   "cell_type": "code",
   "execution_count": 250,
   "metadata": {},
   "outputs": [
    {
     "name": "stdout",
     "output_type": "stream",
     "text": [
      "1175/1175 [==============================] - 25s 21ms/step - loss: 0.4348 - accuracy: 0.8494 - recall_2: 0.8385 - precision_2: 0.8616\n",
      "Model Custom Embedding \n",
      "Loss: 0.43\n",
      "Accuracy: 0.85\n",
      "Recall: 0.84\n",
      "Percision: 0.86\n"
     ]
    }
   ],
   "source": [
    "#evaluate on test set\n",
    "scores = model1.evaluate(X_test_tk, y_test_tk, batch_size=64)\n",
    "print(f\"Model Custom Embedding \\nLoss: {round(scores[0], 2)}\\nAccuracy: {round(scores[1], 2)}\\nRecall: {round(scores[2], 2)}\\nPercision: {round(scores[3], 2)}\")"
   ]
  },
  {
   "cell_type": "markdown",
   "metadata": {},
   "source": [
    "#### Pre-trained Model"
   ]
  },
  {
   "cell_type": "code",
   "execution_count": 251,
   "metadata": {},
   "outputs": [],
   "source": [
    "#create model\n",
    "model2 = Sequential()\n",
    "model2.add(Embedding(vocab_size, embed_size_goog, weights=[embedding_matrix_goog], input_length=25, trainable=False))\n",
    "model2.add(LSTM(200, return_sequences=True))\n",
    "model2.add(Dropout(0.2))\n",
    "model2.add(LSTM(100))\n",
    "model2.add(Flatten())\n",
    "model2.add(Dense(3, activation='softmax'))\n",
    "\n",
    "#compile model\n",
    "model2.compile(loss = 'categorical_crossentropy',\n",
    "             optimizer='adam',\n",
    "             metrics = ['accuracy', Recall(), Precision()])"
   ]
  },
  {
   "cell_type": "code",
   "execution_count": 252,
   "metadata": {},
   "outputs": [
    {
     "name": "stdout",
     "output_type": "stream",
     "text": [
      "Model: \"sequential_4\"\n",
      "_________________________________________________________________\n",
      "Layer (type)                 Output Shape              Param #   \n",
      "=================================================================\n",
      "embedding_4 (Embedding)      (None, 25, 300)           13695600  \n",
      "_________________________________________________________________\n",
      "lstm_8 (LSTM)                (None, 25, 200)           400800    \n",
      "_________________________________________________________________\n",
      "dropout_4 (Dropout)          (None, 25, 200)           0         \n",
      "_________________________________________________________________\n",
      "lstm_9 (LSTM)                (None, 100)               120400    \n",
      "_________________________________________________________________\n",
      "flatten_4 (Flatten)          (None, 100)               0         \n",
      "_________________________________________________________________\n",
      "dense_4 (Dense)              (None, 3)                 303       \n",
      "=================================================================\n",
      "Total params: 14,217,103\n",
      "Trainable params: 521,503\n",
      "Non-trainable params: 13,695,600\n",
      "_________________________________________________________________\n"
     ]
    }
   ],
   "source": [
    "#see model summary\n",
    "model2.summary()"
   ]
  },
  {
   "cell_type": "code",
   "execution_count": 255,
   "metadata": {},
   "outputs": [
    {
     "name": "stdout",
     "output_type": "stream",
     "text": [
      "Epoch 1/50\n",
      "3289/3289 [==============================] - 298s 91ms/step - loss: 0.5373 - accuracy: 0.7718 - recall_3: 0.7152 - precision_3: 0.8187 - val_loss: 0.4632 - val_accuracy: 0.8043 - val_recall_3: 0.7605 - val_precision_3: 0.8433\n",
      "Epoch 2/50\n",
      "3289/3289 [==============================] - 335s 102ms/step - loss: 0.4381 - accuracy: 0.8180 - recall_3: 0.7829 - precision_3: 0.8484 - val_loss: 0.4242 - val_accuracy: 0.8230 - val_recall_3: 0.7977 - val_precision_3: 0.8475\n",
      "Epoch 3/50\n",
      "3289/3289 [==============================] - 418s 127ms/step - loss: 0.3775 - accuracy: 0.8452 - recall_3: 0.8200 - precision_3: 0.8682 - val_loss: 0.3834 - val_accuracy: 0.8432 - val_recall_3: 0.8229 - val_precision_3: 0.8624\n",
      "Epoch 4/50\n",
      "3289/3289 [==============================] - 359s 109ms/step - loss: 0.3227 - accuracy: 0.8686 - recall_3: 0.8508 - precision_3: 0.8859 - val_loss: 0.3556 - val_accuracy: 0.8572 - val_recall_3: 0.8392 - val_precision_3: 0.8743\n",
      "Epoch 5/50\n",
      "3289/3289 [==============================] - 333s 101ms/step - loss: 0.2754 - accuracy: 0.8890 - recall_3: 0.8763 - precision_3: 0.9016 - val_loss: 0.3498 - val_accuracy: 0.8672 - val_recall_3: 0.8569 - val_precision_3: 0.8776\n",
      "Epoch 6/50\n",
      "3289/3289 [==============================] - 347s 105ms/step - loss: 0.2343 - accuracy: 0.9061 - recall_3: 0.8964 - precision_3: 0.9160 - val_loss: 0.3561 - val_accuracy: 0.8723 - val_recall_3: 0.8649 - val_precision_3: 0.8807\n",
      "Epoch 7/50\n",
      "3289/3289 [==============================] - 339s 103ms/step - loss: 0.2015 - accuracy: 0.9201 - recall_3: 0.9130 - precision_3: 0.9277 - val_loss: 0.3426 - val_accuracy: 0.8779 - val_recall_3: 0.8690 - val_precision_3: 0.8871\n",
      "Epoch 8/50\n",
      "3289/3289 [==============================] - 342s 104ms/step - loss: 0.1729 - accuracy: 0.9321 - recall_3: 0.9261 - precision_3: 0.9386 - val_loss: 0.3627 - val_accuracy: 0.8811 - val_recall_3: 0.8743 - val_precision_3: 0.8880\n",
      "Epoch 9/50\n",
      "3289/3289 [==============================] - 347s 106ms/step - loss: 0.1501 - accuracy: 0.9412 - recall_3: 0.9363 - precision_3: 0.9468 - val_loss: 0.3793 - val_accuracy: 0.8830 - val_recall_3: 0.8779 - val_precision_3: 0.8884\n",
      "Epoch 10/50\n",
      "3289/3289 [==============================] - 353s 107ms/step - loss: 0.1326 - accuracy: 0.9479 - recall_3: 0.9438 - precision_3: 0.9524 - val_loss: 0.4063 - val_accuracy: 0.8828 - val_recall_3: 0.8785 - val_precision_3: 0.8879\n"
     ]
    }
   ],
   "source": [
    "#check if fitted model already exists otherwise train\n",
    "if os.path.exists('model/SimpleRNN_pretrain.h5'):\n",
    "    model2 = load_model('model/SimpleRNN_pretrain.h5')\n",
    "else:\n",
    "    #fit model for evaluation\n",
    "    model2.fit(X_train_tk, y_train_tk,\n",
    "             batch_size=64,\n",
    "             verbose=1,\n",
    "             epochs=50,\n",
    "             validation_data=(X_validate_tk, y_validate_tk),\n",
    "             callbacks=my_callbacks)"
   ]
  },
  {
   "cell_type": "code",
   "execution_count": 256,
   "metadata": {},
   "outputs": [
    {
     "name": "stdout",
     "output_type": "stream",
     "text": [
      "1175/1175 [==============================] - 28s 24ms/step - loss: 0.4097 - accuracy: 0.8835 - recall_3: 0.8792 - precision_3: 0.8882\n",
      "Model Pre-Train Embedding \n",
      "Loss: 0.41\n",
      "Accuracy: 0.88\n",
      "Recall: 0.88\n",
      "Percision: 0.89\n"
     ]
    }
   ],
   "source": [
    "#evaluate on test set\n",
    "scores = model2.evaluate(X_test_tk, y_test_tk, batch_size=64)\n",
    "print(f\"Model Pre-Train Embedding \\nLoss: {round(scores[0], 2)}\\nAccuracy: {round(scores[1], 2)}\\nRecall: {round(scores[2], 2)}\\nPercision: {round(scores[3], 2)}\")"
   ]
  }
 ],
 "metadata": {
  "kernelspec": {
   "display_name": "BrainStationCapstone",
   "language": "python",
   "name": "brainstationcapstone"
  },
  "language_info": {
   "codemirror_mode": {
    "name": "ipython",
    "version": 3
   },
   "file_extension": ".py",
   "mimetype": "text/x-python",
   "name": "python",
   "nbconvert_exporter": "python",
   "pygments_lexer": "ipython3",
   "version": "3.6.10"
  }
 },
 "nbformat": 4,
 "nbformat_minor": 4
}
